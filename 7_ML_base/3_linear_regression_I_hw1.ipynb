{
 "cells": [
  {
   "cell_type": "markdown",
   "metadata": {
    "colab_type": "text",
    "id": "2Yqjm1HzBzVB"
   },
   "source": [
    "### Урок 1. Домашняя работа\n",
    "\n",
    "Есть два набора точек - *x_hw* и *y_hw*. В рамках домашней работы нужно\n",
    "* визуализировать набор точек\n",
    "* найти коэффициенты регрессии $w_0, w_1$ по шагам, как в уроке\n",
    "* посчитать предсказание в виде $\\hat{y} = w_0 + w_1x$ и визуализировать его вместе с точками *x_hw* и *y_hw*"
   ]
  },
  {
   "cell_type": "code",
   "execution_count": 19,
   "metadata": {
    "colab": {},
    "colab_type": "code",
    "id": "MX9ehtBOBzVC"
   },
   "outputs": [],
   "source": [
    "x_hw = [50, 60, 70, 100]\n",
    "y_hw = [10, 15, 40, 45]"
   ]
  },
  {
   "cell_type": "code",
   "execution_count": 20,
   "metadata": {},
   "outputs": [
    {
     "data": {
      "image/png": "[encoded data removed]",
      "text/plain": [
       "<Figure size 432x288 with 1 Axes>"
      ]
     },
     "metadata": {
      "needs_background": "light"
     },
     "output_type": "display_data"
    }
   ],
   "source": [
    "from matplotlib import pyplot as plt\n",
    "%matplotlib inline\n",
    "\n",
    "plt.scatter(x_hw, y_hw, 80, 'b', '*', alpha=0.8)\n",
    "plt.show()"
   ]
  },
  {
   "cell_type": "code",
   "execution_count": 21,
   "metadata": {},
   "outputs": [
    {
     "data": {
      "text/plain": [
       "array([[  1,  50],\n",
       "       [  1,  60],\n",
       "       [  1,  70],\n",
       "       [  1, 100]])"
      ]
     },
     "execution_count": 21,
     "metadata": {},
     "output_type": "execute_result"
    }
   ],
   "source": [
    "import numpy as np\n",
    "\n",
    "X = np.array([np.ones((4), 'int'), np.array(x_hw)]).T.reshape(4, 2)\n",
    "\n",
    "X"
   ]
  },
  {
   "cell_type": "code",
   "execution_count": 22,
   "metadata": {},
   "outputs": [
    {
     "data": {
      "text/plain": [
       "array([[10],\n",
       "       [15],\n",
       "       [40],\n",
       "       [45]])"
      ]
     },
     "execution_count": 22,
     "metadata": {},
     "output_type": "execute_result"
    }
   ],
   "source": [
    "Y = np.array(y_hw).reshape((4, 1))\n",
    "\n",
    "Y"
   ]
  },
  {
   "cell_type": "code",
   "execution_count": 23,
   "metadata": {},
   "outputs": [
    {
     "name": "stdout",
     "output_type": "stream",
     "text": [
      "w_1=-22.50000, w_2=0.714\n"
     ]
    }
   ],
   "source": [
    "from numpy.linalg import inv\n",
    "\n",
    "w = inv((X.T).dot(X)).dot(X.T).dot(Y)\n",
    "\n",
    "print(\"w_1=%.5f, w_2=%.3f\" % (w[0][0],w[1][0]))"
   ]
  },
  {
   "cell_type": "code",
   "execution_count": 24,
   "metadata": {},
   "outputs": [
    {
     "data": {
      "image/png": "[encoded data removed]",
      "text/plain": [
       "<Figure size 432x288 with 1 Axes>"
      ]
     },
     "metadata": {
      "needs_background": "light"
     },
     "output_type": "display_data"
    }
   ],
   "source": [
    "margin = 10\n",
    "X_min = X[:, 1].min() - margin\n",
    "X_max = X[:, 1].max() + margin\n",
    "\n",
    "X_support = np.linspace(X_min, X_max, num=100)\n",
    "Y_model = w[0][0] + w[1][0]*X_support\n",
    "\n",
    "plt.xlim(X_min, X_max)\n",
    "plt.ylim(0, Y.max() + margin)\n",
    "plt.scatter(X[:, 1], Y[:,0], 80, 'b', '*', alpha=0.8)\n",
    "plt.plot(X_support, Y_model)\n",
    "\n",
    "plt.show()"
   ]
  }
 ],
 "metadata": {
  "colab": {
   "name": "jun_ml_linear_regression_I_hw1.ipynb",
   "provenance": []
  },
  "kernelspec": {
   "display_name": "Python 3",
   "language": "python",
   "name": "python3"
  },
  "language_info": {
   "codemirror_mode": {
    "name": "ipython",
    "version": 3
   },
   "file_extension": ".py",
   "mimetype": "text/x-python",
   "name": "python",
   "nbconvert_exporter": "python",
   "pygments_lexer": "ipython3",
   "version": "3.7.6"
  }
 },
 "nbformat": 4,
 "nbformat_minor": 1
}
