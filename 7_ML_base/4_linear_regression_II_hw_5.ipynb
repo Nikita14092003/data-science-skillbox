{
 "cells": [
  {
   "cell_type": "markdown",
   "metadata": {
    "colab_type": "text",
    "id": "NTvgYjVhnE6h"
   },
   "source": [
    "### Урок 5. Домашняя работа\n",
    "\n",
    "**Задача высокого уровня** В реализацию функции `gradient` добавьте параметр $\\lambda$, чтобы получить регуляризованный градиентный спуск\n",
    "\n",
    "Формула поменяется следующим образом:\n",
    "$$\n",
    "\\left\\{\n",
    "\\begin{array}{cc}\n",
    "\\frac{\\partial L}{\\partial w_0} = \\frac{2}{n}\\cdot(-1)\\cdot \\sum_{i=1}^{n} (1\\cdot \\left(y_i - \\sum_{j=1}^{m}w_jx_j^i\\right) + \\lambda\\cdot 2\\cdot w_0)&\\\\\n",
    "\\frac{\\partial L}{\\partial w_k} = \\frac{2}{n}\\cdot(-1)\\cdot \\sum_{i=1}^{n} (x_k^i \\cdot\\left(y_i - \\sum_{j=1}^{m}w_jx_j^i\\right) + \\lambda\\cdot 2\\cdot w_k)& k\\neq 0 \\\\\n",
    "\\end{array}\n",
    "\\right.\n",
    "$$\n",
    "\n",
    "### Применяла немного другую формулу:\n",
    "$2\\lambda w_k$ не должно суммироваться n раз в каждой частной производной. $\\lambda\\sum_{j=0}^{m}w_j$ при взятии частной производной по $w_k$ превращается в $2\\lambda w_k$, остальные слагаемые обнуляются\n",
    "$$\n",
    "\\left\\{\n",
    "\\begin{array}{cc}\n",
    "\\frac{\\partial L}{\\partial w_0} = \\frac{2\\cdot(-1)\\cdot \\sum_{i=1}^{n} \\left(1\\cdot \\left(y_i - \\sum_{j=1}^{m}w_jx_j^i\\right)\\right) + \\lambda\\cdot 2\\cdot w_0}{n} &\\\\\n",
    "\\frac{\\partial L}{\\partial w_k} = \\frac{2\\cdot(-1)\\cdot \\sum_{i=1}^{n} \\left(x_k^i \\cdot\\left(y_i - \\sum_{j=1}^{m}w_jx_j^i\\right)\\right) + \\lambda\\cdot 2\\cdot w_k}{n} & k\\neq 0 \\\\\n",
    "\\end{array}\n",
    "\\right.\n",
    "$$"
   ]
  },
  {
   "cell_type": "code",
   "execution_count": 4,
   "metadata": {
    "colab": {},
    "colab_type": "code",
    "id": "zxpLYBR9PuBe"
   },
   "outputs": [
    {
     "data": {
      "text/html": [
       "<div>\n",
       "<style scoped>\n",
       "    .dataframe tbody tr th:only-of-type {\n",
       "        vertical-align: middle;\n",
       "    }\n",
       "\n",
       "    .dataframe tbody tr th {\n",
       "        vertical-align: top;\n",
       "    }\n",
       "\n",
       "    .dataframe thead th {\n",
       "        text-align: right;\n",
       "    }\n",
       "</style>\n",
       "<table border=\"1\" class=\"dataframe\">\n",
       "  <thead>\n",
       "    <tr style=\"text-align: right;\">\n",
       "      <th></th>\n",
       "      <th>x_train</th>\n",
       "      <th>y_train</th>\n",
       "    </tr>\n",
       "  </thead>\n",
       "  <tbody>\n",
       "    <tr>\n",
       "      <th>5</th>\n",
       "      <td>1.182421</td>\n",
       "      <td>1.860341</td>\n",
       "    </tr>\n",
       "    <tr>\n",
       "      <th>6</th>\n",
       "      <td>1.251605</td>\n",
       "      <td>1.878928</td>\n",
       "    </tr>\n",
       "    <tr>\n",
       "      <th>7</th>\n",
       "      <td>1.270474</td>\n",
       "      <td>2.430015</td>\n",
       "    </tr>\n",
       "    <tr>\n",
       "      <th>8</th>\n",
       "      <td>1.402553</td>\n",
       "      <td>2.327856</td>\n",
       "    </tr>\n",
       "    <tr>\n",
       "      <th>9</th>\n",
       "      <td>1.427711</td>\n",
       "      <td>2.203649</td>\n",
       "    </tr>\n",
       "  </tbody>\n",
       "</table>\n",
       "</div>"
      ],
      "text/plain": [
       "    x_train   y_train\n",
       "5  1.182421  1.860341\n",
       "6  1.251605  1.878928\n",
       "7  1.270474  2.430015\n",
       "8  1.402553  2.327856\n",
       "9  1.427711  2.203649"
      ]
     },
     "execution_count": 4,
     "metadata": {},
     "output_type": "execute_result"
    }
   ],
   "source": [
    "import numpy as np\n",
    "import pandas as pd\n",
    "\n",
    "data = pd.read_csv('non_linear.csv', sep=',')\n",
    "data = data[(data.x_train > 1) & (data.x_train < 5)].copy()\n",
    "data.head()"
   ]
  },
  {
   "cell_type": "code",
   "execution_count": 5,
   "metadata": {},
   "outputs": [
    {
     "data": {
      "image/png": "[encoded data removed]",
      "text/plain": [
       "<Figure size 432x288 with 1 Axes>"
      ]
     },
     "metadata": {
      "needs_background": "light"
     },
     "output_type": "display_data"
    }
   ],
   "source": [
    "import matplotlib.pyplot as plt\n",
    "%matplotlib inline\n",
    "\n",
    "# основной график\n",
    "plt.scatter(data.x_train, data.y_train, 40, 'g', 'o', alpha=0.8, label='data')\n",
    "plt.show()"
   ]
  },
  {
   "cell_type": "code",
   "execution_count": 82,
   "metadata": {},
   "outputs": [],
   "source": [
    "from scipy.spatial import distance\n",
    "import numpy as np\n",
    "import matplotlib.pyplot as plt\n",
    "%matplotlib inline\n",
    "\n",
    "def gradient(X, y, w, l) -> np.array:\n",
    "    # количество обучающих примеров в выборке\n",
    "    n = X.shape[0]\n",
    "    # считаем прогноз\n",
    "    y_hat = X.dot(w.T)\n",
    "    # вычисляем ошибку прогноза\n",
    "    error = y - y_hat\n",
    "    # дальше pointwise перемножение - умножаем каждую из координат на ошибку\n",
    "    grad = (np.multiply(X, error).sum(axis=0)*(-1.0)*2.0 + 2.0*l*w) / n\n",
    "    return grad, error"
   ]
  },
  {
   "cell_type": "code",
   "execution_count": 45,
   "metadata": {},
   "outputs": [],
   "source": [
    "def eval_w_next(X, y, eta, w_current, l):\n",
    "    # вычисляем градиент\n",
    "    grad, error = gradient(X, y, w_current, l)\n",
    "    # делаем шаг градиентного спуска\n",
    "    w_next = w_current - eta*grad\n",
    "    # проверяем условие сходимости\n",
    "    weight_evolution = distance.euclidean(w_current, w_next)\n",
    "    return (w_next, weight_evolution, grad)"
   ]
  },
  {
   "cell_type": "code",
   "execution_count": 73,
   "metadata": {},
   "outputs": [],
   "source": [
    "def gradient_descent(X: np.array, y: np.array, eta=0.01, epsilon=0.001, l=0) -> np.array:\n",
    "    m = X.shape[1] # количество фичей\n",
    "    # инициализируем рандомом веса\n",
    "    w = np.random.default_rng(seed=42).random(m).reshape(1, -1)\n",
    "    w_next, weight_evolution, grad = eval_w_next(X, y, eta, w, l)\n",
    "    step = 0\n",
    "    # повторяем до сходимости вектора весов\n",
    "    while weight_evolution > epsilon:\n",
    "        w = w_next\n",
    "        w_next, weight_evolution, grad = eval_w_next(X, y, eta, w, l)\n",
    "        step += 1\n",
    "        if step % 100 ==0:\n",
    "            print(\"step %s |w-w_next|=%.5f, grad=%s\" % (step, weight_evolution, grad))\n",
    "    return w"
   ]
  },
  {
   "cell_type": "code",
   "execution_count": 83,
   "metadata": {},
   "outputs": [],
   "source": [
    "# трансформируем плоский массив X в вектор-столбец\n",
    "X = data['x_train'].values.reshape(-1, 1)\n",
    "n = X.shape[0]\n",
    "# добавляем тривиальный признак w_0, столбец из единиц. См. прошлый урок, почему так\n",
    "X = np.hstack([\n",
    "    np.ones(n).reshape(-1,1),\n",
    "    X\n",
    "])"
   ]
  },
  {
   "cell_type": "code",
   "execution_count": 84,
   "metadata": {},
   "outputs": [
    {
     "name": "stdout",
     "output_type": "stream",
     "text": [
      "step 100 |w-w_next|=0.00389, grad=[[-0.46703532  0.13491723]]\n",
      "step 200 |w-w_next|=0.00320, grad=[[-0.38433542  0.11102686]]\n",
      "step 300 |w-w_next|=0.00263, grad=[[-0.31627953  0.09136687]]\n",
      "step 400 |w-w_next|=0.00217, grad=[[-0.26027459  0.07518815]]\n",
      "step 500 |w-w_next|=0.00178, grad=[[-0.21418668  0.06187427]]\n",
      "step 600 |w-w_next|=0.00147, grad=[[-0.17625974  0.05091793]]\n",
      "step 700 |w-w_next|=0.00121, grad=[[-0.14504869  0.04190168]]\n"
     ]
    }
   ],
   "source": [
    "# первый раз проверяем с lambda=0\n",
    "w = gradient_descent(X, data['y_train'].values.reshape(-1, 1), epsilon=0.001, eta=0.008)"
   ]
  },
  {
   "cell_type": "code",
   "execution_count": 114,
   "metadata": {},
   "outputs": [
    {
     "name": "stdout",
     "output_type": "stream",
     "text": [
      "step 100 |w-w_next|=0.00117, grad=[[-0.24967681  1.14283999]]\n",
      "step 200 |w-w_next|=0.00055, grad=[[-0.49311826  0.24611344]]\n",
      "step 300 |w-w_next|=0.00053, grad=[[-0.50406612  0.15565068]]\n",
      "step 400 |w-w_next|=0.00051, grad=[[-0.49284473  0.14334468]]\n",
      "step 500 |w-w_next|=0.00050, grad=[[-0.47980756  0.13870093]]\n",
      "step 600 |w-w_next|=0.00049, grad=[[-0.46691622  0.13489192]]\n",
      "step 700 |w-w_next|=0.00047, grad=[[-0.45435199  0.13125413]]\n",
      "step 800 |w-w_next|=0.00046, grad=[[-0.44212398  0.12772091]]\n",
      "step 900 |w-w_next|=0.00045, grad=[[-0.43022488  0.12428342]]\n",
      "step 1000 |w-w_next|=0.00044, grad=[[-0.41864601  0.12093851]]\n",
      "step 1100 |w-w_next|=0.00042, grad=[[-0.40737877  0.11768362]]\n",
      "step 1200 |w-w_next|=0.00041, grad=[[-0.39641477  0.11451634]]\n",
      "step 1300 |w-w_next|=0.00040, grad=[[-0.38574585  0.1114343 ]]\n",
      "step 1400 |w-w_next|=0.00039, grad=[[-0.37536407  0.10843521]]\n",
      "step 1500 |w-w_next|=0.00038, grad=[[-0.3652617   0.10551684]]\n",
      "step 1600 |w-w_next|=0.00037, grad=[[-0.35543122  0.10267701]]\n",
      "step 1700 |w-w_next|=0.00036, grad=[[-0.34586531  0.09991361]]\n",
      "step 1800 |w-w_next|=0.00035, grad=[[-0.33655686  0.09722458]]\n",
      "step 1900 |w-w_next|=0.00034, grad=[[-0.32749892  0.09460792]]\n",
      "step 2000 |w-w_next|=0.00033, grad=[[-0.31868477  0.09206169]]\n",
      "step 2100 |w-w_next|=0.00032, grad=[[-0.31010784  0.08958399]]\n",
      "step 2200 |w-w_next|=0.00031, grad=[[-0.30176174  0.08717297]]\n",
      "step 2300 |w-w_next|=0.00031, grad=[[-0.29364027  0.08482683]]\n",
      "step 2400 |w-w_next|=0.00030, grad=[[-0.28573738  0.08254384]]\n",
      "step 2500 |w-w_next|=0.00029, grad=[[-0.27804718  0.0803223 ]]\n",
      "step 2600 |w-w_next|=0.00028, grad=[[-0.27056395  0.07816054]]\n",
      "step 2700 |w-w_next|=0.00027, grad=[[-0.26328211  0.07605697]]\n",
      "step 2800 |w-w_next|=0.00027, grad=[[-0.25619626  0.07401   ]]\n",
      "step 2900 |w-w_next|=0.00026, grad=[[-0.24930112  0.07201813]]\n",
      "step 3000 |w-w_next|=0.00025, grad=[[-0.24259155  0.07007987]]\n",
      "step 3100 |w-w_next|=0.00025, grad=[[-0.23606255  0.06819378]]\n",
      "step 3200 |w-w_next|=0.00024, grad=[[-0.22970928  0.06635844]]\n",
      "step 3300 |w-w_next|=0.00023, grad=[[-0.22352699  0.0645725 ]]\n",
      "step 3400 |w-w_next|=0.00023, grad=[[-0.21751109  0.06283463]]\n",
      "step 3500 |w-w_next|=0.00022, grad=[[-0.2116571   0.06114353]]\n",
      "step 3600 |w-w_next|=0.00021, grad=[[-0.20596066  0.05949794]]\n",
      "step 3700 |w-w_next|=0.00021, grad=[[-0.20041753  0.05789664]]\n",
      "step 3800 |w-w_next|=0.00020, grad=[[-0.19502359  0.05633844]]\n",
      "step 3900 |w-w_next|=0.00020, grad=[[-0.18977482  0.05482217]]\n",
      "step 4000 |w-w_next|=0.00019, grad=[[-0.18466731  0.05334671]]\n",
      "step 4100 |w-w_next|=0.00019, grad=[[-0.17969726  0.05191096]]\n",
      "step 4200 |w-w_next|=0.00018, grad=[[-0.17486097  0.05051386]]\n",
      "step 4300 |w-w_next|=0.00018, grad=[[-0.17015485  0.04915435]]\n",
      "step 4400 |w-w_next|=0.00017, grad=[[-0.16557538  0.04783143]]\n",
      "step 4500 |w-w_next|=0.00017, grad=[[-0.16111916  0.04654412]]\n",
      "step 4600 |w-w_next|=0.00016, grad=[[-0.15678288  0.04529145]]\n",
      "step 4700 |w-w_next|=0.00016, grad=[[-0.1525633  0.0440725]]\n",
      "step 4800 |w-w_next|=0.00015, grad=[[-0.14845728  0.04288635]]\n",
      "step 4900 |w-w_next|=0.00015, grad=[[-0.14446177  0.04173213]]\n",
      "step 5000 |w-w_next|=0.00015, grad=[[-0.14057379  0.04060897]]\n",
      "step 5100 |w-w_next|=0.00014, grad=[[-0.13679046  0.03951604]]\n",
      "step 5200 |w-w_next|=0.00014, grad=[[-0.13310894  0.03845253]]\n",
      "step 5300 |w-w_next|=0.00013, grad=[[-0.12952651  0.03741763]]\n",
      "step 5400 |w-w_next|=0.00013, grad=[[-0.1260405   0.03641059]]\n",
      "step 5500 |w-w_next|=0.00013, grad=[[-0.1226483   0.03543065]]\n",
      "step 5600 |w-w_next|=0.00012, grad=[[-0.1193474   0.03447709]]\n",
      "step 5700 |w-w_next|=0.00012, grad=[[-0.11613534  0.03354919]]\n",
      "step 5800 |w-w_next|=0.00012, grad=[[-0.11300973  0.03264626]]\n",
      "step 5900 |w-w_next|=0.00011, grad=[[-0.10996824  0.03176764]]\n",
      "step 6000 |w-w_next|=0.00011, grad=[[-0.10700861  0.03091266]]\n",
      "step 6100 |w-w_next|=0.00011, grad=[[-0.10412863  0.03008069]]\n",
      "step 6200 |w-w_next|=0.00011, grad=[[-0.10132616  0.02927111]]\n",
      "step 6300 |w-w_next|=0.00010, grad=[[-0.09859912  0.02848332]]\n",
      "step 6400 |w-w_next|=0.00010, grad=[[-0.09594547  0.02771674]]\n",
      "step 6500 |w-w_next|=0.00010, grad=[[-0.09336324  0.02697078]]\n",
      "step 6600 |w-w_next|=0.00009, grad=[[-0.0908505  0.0262449]]\n",
      "step 6700 |w-w_next|=0.00009, grad=[[-0.08840539  0.02553856]]\n",
      "step 6800 |w-w_next|=0.00009, grad=[[-0.08602609  0.02485123]]\n",
      "step 6900 |w-w_next|=0.00009, grad=[[-0.08371083  0.02418239]]\n",
      "step 7000 |w-w_next|=0.00008, grad=[[-0.08145787  0.02353156]]\n",
      "step 7100 |w-w_next|=0.00008, grad=[[-0.07926555  0.02289824]]\n",
      "step 7200 |w-w_next|=0.00008, grad=[[-0.07713224  0.02228197]]\n",
      "step 7300 |w-w_next|=0.00008, grad=[[-0.07505634  0.02168228]]\n",
      "step 7400 |w-w_next|=0.00008, grad=[[-0.07303631  0.02109874]]\n",
      "step 7500 |w-w_next|=0.00007, grad=[[-0.07107064  0.0205309 ]]\n",
      "step 7600 |w-w_next|=0.00007, grad=[[-0.06915788  0.01997834]]\n",
      "step 7700 |w-w_next|=0.00007, grad=[[-0.0672966   0.01944065]]\n",
      "step 7800 |w-w_next|=0.00007, grad=[[-0.06548541  0.01891743]]\n",
      "step 7900 |w-w_next|=0.00007, grad=[[-0.06372297  0.0184083 ]]\n",
      "step 8000 |w-w_next|=0.00006, grad=[[-0.06200796  0.01791287]]\n",
      "step 8100 |w-w_next|=0.00006, grad=[[-0.0603391   0.01743077]]\n",
      "step 8200 |w-w_next|=0.00006, grad=[[-0.05871517  0.01696164]]\n",
      "step 8300 |w-w_next|=0.00006, grad=[[-0.05713493  0.01650515]]\n",
      "step 8400 |w-w_next|=0.00006, grad=[[-0.05559723  0.01606093]]\n",
      "step 8500 |w-w_next|=0.00006, grad=[[-0.05410091  0.01562868]]\n",
      "step 8600 |w-w_next|=0.00005, grad=[[-0.05264487  0.01520805]]\n",
      "step 8700 |w-w_next|=0.00005, grad=[[-0.05122801  0.01479875]]\n",
      "step 8800 |w-w_next|=0.00005, grad=[[-0.04984928  0.01440047]]\n",
      "step 8900 |w-w_next|=0.00005, grad=[[-0.04850766  0.0140129 ]]\n",
      "step 9000 |w-w_next|=0.00005, grad=[[-0.04720215  0.01363576]]\n",
      "step 9100 |w-w_next|=0.00005, grad=[[-0.04593177  0.01326878]]\n",
      "step 9200 |w-w_next|=0.00005, grad=[[-0.04469559  0.01291167]]\n",
      "step 9300 |w-w_next|=0.00005, grad=[[-0.04349267  0.01256417]]\n",
      "step 9400 |w-w_next|=0.00004, grad=[[-0.04232213  0.01222602]]\n",
      "step 9500 |w-w_next|=0.00004, grad=[[-0.04118309  0.01189698]]\n",
      "step 9600 |w-w_next|=0.00004, grad=[[-0.04007471  0.01157679]]\n",
      "step 9700 |w-w_next|=0.00004, grad=[[-0.03899616  0.01126521]]\n",
      "step 9800 |w-w_next|=0.00004, grad=[[-0.03794663  0.01096203]]\n",
      "step 9900 |w-w_next|=0.00004, grad=[[-0.03692536  0.010667  ]]\n",
      "step 10000 |w-w_next|=0.00004, grad=[[-0.03593156  0.01037991]]\n",
      "step 10100 |w-w_next|=0.00004, grad=[[-0.03496452  0.01010055]]\n",
      "step 10200 |w-w_next|=0.00004, grad=[[-0.0340235   0.00982871]]\n",
      "step 10300 |w-w_next|=0.00003, grad=[[-0.03310781  0.00956419]]\n",
      "step 10400 |w-w_next|=0.00003, grad=[[-0.03221676  0.00930678]]\n",
      "step 10500 |w-w_next|=0.00003, grad=[[-0.03134969  0.0090563 ]]\n",
      "step 10600 |w-w_next|=0.00003, grad=[[-0.03050596  0.00881257]]\n",
      "step 10700 |w-w_next|=0.00003, grad=[[-0.02968494  0.00857539]]\n",
      "step 10800 |w-w_next|=0.00003, grad=[[-0.02888601  0.00834459]]\n",
      "step 10900 |w-w_next|=0.00003, grad=[[-0.02810859  0.00812001]]\n",
      "step 11000 |w-w_next|=0.00003, grad=[[-0.02735209  0.00790147]]\n",
      "step 11100 |w-w_next|=0.00003, grad=[[-0.02661595  0.00768882]]\n",
      "step 11200 |w-w_next|=0.00003, grad=[[-0.02589962  0.00748188]]\n",
      "step 11300 |w-w_next|=0.00003, grad=[[-0.02520257  0.00728052]]\n",
      "step 11400 |w-w_next|=0.00003, grad=[[-0.02452428  0.00708458]]\n",
      "step 11500 |w-w_next|=0.00002, grad=[[-0.02386424  0.0068939 ]]\n",
      "step 11600 |w-w_next|=0.00002, grad=[[-0.02322197  0.00670837]]\n",
      "step 11700 |w-w_next|=0.00002, grad=[[-0.02259699  0.00652782]]\n",
      "step 11800 |w-w_next|=0.00002, grad=[[-0.02198882  0.00635213]]\n",
      "step 11900 |w-w_next|=0.00002, grad=[[-0.02139702  0.00618117]]\n",
      "step 12000 |w-w_next|=0.00002, grad=[[-0.02082116  0.00601482]]\n",
      "step 12100 |w-w_next|=0.00002, grad=[[-0.02026078  0.00585294]]\n",
      "step 12200 |w-w_next|=0.00002, grad=[[-0.0197155   0.00569541]]\n",
      "step 12300 |w-w_next|=0.00002, grad=[[-0.01918488  0.00554213]]\n",
      "step 12400 |w-w_next|=0.00002, grad=[[-0.01866855  0.00539297]]\n",
      "step 12500 |w-w_next|=0.00002, grad=[[-0.01816611  0.00524783]]\n",
      "step 12600 |w-w_next|=0.00002, grad=[[-0.0176772   0.00510659]]\n",
      "step 12700 |w-w_next|=0.00002, grad=[[-0.01720144  0.00496915]]\n",
      "step 12800 |w-w_next|=0.00002, grad=[[-0.01673849  0.00483542]]\n",
      "step 12900 |w-w_next|=0.00002, grad=[[-0.016288    0.00470528]]\n",
      "step 13000 |w-w_next|=0.00002, grad=[[-0.01584963  0.00457864]]\n",
      "step 13100 |w-w_next|=0.00002, grad=[[-0.01542306  0.00445542]]\n",
      "step 13200 |w-w_next|=0.00002, grad=[[-0.01500797  0.0043355 ]]\n",
      "step 13300 |w-w_next|=0.00002, grad=[[-0.01460406  0.00421882]]\n",
      "step 13400 |w-w_next|=0.00001, grad=[[-0.01421101  0.00410528]]\n",
      "step 13500 |w-w_next|=0.00001, grad=[[-0.01382854  0.00399479]]\n",
      "step 13600 |w-w_next|=0.00001, grad=[[-0.01345637  0.00388728]]\n",
      "step 13700 |w-w_next|=0.00001, grad=[[-0.01309421  0.00378266]]\n",
      "step 13800 |w-w_next|=0.00001, grad=[[-0.0127418   0.00368085]]\n",
      "step 13900 |w-w_next|=0.00001, grad=[[-0.01239887  0.00358179]]\n",
      "step 14000 |w-w_next|=0.00001, grad=[[-0.01206517  0.00348539]]\n",
      "step 14100 |w-w_next|=0.00001, grad=[[-0.01174046  0.00339158]]\n",
      "step 14200 |w-w_next|=0.00001, grad=[[-0.01142448  0.0033003 ]]\n",
      "step 14300 |w-w_next|=0.00001, grad=[[-0.01111701  0.00321148]]\n",
      "step 14400 |w-w_next|=0.00001, grad=[[-0.01081781  0.00312505]]\n",
      "step 14500 |w-w_next|=0.00001, grad=[[-0.01052666  0.00304094]]\n",
      "step 14600 |w-w_next|=0.00001, grad=[[-0.01024335  0.0029591 ]]\n",
      "step 14700 |w-w_next|=0.00001, grad=[[-0.00996767  0.00287946]]\n",
      "step 14800 |w-w_next|=0.00001, grad=[[-0.0096994   0.00280196]]\n"
     ]
    }
   ],
   "source": [
    "# второй раз проверяем с lambda=0.5\n",
    "w_05 = gradient_descent(X, data['y_train'].values.reshape(-1, 1), epsilon=0.00001, eta=0.001, l=0.5)"
   ]
  },
  {
   "cell_type": "code",
   "execution_count": 115,
   "metadata": {},
   "outputs": [
    {
     "name": "stdout",
     "output_type": "stream",
     "text": [
      "step 100 |w-w_next|=0.00116, grad=[[-0.23141611  1.13622677]]\n",
      "step 200 |w-w_next|=0.00053, grad=[[-0.47364277  0.24004657]]\n",
      "step 300 |w-w_next|=0.00051, grad=[[-0.48358716  0.149662  ]]\n",
      "step 400 |w-w_next|=0.00049, grad=[[-0.47151072  0.13717177]]\n",
      "step 500 |w-w_next|=0.00048, grad=[[-0.45769686  0.13231235]]\n",
      "step 600 |w-w_next|=0.00046, grad=[[-0.44409186  0.12829827]]\n",
      "step 700 |w-w_next|=0.00045, grad=[[-0.43087237  0.12447132]]\n",
      "step 800 |w-w_next|=0.00044, grad=[[-0.41804457  0.12076485]]\n",
      "step 900 |w-w_next|=0.00042, grad=[[-0.4055985   0.11716935]]\n",
      "step 1000 |w-w_next|=0.00041, grad=[[-0.39352296  0.11368096]]\n",
      "step 1100 |w-w_next|=0.00040, grad=[[-0.38180693  0.11029643]]\n",
      "step 1200 |w-w_next|=0.00039, grad=[[-0.37043971  0.10701266]]\n",
      "step 1300 |w-w_next|=0.00037, grad=[[-0.35941092  0.10382667]]\n",
      "step 1400 |w-w_next|=0.00036, grad=[[-0.34871048  0.10073552]]\n",
      "step 1500 |w-w_next|=0.00035, grad=[[-0.33832862  0.09773641]]\n",
      "step 1600 |w-w_next|=0.00034, grad=[[-0.32825584  0.09482658]]\n",
      "step 1700 |w-w_next|=0.00033, grad=[[-0.31848295  0.09200339]]\n",
      "step 1800 |w-w_next|=0.00032, grad=[[-0.30900103  0.08926425]]\n",
      "step 1900 |w-w_next|=0.00031, grad=[[-0.2998014   0.08660666]]\n",
      "step 2000 |w-w_next|=0.00030, grad=[[-0.29087566  0.08402819]]\n",
      "step 2100 |w-w_next|=0.00029, grad=[[-0.28221567  0.08152649]]\n",
      "step 2200 |w-w_next|=0.00029, grad=[[-0.27381349  0.07909927]]\n",
      "step 2300 |w-w_next|=0.00028, grad=[[-0.26566148  0.07674432]]\n",
      "step 2400 |w-w_next|=0.00027, grad=[[-0.25775216  0.07445947]]\n",
      "step 2500 |w-w_next|=0.00026, grad=[[-0.25007832  0.07224265]]\n",
      "step 2600 |w-w_next|=0.00025, grad=[[-0.24263295  0.07009183]]\n",
      "step 2700 |w-w_next|=0.00025, grad=[[-0.23540924  0.06800505]]\n",
      "step 2800 |w-w_next|=0.00024, grad=[[-0.2284006   0.06598039]]\n",
      "step 2900 |w-w_next|=0.00023, grad=[[-0.22160062  0.06401601]]\n",
      "step 3000 |w-w_next|=0.00022, grad=[[-0.21500309  0.06211012]]\n",
      "step 3100 |w-w_next|=0.00022, grad=[[-0.20860198  0.06026096]]\n",
      "step 3200 |w-w_next|=0.00021, grad=[[-0.20239145  0.05846686]]\n",
      "step 3300 |w-w_next|=0.00020, grad=[[-0.19636582  0.05672618]]\n",
      "step 3400 |w-w_next|=0.00020, grad=[[-0.19051958  0.05503732]]\n",
      "step 3500 |w-w_next|=0.00019, grad=[[-0.1848474   0.05339874]]\n",
      "step 3600 |w-w_next|=0.00019, grad=[[-0.1793441   0.05180894]]\n",
      "step 3700 |w-w_next|=0.00018, grad=[[-0.17400463  0.05026648]]\n",
      "step 3800 |w-w_next|=0.00018, grad=[[-0.16882414  0.04876994]]\n",
      "step 3900 |w-w_next|=0.00017, grad=[[-0.16379788  0.04731795]]\n",
      "step 4000 |w-w_next|=0.00017, grad=[[-0.15892126  0.04590919]]\n",
      "step 4100 |w-w_next|=0.00016, grad=[[-0.15418983  0.04454238]]\n",
      "step 4200 |w-w_next|=0.00016, grad=[[-0.14959927  0.04321625]]\n",
      "step 4300 |w-w_next|=0.00015, grad=[[-0.14514537  0.04192961]]\n",
      "step 4400 |w-w_next|=0.00015, grad=[[-0.14082408  0.04068128]]\n",
      "step 4500 |w-w_next|=0.00014, grad=[[-0.13663145  0.03947011]]\n",
      "step 4600 |w-w_next|=0.00014, grad=[[-0.13256363  0.038295  ]]\n",
      "step 4700 |w-w_next|=0.00013, grad=[[-0.12861693  0.03715487]]\n",
      "step 4800 |w-w_next|=0.00013, grad=[[-0.12478772  0.03604869]]\n",
      "step 4900 |w-w_next|=0.00013, grad=[[-0.12107252  0.03497544]]\n",
      "step 5000 |w-w_next|=0.00012, grad=[[-0.11746793  0.03393415]]\n",
      "step 5100 |w-w_next|=0.00012, grad=[[-0.11397066  0.03292386]]\n",
      "step 5200 |w-w_next|=0.00012, grad=[[-0.1105775   0.03194364]]\n",
      "step 5300 |w-w_next|=0.00011, grad=[[-0.10728537  0.03099261]]\n",
      "step 5400 |w-w_next|=0.00011, grad=[[-0.10409125  0.03006989]]\n",
      "step 5500 |w-w_next|=0.00011, grad=[[-0.10099223  0.02917465]]\n",
      "step 5600 |w-w_next|=0.00010, grad=[[-0.09798548  0.02830605]]\n",
      "step 5700 |w-w_next|=0.00010, grad=[[-0.09506824  0.02746332]]\n",
      "step 5800 |w-w_next|=0.00010, grad=[[-0.09223785  0.02664568]]\n",
      "step 5900 |w-w_next|=0.00009, grad=[[-0.08949173  0.02585238]]\n",
      "step 6000 |w-w_next|=0.00009, grad=[[-0.08682737  0.0250827 ]]\n",
      "step 6100 |w-w_next|=0.00009, grad=[[-0.08424233  0.02433593]]\n",
      "step 6200 |w-w_next|=0.00009, grad=[[-0.08173425  0.0236114 ]]\n",
      "step 6300 |w-w_next|=0.00008, grad=[[-0.07930085  0.02290844]]\n",
      "step 6400 |w-w_next|=0.00008, grad=[[-0.07693989  0.0222264 ]]\n",
      "step 6500 |w-w_next|=0.00008, grad=[[-0.07464922  0.02156468]]\n",
      "step 6600 |w-w_next|=0.00008, grad=[[-0.07242675  0.02092265]]\n",
      "step 6700 |w-w_next|=0.00007, grad=[[-0.07027045  0.02029974]]\n",
      "step 6800 |w-w_next|=0.00007, grad=[[-0.06817835  0.01969537]]\n",
      "step 6900 |w-w_next|=0.00007, grad=[[-0.06614853  0.019109  ]]\n",
      "step 7000 |w-w_next|=0.00007, grad=[[-0.06417915  0.01854008]]\n",
      "step 7100 |w-w_next|=0.00006, grad=[[-0.0622684  0.0179881]]\n",
      "step 7200 |w-w_next|=0.00006, grad=[[-0.06041453  0.01745256]]\n",
      "step 7300 |w-w_next|=0.00006, grad=[[-0.05861586  0.01693296]]\n",
      "step 7400 |w-w_next|=0.00006, grad=[[-0.05687074  0.01642883]]\n",
      "step 7500 |w-w_next|=0.00006, grad=[[-0.05517757  0.0159397 ]]\n",
      "step 7600 |w-w_next|=0.00006, grad=[[-0.05353482  0.01546514]]\n",
      "step 7700 |w-w_next|=0.00005, grad=[[-0.05194097  0.01500471]]\n",
      "step 7800 |w-w_next|=0.00005, grad=[[-0.05039458  0.01455799]]\n",
      "step 7900 |w-w_next|=0.00005, grad=[[-0.04889422  0.01412457]]\n",
      "step 8000 |w-w_next|=0.00005, grad=[[-0.04743853  0.01370405]]\n",
      "step 8100 |w-w_next|=0.00005, grad=[[-0.04602619  0.01329605]]\n",
      "step 8200 |w-w_next|=0.00005, grad=[[-0.04465589  0.0129002 ]]\n",
      "step 8300 |w-w_next|=0.00005, grad=[[-0.04332638  0.01251613]]\n",
      "step 8400 |w-w_next|=0.00004, grad=[[-0.04203646  0.0121435 ]]\n",
      "step 8500 |w-w_next|=0.00004, grad=[[-0.04078495  0.01178196]]\n",
      "step 8600 |w-w_next|=0.00004, grad=[[-0.03957069  0.01143119]]\n",
      "step 8700 |w-w_next|=0.00004, grad=[[-0.03839259  0.01109085]]\n",
      "step 8800 |w-w_next|=0.00004, grad=[[-0.03724956  0.01076066]]\n",
      "step 8900 |w-w_next|=0.00004, grad=[[-0.03614056  0.01044029]]\n",
      "step 9000 |w-w_next|=0.00004, grad=[[-0.03506457  0.01012946]]\n",
      "step 9100 |w-w_next|=0.00004, grad=[[-0.03402063  0.00982788]]\n",
      "step 9200 |w-w_next|=0.00003, grad=[[-0.03300776  0.00953528]]\n",
      "step 9300 |w-w_next|=0.00003, grad=[[-0.03202505  0.0092514 ]]\n",
      "step 9400 |w-w_next|=0.00003, grad=[[-0.03107159  0.00897596]]\n",
      "step 9500 |w-w_next|=0.00003, grad=[[-0.03014652  0.00870873]]\n",
      "step 9600 |w-w_next|=0.00003, grad=[[-0.029249    0.00844945]]\n",
      "step 9700 |w-w_next|=0.00003, grad=[[-0.02837819  0.00819789]]\n",
      "step 9800 |w-w_next|=0.00003, grad=[[-0.02753331  0.00795383]]\n",
      "step 9900 |w-w_next|=0.00003, grad=[[-0.02671358  0.00771702]]\n",
      "step 10000 |w-w_next|=0.00003, grad=[[-0.02591826  0.00748727]]\n",
      "step 10100 |w-w_next|=0.00003, grad=[[-0.02514662  0.00726436]]\n",
      "step 10200 |w-w_next|=0.00003, grad=[[-0.02439795  0.00704808]]\n",
      "step 10300 |w-w_next|=0.00002, grad=[[-0.02367157  0.00683825]]\n",
      "step 10400 |w-w_next|=0.00002, grad=[[-0.02296682  0.00663466]]\n",
      "step 10500 |w-w_next|=0.00002, grad=[[-0.02228304  0.00643713]]\n",
      "step 10600 |w-w_next|=0.00002, grad=[[-0.02161963  0.00624548]]\n",
      "step 10700 |w-w_next|=0.00002, grad=[[-0.02097597  0.00605954]]\n",
      "step 10800 |w-w_next|=0.00002, grad=[[-0.02035147  0.00587913]]\n",
      "step 10900 |w-w_next|=0.00002, grad=[[-0.01974556  0.0057041 ]]\n",
      "step 11000 |w-w_next|=0.00002, grad=[[-0.01915769  0.00553428]]\n",
      "step 11100 |w-w_next|=0.00002, grad=[[-0.01858733  0.00536951]]\n",
      "step 11200 |w-w_next|=0.00002, grad=[[-0.01803394  0.00520965]]\n",
      "step 11300 |w-w_next|=0.00002, grad=[[-0.01749703  0.00505454]]\n",
      "step 11400 |w-w_next|=0.00002, grad=[[-0.01697611  0.00490406]]\n",
      "step 11500 |w-w_next|=0.00002, grad=[[-0.01647069  0.00475806]]\n",
      "step 11600 |w-w_next|=0.00002, grad=[[-0.01598032  0.0046164 ]]\n",
      "step 11700 |w-w_next|=0.00002, grad=[[-0.01550455  0.00447896]]\n",
      "step 11800 |w-w_next|=0.00002, grad=[[-0.01504295  0.00434561]]\n",
      "step 11900 |w-w_next|=0.00002, grad=[[-0.01459509  0.00421623]]\n",
      "step 12000 |w-w_next|=0.00001, grad=[[-0.01416056  0.0040907 ]]\n",
      "step 12100 |w-w_next|=0.00001, grad=[[-0.01373897  0.00396892]]\n",
      "step 12200 |w-w_next|=0.00001, grad=[[-0.01332993  0.00385075]]\n",
      "step 12300 |w-w_next|=0.00001, grad=[[-0.01293307  0.00373611]]\n",
      "step 12400 |w-w_next|=0.00001, grad=[[-0.01254803  0.00362488]]\n",
      "step 12500 |w-w_next|=0.00001, grad=[[-0.01217444  0.00351695]]\n",
      "step 12600 |w-w_next|=0.00001, grad=[[-0.01181198  0.00341225]]\n",
      "step 12700 |w-w_next|=0.00001, grad=[[-0.01146032  0.00331066]]\n",
      "step 12800 |w-w_next|=0.00001, grad=[[-0.01111912  0.00321209]]\n",
      "step 12900 |w-w_next|=0.00001, grad=[[-0.01078808  0.00311646]]\n",
      "step 13000 |w-w_next|=0.00001, grad=[[-0.01046689  0.00302368]]\n",
      "step 13100 |w-w_next|=0.00001, grad=[[-0.01015527  0.00293366]]\n",
      "step 13200 |w-w_next|=0.00001, grad=[[-0.00985293  0.00284631]]\n"
     ]
    }
   ],
   "source": [
    "# третий раз проверяем с lambda=1\n",
    "w_1 = gradient_descent(X, data['y_train'].values.reshape(-1, 1), epsilon=0.00001, eta=0.001, l=1)"
   ]
  },
  {
   "cell_type": "code",
   "execution_count": 110,
   "metadata": {},
   "outputs": [],
   "source": [
    "def print_result(data, X, weight):\n",
    "    support = np.linspace(X.min(), X.max(), num=100)\n",
    "    # делаем предикт - считаем предсказания модели в каждой точке обучающей выборки в виде y=X*w\n",
    "    y_hat = np.hstack([\n",
    "        np.ones(support.size).reshape(-1, 1),\n",
    "        support.reshape(-1, 1)\n",
    "    ]).dot(weight.T)\n",
    "\n",
    "    # строим график\n",
    "    plt.plot(support, y_hat, 'b--', alpha=0.5, label='manifold')\n",
    "    plt.scatter(data['x_train'], data['y_train'], 40, 'g', 'o', alpha=0.8, label='data')\n",
    "    plt.show()"
   ]
  },
  {
   "cell_type": "code",
   "execution_count": 111,
   "metadata": {},
   "outputs": [
    {
     "name": "stdout",
     "output_type": "stream",
     "text": [
      "[[ 2.48484292 -0.53432372]]\n"
     ]
    },
    {
     "data": {
      "image/png": "[encoded data removed]",
      "text/plain": [
       "<Figure size 432x288 with 1 Axes>"
      ]
     },
     "metadata": {
      "needs_background": "light"
     },
     "output_type": "display_data"
    }
   ],
   "source": [
    "print(w)\n",
    "print_result(data, X, w)"
   ]
  },
  {
   "cell_type": "code",
   "execution_count": 112,
   "metadata": {},
   "outputs": [
    {
     "name": "stdout",
     "output_type": "stream",
     "text": [
      "[[ 2.31017266 -0.48409881]]\n"
     ]
    },
    {
     "data": {
      "image/png": "[encoded data removed]",
      "text/plain": [
       "<Figure size 432x288 with 1 Axes>"
      ]
     },
     "metadata": {
      "needs_background": "light"
     },
     "output_type": "display_data"
    }
   ],
   "source": [
    "print(w_05)\n",
    "print_result(data, X, w_05)"
   ]
  },
  {
   "cell_type": "code",
   "execution_count": 113,
   "metadata": {},
   "outputs": [
    {
     "name": "stdout",
     "output_type": "stream",
     "text": [
      "[[ 2.09002589 -0.42073604]]\n"
     ]
    },
    {
     "data": {
      "image/png": "[encoded data removed]",
      "text/plain": [
       "<Figure size 432x288 with 1 Axes>"
      ]
     },
     "metadata": {
      "needs_background": "light"
     },
     "output_type": "display_data"
    }
   ],
   "source": [
    "print(w_1)\n",
    "print_result(data, X, w_1)"
   ]
  },
  {
   "cell_type": "code",
   "execution_count": null,
   "metadata": {},
   "outputs": [],
   "source": []
  },
  {
   "cell_type": "code",
   "execution_count": null,
   "metadata": {},
   "outputs": [],
   "source": []
  },
  {
   "cell_type": "markdown",
   "metadata": {
    "colab_type": "text",
    "id": "dQ7gRtDmnE6p"
   },
   "source": [
    "В этом модуле мы узнали, как  обучать линейную регрессию, не \"упираясь\" в аппаратные ресурсы: использовать градиентный спуск.\n",
    "Мы узнали, как детектировать переобучение модели и закрепили свои знания на примере полиномиальной регрессии и выяснили, как увеличить качество решения с помощью механизма регуляризации. Познакомились с двумя видами регуляризации -  Ridge и Lasso."
   ]
  }
 ],
 "metadata": {
  "celltoolbar": "Slideshow",
  "colab": {
   "collapsed_sections": [],
   "name": "jun_ml_linear_regression_II-hw_5.ipynb",
   "provenance": []
  },
  "kernelspec": {
   "display_name": "Python 3",
   "language": "python",
   "name": "python3"
  },
  "language_info": {
   "codemirror_mode": {
    "name": "ipython",
    "version": 3
   },
   "file_extension": ".py",
   "mimetype": "text/x-python",
   "name": "python",
   "nbconvert_exporter": "python",
   "pygments_lexer": "ipython3",
   "version": "3.7.6"
  }
 },
 "nbformat": 4,
 "nbformat_minor": 1
}
