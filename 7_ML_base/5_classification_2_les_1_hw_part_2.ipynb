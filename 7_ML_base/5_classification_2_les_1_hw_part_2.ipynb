{
 "cells": [
  {
   "cell_type": "markdown",
   "metadata": {
    "colab_type": "text",
    "id": "p0RpWMuyhXNc"
   },
   "source": [
    "# Урок 1. Метрики качества классификации ч.2\n",
    "\n",
    "Продолжим работу с метриками классификации. В предыдущем задании мы разобрали матрицу ошибок и две основные метрики, которые используются при бинарной классификации.\n",
    "\n",
    "Сейчас рассмотрим F-меру - совокупную метрику по precision и recall - и более сложную AUC-ROC."
   ]
  },
  {
   "cell_type": "markdown",
   "metadata": {
    "colab_type": "text",
    "id": "desLnfjBhXNe"
   },
   "source": [
    "### 2.1\n",
    "Из задания к предыдущему уроку выберите классификатор, который давал наименьшее значение recall, вычислите для него precision, применив precision_score, и самостоятельно посчитайте F1-меру (расчеты должны присутствовать). Затем проверьте ответ, используя встроенную функцию.\n",
    "\n",
    "Сравните полученную f1-меру со значением среднего арифметического полноты и точности."
   ]
  },
  {
   "cell_type": "code",
   "execution_count": 4,
   "metadata": {
    "colab": {},
    "colab_type": "code",
    "id": "PqBv_cQmhXNf"
   },
   "outputs": [],
   "source": [
    "from sklearn.metrics import precision_score, f1_score\n",
    "from sklearn.metrics import confusion_matrix, recall_score\n",
    "from sklearn.model_selection import train_test_split "
   ]
  },
  {
   "cell_type": "code",
   "execution_count": 5,
   "metadata": {},
   "outputs": [],
   "source": [
    "from sklearn.neighbors import KNeighborsClassifier\n",
    "from sklearn.naive_bayes import GaussianNB\n",
    "from sklearn.tree import DecisionTreeClassifier\n",
    "from sklearn.linear_model import LogisticRegression"
   ]
  },
  {
   "cell_type": "code",
   "execution_count": 6,
   "metadata": {
    "colab": {},
    "colab_type": "code",
    "id": "7inF9IHdhXNl"
   },
   "outputs": [
    {
     "name": "stdout",
     "output_type": "stream",
     "text": [
      "X_train shape: (668, 7), y_train shape: (668,),\n",
      "X_test shape: (223, 7), y_test shape: (223,)\n"
     ]
    },
    {
     "data": {
      "text/plain": [
       "array([[112,  19],\n",
       "       [ 26,  66]], dtype=int64)"
      ]
     },
     "execution_count": 6,
     "metadata": {},
     "output_type": "execute_result"
    }
   ],
   "source": [
    "import pandas as pd\n",
    "df = pd.read_csv('Titanic_prepared.csv')\n",
    "\n",
    "target = df['Survived']\n",
    "X = df.drop(['Survived', 'Unnamed: 0'], axis='columns')\n",
    "\n",
    "x_train, x_test, y_train, y_test = train_test_split(X, \n",
    "                                                    target,\n",
    "                                                    test_size=0.25,\n",
    "                                                    random_state=17)\n",
    "print(f'X_train shape: {x_train.shape}, y_train shape: {y_train.shape},\\n'\n",
    "      f'X_test shape: {x_test.shape}, y_test shape: {y_test.shape}')\n",
    "\n",
    "dtc = DecisionTreeClassifier(random_state=17)\n",
    "dtc_model = dtc.fit(x_train, y_train)\n",
    "\n",
    "dtc_pred = dtc.predict(x_test)\n",
    "dtc_cm = confusion_matrix(y_test, dtc_pred)\n",
    "dtc_cm"
   ]
  },
  {
   "cell_type": "code",
   "execution_count": 7,
   "metadata": {},
   "outputs": [
    {
     "data": {
      "text/html": [
       "<div>\n",
       "<style scoped>\n",
       "    .dataframe tbody tr th:only-of-type {\n",
       "        vertical-align: middle;\n",
       "    }\n",
       "\n",
       "    .dataframe tbody tr th {\n",
       "        vertical-align: top;\n",
       "    }\n",
       "\n",
       "    .dataframe thead th {\n",
       "        text-align: right;\n",
       "    }\n",
       "</style>\n",
       "<table border=\"1\" class=\"dataframe\">\n",
       "  <thead>\n",
       "    <tr style=\"text-align: right;\">\n",
       "      <th></th>\n",
       "      <th>Pclass</th>\n",
       "      <th>Sex</th>\n",
       "      <th>Age</th>\n",
       "      <th>SibSp</th>\n",
       "      <th>Parch</th>\n",
       "      <th>Fare</th>\n",
       "      <th>Embarked</th>\n",
       "    </tr>\n",
       "  </thead>\n",
       "  <tbody>\n",
       "    <tr>\n",
       "      <th>0</th>\n",
       "      <td>3</td>\n",
       "      <td>0</td>\n",
       "      <td>22.0</td>\n",
       "      <td>1</td>\n",
       "      <td>0</td>\n",
       "      <td>7.2500</td>\n",
       "      <td>1</td>\n",
       "    </tr>\n",
       "    <tr>\n",
       "      <th>1</th>\n",
       "      <td>1</td>\n",
       "      <td>1</td>\n",
       "      <td>38.0</td>\n",
       "      <td>1</td>\n",
       "      <td>0</td>\n",
       "      <td>71.2833</td>\n",
       "      <td>2</td>\n",
       "    </tr>\n",
       "    <tr>\n",
       "      <th>2</th>\n",
       "      <td>3</td>\n",
       "      <td>1</td>\n",
       "      <td>26.0</td>\n",
       "      <td>0</td>\n",
       "      <td>0</td>\n",
       "      <td>7.9250</td>\n",
       "      <td>1</td>\n",
       "    </tr>\n",
       "    <tr>\n",
       "      <th>3</th>\n",
       "      <td>1</td>\n",
       "      <td>1</td>\n",
       "      <td>35.0</td>\n",
       "      <td>1</td>\n",
       "      <td>0</td>\n",
       "      <td>53.1000</td>\n",
       "      <td>1</td>\n",
       "    </tr>\n",
       "    <tr>\n",
       "      <th>4</th>\n",
       "      <td>3</td>\n",
       "      <td>0</td>\n",
       "      <td>35.0</td>\n",
       "      <td>0</td>\n",
       "      <td>0</td>\n",
       "      <td>8.0500</td>\n",
       "      <td>1</td>\n",
       "    </tr>\n",
       "    <tr>\n",
       "      <th>...</th>\n",
       "      <td>...</td>\n",
       "      <td>...</td>\n",
       "      <td>...</td>\n",
       "      <td>...</td>\n",
       "      <td>...</td>\n",
       "      <td>...</td>\n",
       "      <td>...</td>\n",
       "    </tr>\n",
       "    <tr>\n",
       "      <th>886</th>\n",
       "      <td>2</td>\n",
       "      <td>0</td>\n",
       "      <td>27.0</td>\n",
       "      <td>0</td>\n",
       "      <td>0</td>\n",
       "      <td>13.0000</td>\n",
       "      <td>1</td>\n",
       "    </tr>\n",
       "    <tr>\n",
       "      <th>887</th>\n",
       "      <td>1</td>\n",
       "      <td>1</td>\n",
       "      <td>19.0</td>\n",
       "      <td>0</td>\n",
       "      <td>0</td>\n",
       "      <td>30.0000</td>\n",
       "      <td>1</td>\n",
       "    </tr>\n",
       "    <tr>\n",
       "      <th>888</th>\n",
       "      <td>3</td>\n",
       "      <td>1</td>\n",
       "      <td>27.0</td>\n",
       "      <td>1</td>\n",
       "      <td>2</td>\n",
       "      <td>23.4500</td>\n",
       "      <td>1</td>\n",
       "    </tr>\n",
       "    <tr>\n",
       "      <th>889</th>\n",
       "      <td>1</td>\n",
       "      <td>0</td>\n",
       "      <td>26.0</td>\n",
       "      <td>0</td>\n",
       "      <td>0</td>\n",
       "      <td>30.0000</td>\n",
       "      <td>2</td>\n",
       "    </tr>\n",
       "    <tr>\n",
       "      <th>890</th>\n",
       "      <td>3</td>\n",
       "      <td>0</td>\n",
       "      <td>32.0</td>\n",
       "      <td>0</td>\n",
       "      <td>0</td>\n",
       "      <td>7.7500</td>\n",
       "      <td>3</td>\n",
       "    </tr>\n",
       "  </tbody>\n",
       "</table>\n",
       "<p>891 rows × 7 columns</p>\n",
       "</div>"
      ],
      "text/plain": [
       "     Pclass  Sex   Age  SibSp  Parch     Fare  Embarked\n",
       "0         3    0  22.0      1      0   7.2500         1\n",
       "1         1    1  38.0      1      0  71.2833         2\n",
       "2         3    1  26.0      0      0   7.9250         1\n",
       "3         1    1  35.0      1      0  53.1000         1\n",
       "4         3    0  35.0      0      0   8.0500         1\n",
       "..      ...  ...   ...    ...    ...      ...       ...\n",
       "886       2    0  27.0      0      0  13.0000         1\n",
       "887       1    1  19.0      0      0  30.0000         1\n",
       "888       3    1  27.0      1      2  23.4500         1\n",
       "889       1    0  26.0      0      0  30.0000         2\n",
       "890       3    0  32.0      0      0   7.7500         3\n",
       "\n",
       "[891 rows x 7 columns]"
      ]
     },
     "execution_count": 7,
     "metadata": {},
     "output_type": "execute_result"
    }
   ],
   "source": [
    "X"
   ]
  },
  {
   "cell_type": "markdown",
   "metadata": {},
   "source": [
    "$$\n",
    "F_{\\beta} = (1 + \\beta^2) \\cdot \\frac{precision \\cdot recall}{\\beta^2 \\cdot precision + recall}\n",
    "$$"
   ]
  },
  {
   "cell_type": "markdown",
   "metadata": {},
   "source": [
    "the count of true negatives is $C_{00}$, false negatives is $C_{10}$, true positives is $C_{11}$ and false positives is $C_{01}$. <br>\n",
    "recall: TP/(TP + FN)\n",
    "precision: TP/(TP + FP)"
   ]
  },
  {
   "cell_type": "code",
   "execution_count": 8,
   "metadata": {},
   "outputs": [],
   "source": [
    "def my_f1_score(conf_matrix, beta=1):\n",
    "    precision = conf_matrix[1][1]/(conf_matrix[1][1] + conf_matrix[0][1])\n",
    "    recall = conf_matrix[1][1]/(conf_matrix[1][1] + conf_matrix[1][0])\n",
    "    return (1 + beta**2)*precision * recall/(beta**2*precision + recall)"
   ]
  },
  {
   "cell_type": "code",
   "execution_count": 9,
   "metadata": {},
   "outputs": [
    {
     "data": {
      "text/plain": [
       "0.7457627118644068"
      ]
     },
     "execution_count": 9,
     "metadata": {},
     "output_type": "execute_result"
    }
   ],
   "source": [
    "my_f1_score(dtc_cm)"
   ]
  },
  {
   "cell_type": "code",
   "execution_count": 10,
   "metadata": {},
   "outputs": [
    {
     "ename": "NameError",
     "evalue": "name 'y_pred' is not defined",
     "output_type": "error",
     "traceback": [
      "\u001b[1;31m---------------------------------------------------------------------------\u001b[0m",
      "\u001b[1;31mNameError\u001b[0m                                 Traceback (most recent call last)",
      "\u001b[1;32m<ipython-input-10-5124aba646c8>\u001b[0m in \u001b[0;36m<module>\u001b[1;34m\u001b[0m\n\u001b[1;32m----> 1\u001b[1;33m \u001b[0mf1_score\u001b[0m\u001b[1;33m(\u001b[0m\u001b[0my_test\u001b[0m\u001b[1;33m,\u001b[0m \u001b[0my_pred\u001b[0m\u001b[1;33m)\u001b[0m\u001b[1;33m\u001b[0m\u001b[1;33m\u001b[0m\u001b[0m\n\u001b[0m",
      "\u001b[1;31mNameError\u001b[0m: name 'y_pred' is not defined"
     ]
    }
   ],
   "source": [
    "f1_score(y_test, y_pred)"
   ]
  },
  {
   "cell_type": "code",
   "execution_count": null,
   "metadata": {},
   "outputs": [],
   "source": [
    "(precision_score(y_test, y_pred) + recall_score(y_test, y_pred))/2"
   ]
  },
  {
   "cell_type": "code",
   "execution_count": null,
   "metadata": {},
   "outputs": [],
   "source": [
    "precision_score(y_test, y_pred)"
   ]
  },
  {
   "cell_type": "code",
   "execution_count": null,
   "metadata": {},
   "outputs": [],
   "source": [
    "recall_score(y_test, y_pred)"
   ]
  },
  {
   "cell_type": "markdown",
   "metadata": {},
   "source": [
    "### Сравнение среднего арифметического и f1\n",
    "В целом разница небольшая. Так как и precision и recall не близки к нулю"
   ]
  },
  {
   "cell_type": "markdown",
   "metadata": {
    "colab_type": "text",
    "id": "zx1hiPXxhXNp"
   },
   "source": [
    "В библиотеке sklearn есть удобная функция classification_report, возвращающая precision, recall, F-меру и количество экземпляров каждого класса в удобном для чтения формате. Также существует функция precision_recall_fscore_support, возвращающая те же самые метрики, но в форме массива.\n",
    "\n",
    "### 2.2\n",
    "Для каждого классификатора из предыдущего урока рассчитайте и выведите следующие импортированные метрики."
   ]
  },
  {
   "cell_type": "code",
   "execution_count": null,
   "metadata": {
    "colab": {},
    "colab_type": "code",
    "id": "vhcIcGX5hXNq"
   },
   "outputs": [],
   "source": [
    "from sklearn.metrics import precision_recall_fscore_support, classification_report"
   ]
  },
  {
   "cell_type": "code",
   "execution_count": null,
   "metadata": {},
   "outputs": [],
   "source": [
    "print(classification_report(y_test, dtc_pred))\n",
    "print('-------------')\n",
    "precision_recall_fscore_support(y_test, dtc_pred)"
   ]
  },
  {
   "cell_type": "code",
   "execution_count": null,
   "metadata": {
    "colab": {},
    "colab_type": "code",
    "id": "zUPZhuTGhXNt"
   },
   "outputs": [],
   "source": [
    "knn = KNeighborsClassifier(n_neighbors=5)\n",
    "knn_model = knn.fit(x_train, y_train)\n",
    "knn_pred = knn.predict(x_test)\n",
    "\n",
    "print(classification_report(y_test, knn_pred))\n",
    "print('-------------')\n",
    "precision_recall_fscore_support(y_test, knn_pred)"
   ]
  },
  {
   "cell_type": "code",
   "execution_count": null,
   "metadata": {},
   "outputs": [],
   "source": [
    "nb = GaussianNB()\n",
    "nb_model = nb.fit(x_train, y_train)\n",
    "nb_pred = nb.predict(x_test)\n",
    "\n",
    "print(classification_report(y_test, nb_pred))\n",
    "print('-------------')\n",
    "precision_recall_fscore_support(y_test, nb_pred)"
   ]
  },
  {
   "cell_type": "code",
   "execution_count": null,
   "metadata": {},
   "outputs": [],
   "source": [
    "lr = LogisticRegression()\n",
    "lr_model = lr.fit(x_train, y_train)\n",
    "lr_pred = lr.predict(x_test)\n",
    "\n",
    "print(classification_report(y_test, lr_pred))\n",
    "print('-------------')\n",
    "precision_recall_fscore_support(y_test, lr_pred)"
   ]
  },
  {
   "cell_type": "markdown",
   "metadata": {
    "colab_type": "text",
    "id": "sAisAae0hXNx"
   },
   "source": [
    "Вернемся к классификатору LogisticRegression, который мы обучали в предыдущем задании. Там мы не затрагивали настройку гиперпараметров: сделать это можно с помощью LogisticRegressionCV - перебора параметров по сетке с последующей кросс-валидацией (по сути это аналог GridSearchCV, но со своими параметрами внутри, применимыми только к логистической регрессии). Этот класс создан специально для логистической регрессии, т.к. для нее известны эффективные алгоритмы перебора параметров.\n",
    "\n",
    "У LogisticRegression есть гиперпараметр C - обратный коэффициент регуляризации. Не вдаваясь в подробное описание по формуле, можно сказать, что C соответствует \"сложности\" модели: чем больше C, тем более сложные зависимости может восстанавливать модель; если параметр C слишком мал (слишком сильная регуляризация), то модель окажется недообученной, а если наоборот регуляризация слишком слабая (т.е. C принимает большие значения), то скорее всего модель окажется переобученной, потому как модель будет слишком \"бояться\" ошибиться на обучающей выборке."
   ]
  },
  {
   "cell_type": "markdown",
   "metadata": {
    "colab_type": "text",
    "id": "L-j5LLf3hXNx"
   },
   "source": [
    "### 2.3 \n",
    "\n",
    "1. Используя StratifiedKFold, разбейте данные для кросс-валидации по 5-ти блокам (не забывайте во всех методах использовать random_state=17).\n",
    "2. С помощью numpy.logspace разбейте интервал (-1, 2) на 500 значений.\n",
    "3. С помощью LogisticRegressionCV подберите оптимальный параметр C: установите гиперпараметр Cs равным объекту из п.2 (разбиение интервала (-1, 2) отвечает за подбор обратного коэффициента регуляризации C); cv равным объекту из п.1 (разбиение для кросс-валидации); scoring равным \"roc_auc\" (отвечает за оптимизацию гиперпараметров на кросс-валидации: метрика, установленная в scoring, контролирует, как оценивать модель при каждом из наборе параметров, т.е. показывает, какая метрика должна быть наилучшей).\n",
    "4. Обучите полученную модель на тренировочных данных."
   ]
  },
  {
   "cell_type": "code",
   "execution_count": 3,
   "metadata": {
    "colab": {},
    "colab_type": "code",
    "id": "H-0WuZbphXNy"
   },
   "outputs": [],
   "source": [
    "from sklearn.model_selection import StratifiedKFold\n",
    "from sklearn.linear_model import LogisticRegressionCV\n",
    "import numpy as np"
   ]
  },
  {
   "cell_type": "code",
   "execution_count": 33,
   "metadata": {
    "colab": {},
    "colab_type": "code",
    "id": "0ezY2p2RhXN4"
   },
   "outputs": [],
   "source": [
    "#skf = StratifiedKFold(n_splits=5, random_state=17)\n",
    "skf = StratifiedKFold(n_splits=5, random_state=None) #так как shuffle = False\n",
    "\n",
    "logspace = np.logspace(-4, 1, num=500, base=2)\n",
    "lr_cv = LogisticRegressionCV(Cs=linspace,\n",
    "                    cv=skf,\n",
    "                    scoring=\"roc_auc\",\n",
    "                    max_iter=1000,\n",
    "                    random_state=17) # увеличила количество итераций, так как для некоторых вариантов модель не могла обучиться\n",
    "lr_cv_model = lr_cv.fit(x_train, y_train)"
   ]
  },
  {
   "cell_type": "code",
   "execution_count": 34,
   "metadata": {},
   "outputs": [
    {
     "data": {
      "text/plain": [
       "array([0.0625    , 0.0629356 , 0.06337423, 0.06381592, 0.06426068,\n",
       "       0.06470855, 0.06515954, 0.06561367, 0.06607097, 0.06653145,\n",
       "       0.06699515, 0.06746207, 0.06793225, 0.06840571, 0.06888246,\n",
       "       0.06936254, 0.06984597, 0.07033276, 0.07082295, 0.07131655,\n",
       "       0.0718136 , 0.0723141 , 0.0728181 , 0.07332561, 0.07383665,\n",
       "       0.07435126, 0.07486945, 0.07539126, 0.0759167 , 0.07644581,\n",
       "       0.0769786 , 0.0775151 , 0.07805535, 0.07859936, 0.07914716,\n",
       "       0.07969878, 0.08025424, 0.08081358, 0.08137681, 0.08194397,\n",
       "       0.08251508, 0.08309017, 0.08366927, 0.08425241, 0.08483961,\n",
       "       0.0854309 , 0.08602631, 0.08662588, 0.08722962, 0.08783757,\n",
       "       0.08844976, 0.08906621, 0.08968696, 0.09031204, 0.09094147,\n",
       "       0.09157529, 0.09221353, 0.09285621, 0.09350338, 0.09415506,\n",
       "       0.09481127, 0.09547206, 0.09613746, 0.09680749, 0.0974822 ,\n",
       "       0.0981616 , 0.09884574, 0.09953465, 0.10022836, 0.10092691,\n",
       "       0.10163032, 0.10233864, 0.10305189, 0.10377012, 0.10449334,\n",
       "       0.10522162, 0.10595496, 0.10669342, 0.10743702, 0.10818581,\n",
       "       0.10893981, 0.10969907, 0.11046363, 0.11123351, 0.11200875,\n",
       "       0.1127894 , 0.11357549, 0.11436706, 0.11516415, 0.11596679,\n",
       "       0.11677502, 0.11758889, 0.11840843, 0.11923368, 0.12006468,\n",
       "       0.12090148, 0.12174411, 0.12259261, 0.12344702, 0.12430739,\n",
       "       0.12517375, 0.12604616, 0.12692464, 0.12780925, 0.12870002,\n",
       "       0.129597  , 0.13050023, 0.13140976, 0.13232562, 0.13324787,\n",
       "       0.13417655, 0.13511169, 0.13605336, 0.13700159, 0.13795643,\n",
       "       0.13891792, 0.13988611, 0.14086105, 0.14184279, 0.14283137,\n",
       "       0.14382684, 0.14482924, 0.14583864, 0.14685506, 0.14787858,\n",
       "       0.14890922, 0.14994705, 0.15099211, 0.15204446, 0.15310414,\n",
       "       0.1541712 , 0.1552457 , 0.15632769, 0.15741723, 0.15851435,\n",
       "       0.15961912, 0.16073159, 0.16185182, 0.16297985, 0.16411575,\n",
       "       0.16525956, 0.16641134, 0.16757115, 0.16873904, 0.16991508,\n",
       "       0.17109931, 0.17229179, 0.17349258, 0.17470175, 0.17591934,\n",
       "       0.17714541, 0.17838003, 0.17962326, 0.18087515, 0.18213577,\n",
       "       0.18340517, 0.18468342, 0.18597058, 0.18726671, 0.18857187,\n",
       "       0.18988613, 0.19120955, 0.19254219, 0.19388412, 0.1952354 ,\n",
       "       0.1965961 , 0.19796628, 0.19934602, 0.20073537, 0.2021344 ,\n",
       "       0.20354318, 0.20496179, 0.20639027, 0.20782872, 0.20927719,\n",
       "       0.21073575, 0.21220449, 0.21368345, 0.21517273, 0.21667238,\n",
       "       0.21818249, 0.21970312, 0.22123435, 0.22277625, 0.2243289 ,\n",
       "       0.22589237, 0.22746673, 0.22905207, 0.23064846, 0.23225597,\n",
       "       0.23387468, 0.23550468, 0.23714604, 0.23879884, 0.24046316,\n",
       "       0.24213907, 0.24382667, 0.24552603, 0.24723723, 0.24896036,\n",
       "       0.2506955 , 0.25244273, 0.25420214, 0.25597381, 0.25775783,\n",
       "       0.25955429, 0.26136326, 0.26318484, 0.26501912, 0.26686618,\n",
       "       0.26872611, 0.27059901, 0.27248496, 0.27438405, 0.27629638,\n",
       "       0.27822204, 0.28016112, 0.28211371, 0.28407991, 0.28605982,\n",
       "       0.28805352, 0.29006112, 0.29208272, 0.2941184 , 0.29616827,\n",
       "       0.29823242, 0.30031097, 0.30240399, 0.30451161, 0.30663391,\n",
       "       0.30877101, 0.310923  , 0.31308999, 0.31527208, 0.31746939,\n",
       "       0.319682  , 0.32191004, 0.3241536 , 0.3264128 , 0.32868775,\n",
       "       0.33097855, 0.33328532, 0.33560816, 0.33794719, 0.34030253,\n",
       "       0.34267428, 0.34506256, 0.34746749, 0.34988918, 0.35232774,\n",
       "       0.3547833 , 0.35725598, 0.35974589, 0.36225315, 0.36477789,\n",
       "       0.36732022, 0.36988027, 0.37245817, 0.37505403, 0.37766798,\n",
       "       0.38030015, 0.38295067, 0.38561966, 0.38830725, 0.39101357,\n",
       "       0.39373875, 0.39648293, 0.39924623, 0.40202879, 0.40483075,\n",
       "       0.40765223, 0.41049338, 0.41335433, 0.41623522, 0.41913618,\n",
       "       0.42205737, 0.42499891, 0.42796096, 0.43094365, 0.43394713,\n",
       "       0.43697154, 0.44001703, 0.44308374, 0.44617183, 0.44928144,\n",
       "       0.45241273, 0.45556584, 0.45874092, 0.46193813, 0.46515763,\n",
       "       0.46839956, 0.47166409, 0.47495137, 0.47826156, 0.48159482,\n",
       "       0.48495131, 0.4883312 , 0.49173464, 0.49516181, 0.49861286,\n",
       "       0.50208796, 0.50558728, 0.50911099, 0.51265925, 0.51623225,\n",
       "       0.51983015, 0.52345313, 0.52710135, 0.53077501, 0.53447426,\n",
       "       0.5381993 , 0.5419503 , 0.54572745, 0.54953091, 0.55336089,\n",
       "       0.55721756, 0.56110111, 0.56501172, 0.56894959, 0.57291491,\n",
       "       0.57690786, 0.58092864, 0.58497745, 0.58905447, 0.5931599 ,\n",
       "       0.59729396, 0.60145682, 0.60564869, 0.60986978, 0.6141203 ,\n",
       "       0.61840043, 0.62271039, 0.6270504 , 0.63142065, 0.63582136,\n",
       "       0.64025274, 0.64471501, 0.64920837, 0.65373305, 0.65828927,\n",
       "       0.66287724, 0.66749719, 0.67214934, 0.67683391, 0.68155113,\n",
       "       0.68630122, 0.69108442, 0.69590096, 0.70075107, 0.70563498,\n",
       "       0.71055293, 0.71550516, 0.7204919 , 0.72551339, 0.73056988,\n",
       "       0.73566162, 0.74078884, 0.7459518 , 0.75115073, 0.75638591,\n",
       "       0.76165757, 0.76696597, 0.77231137, 0.77769402, 0.78311419,\n",
       "       0.78857213, 0.79406811, 0.7996024 , 0.80517526, 0.81078696,\n",
       "       0.81643777, 0.82212796, 0.82785781, 0.8336276 , 0.8394376 ,\n",
       "       0.84528809, 0.85117936, 0.85711168, 0.86308536, 0.86910066,\n",
       "       0.87515789, 0.88125734, 0.88739929, 0.89358406, 0.89981192,\n",
       "       0.9060832 , 0.91239818, 0.91875717, 0.92516048, 0.93160842,\n",
       "       0.9381013 , 0.94463944, 0.95122314, 0.95785272, 0.96452851,\n",
       "       0.97125083, 0.97802   , 0.98483635, 0.9917002 , 0.99861189,\n",
       "       1.00557175, 1.01258012, 1.01963734, 1.02674374, 1.03389967,\n",
       "       1.04110547, 1.0483615 , 1.05566809, 1.06302561, 1.07043441,\n",
       "       1.07789484, 1.08540727, 1.09297205, 1.10058956, 1.10826016,\n",
       "       1.11598422, 1.12376212, 1.13159422, 1.13948091, 1.14742256,\n",
       "       1.15541957, 1.16347231, 1.17158117, 1.17974655, 1.18796884,\n",
       "       1.19624843, 1.20458573, 1.21298114, 1.22143505, 1.22994789,\n",
       "       1.23852006, 1.24715197, 1.25584404, 1.2645967 , 1.27341035,\n",
       "       1.28228543, 1.29122237, 1.30022159, 1.30928353, 1.31840863,\n",
       "       1.32759733, 1.33685007, 1.3461673 , 1.35554946, 1.36499701,\n",
       "       1.37451041, 1.38409011, 1.39373658, 1.40345028, 1.41323168,\n",
       "       1.42308125, 1.43299947, 1.44298681, 1.45304376, 1.46317081,\n",
       "       1.47336843, 1.48363713, 1.49397739, 1.50438972, 1.51487462,\n",
       "       1.5254326 , 1.53606416, 1.54676982, 1.55755009, 1.56840549,\n",
       "       1.57933655, 1.5903438 , 1.60142776, 1.61258897, 1.62382797,\n",
       "       1.6351453 , 1.6465415 , 1.65801714, 1.66957275, 1.6812089 ,\n",
       "       1.69292615, 1.70472506, 1.7166062 , 1.72857016, 1.74061749,\n",
       "       1.75274879, 1.76496464, 1.77726563, 1.78965234, 1.80212539,\n",
       "       1.81468537, 1.82733289, 1.84006856, 1.85289298, 1.86580679,\n",
       "       1.8788106 , 1.89190504, 1.90509075, 1.91836835, 1.93173849,\n",
       "       1.94520181, 1.95875897, 1.97241061, 1.9861574 , 2.        ])"
      ]
     },
     "execution_count": 34,
     "metadata": {},
     "output_type": "execute_result"
    }
   ],
   "source": [
    "logspace"
   ]
  },
  {
   "cell_type": "code",
   "execution_count": 20,
   "metadata": {},
   "outputs": [],
   "source": [
    "# не очень поняла отличия между использованием просто cv=5 и использованием StratifiedKFold\n",
    "\n",
    "lr_cv_1 = LogisticRegressionCV(Cs=logspace, cv=5, scoring=\"roc_auc\", random_state=17)\n",
    "lr_cv_model_1 = lr_cv.fit(x_train, y_train)"
   ]
  },
  {
   "cell_type": "code",
   "execution_count": 21,
   "metadata": {},
   "outputs": [
    {
     "data": {
      "text/plain": [
       "(5, 500)"
      ]
     },
     "execution_count": 21,
     "metadata": {},
     "output_type": "execute_result"
    }
   ],
   "source": [
    "lr_cv_model_1.scores_[1].shape"
   ]
  },
  {
   "cell_type": "code",
   "execution_count": null,
   "metadata": {},
   "outputs": [],
   "source": []
  },
  {
   "cell_type": "markdown",
   "metadata": {
    "colab_type": "text",
    "id": "kaE1oixihXN8"
   },
   "source": [
    "### 2.4\n",
    "Используя метод plot из matplotlib.pyplot, выведите график зависимости auc_roc от значения C."
   ]
  },
  {
   "cell_type": "markdown",
   "metadata": {
    "colab_type": "text",
    "id": "yRsW0oWQhXN9"
   },
   "source": [
    "*Примечание: значения по оси x - разбиение с помощью np.logspace из п.2 предыдущего задания, а значения по оси y - среднее значение roc_auc по каждой валидации, т.е. среднее значение из полученных на каждом из 5-ти разбиений при данном параметре C (используйте метод scores_ объекта, который инкапсулирует LogisticRegressionCV).*"
   ]
  },
  {
   "cell_type": "code",
   "execution_count": 36,
   "metadata": {
    "colab": {},
    "colab_type": "code",
    "id": "5H0CAgq9hXN-"
   },
   "outputs": [],
   "source": [
    "import matplotlib.pyplot as plt"
   ]
  },
  {
   "cell_type": "code",
   "execution_count": 37,
   "metadata": {},
   "outputs": [
    {
     "data": {
      "text/plain": [
       "(5, 500)"
      ]
     },
     "execution_count": 37,
     "metadata": {},
     "output_type": "execute_result"
    }
   ],
   "source": [
    "lr_cv_model.scores_[1].shape"
   ]
  },
  {
   "cell_type": "code",
   "execution_count": 38,
   "metadata": {},
   "outputs": [
    {
     "data": {
      "text/plain": [
       "array([[0.75464286, 0.75488095, 0.75464286, ..., 0.80988095, 0.80988095,\n",
       "        0.80988095],\n",
       "       [0.68392857, 0.68416667, 0.68464286, ..., 0.87821429, 0.87821429,\n",
       "        0.87821429],\n",
       "       [0.6547619 , 0.65619048, 0.65619048, ..., 0.83880952, 0.83904762,\n",
       "        0.83904762],\n",
       "       [0.74987952, 0.74963855, 0.75012048, ..., 0.88843373, 0.88843373,\n",
       "        0.88843373],\n",
       "       [0.75698795, 0.75771084, 0.7586747 , ..., 0.83      , 0.83      ,\n",
       "        0.83      ]])"
      ]
     },
     "execution_count": 38,
     "metadata": {},
     "output_type": "execute_result"
    }
   ],
   "source": [
    "lr_cv_model.scores_[1]"
   ]
  },
  {
   "cell_type": "code",
   "execution_count": 39,
   "metadata": {},
   "outputs": [
    {
     "data": {
      "text/plain": [
       "(500,)"
      ]
     },
     "execution_count": 39,
     "metadata": {},
     "output_type": "execute_result"
    }
   ],
   "source": [
    "scores = np.mean(lr_cv_model.scores_[1], axis=0)\n",
    "scores.shape"
   ]
  },
  {
   "cell_type": "code",
   "execution_count": 40,
   "metadata": {
    "colab": {},
    "colab_type": "code",
    "id": "KTZtXirYhXOC"
   },
   "outputs": [
    {
     "data": {
      "text/plain": [
       "[<matplotlib.lines.Line2D at 0xcc4b588>]"
      ]
     },
     "execution_count": 40,
     "metadata": {},
     "output_type": "execute_result"
    },
    {
     "data": {
      "image/png": "[encoded data removed]",
      "text/plain": [
       "<Figure size 432x288 with 1 Axes>"
      ]
     },
     "metadata": {
      "needs_background": "light"
     },
     "output_type": "display_data"
    }
   ],
   "source": [
    "plt.xticks = logspace\n",
    "plt.xlim((-0.1, 1))\n",
    "plt.plot(logspace, scores)"
   ]
  },
  {
   "cell_type": "markdown",
   "metadata": {
    "colab_type": "text",
    "id": "lv9qcBE4hXOH"
   },
   "source": [
    "### 2.5\n",
    "С помощью метода C_ того же объекта выведите лучшее значение C. Выведите более конкретную область графика (область ~15 точкам по x), включающую лучшее значение C.\n",
    "\n",
    "*Примечание: используйте plt.xlim.*"
   ]
  },
  {
   "cell_type": "code",
   "execution_count": 41,
   "metadata": {
    "colab": {},
    "colab_type": "code",
    "id": "BUoS6KvRhXOI"
   },
   "outputs": [
    {
     "data": {
      "text/plain": [
       "[<matplotlib.lines.Line2D at 0xccc7e48>]"
      ]
     },
     "execution_count": 41,
     "metadata": {},
     "output_type": "execute_result"
    },
    {
     "data": {
      "image/png": "[encoded data removed]",
      "text/plain": [
       "<Figure size 432x288 with 1 Axes>"
      ]
     },
     "metadata": {
      "needs_background": "light"
     },
     "output_type": "display_data"
    }
   ],
   "source": [
    "lr_cv_model.C_\n",
    "plt.xlim((lr_cv_model.C_[0] - 0.05, lr_cv_model.C_[0] + 0.05))\n",
    "plt.plot(logspace, scores)"
   ]
  },
  {
   "cell_type": "markdown",
   "metadata": {
    "colab_type": "text",
    "id": "d6ihFwlJhXOL"
   },
   "source": [
    "### 2.6\n",
    "С помощью метода predict_proba получите вероятности принадлежности объектов тестовой выборки к классам. Постройте график roc_auc для тестовой выборки и выведите значение auc."
   ]
  },
  {
   "cell_type": "markdown",
   "metadata": {
    "colab_type": "text",
    "id": "H0f_DNEMhXOM"
   },
   "source": [
    "**Пример** построения графика."
   ]
  },
  {
   "cell_type": "code",
   "execution_count": 42,
   "metadata": {
    "colab": {},
    "colab_type": "code",
    "id": "WzMU7ULahXOM"
   },
   "outputs": [],
   "source": [
    "from sklearn.metrics import roc_auc_score, roc_curve"
   ]
  },
  {
   "cell_type": "code",
   "execution_count": 46,
   "metadata": {
    "colab": {},
    "colab_type": "code",
    "id": "Vv5vQq-_hXOR",
    "outputId": "802337a2-3f55-4021-e8d7-0488e63261ba"
   },
   "outputs": [],
   "source": [
    "# probas = logit_search.fit(x_train, y_train).predict_proba(x_train)\n",
    "# fpr, tpr, _ = roc_curve(y_train, probas[:, 1])\n",
    "# auc = roc_auc_score(y_train, probas[:, 1])\n",
    "# plt.plot(fpr, tpr, label=\"auc=\" + str(auc))\n",
    "# plt.legend(loc=4)"
   ]
  },
  {
   "cell_type": "code",
   "execution_count": 47,
   "metadata": {
    "colab": {},
    "colab_type": "code",
    "id": "9ptD2581hXOY"
   },
   "outputs": [
    {
     "data": {
      "text/plain": [
       "<matplotlib.legend.Legend at 0xcd77088>"
      ]
     },
     "execution_count": 47,
     "metadata": {},
     "output_type": "execute_result"
    },
    {
     "data": {
      "image/png": "[encoded data removed]",
      "text/plain": [
       "<Figure size 432x288 with 1 Axes>"
      ]
     },
     "metadata": {
      "needs_background": "light"
     },
     "output_type": "display_data"
    }
   ],
   "source": [
    "probas = lr_cv_model.predict_proba(x_train)\n",
    "fpr, tpr, _ = roc_curve(y_train, probas[:, 1])\n",
    "auc = roc_auc_score(y_train, probas[:, 1])\n",
    "plt.plot(fpr, tpr, label=\"auc=\" + str(auc))\n",
    "plt.legend(loc=4)"
   ]
  },
  {
   "cell_type": "code",
   "execution_count": null,
   "metadata": {},
   "outputs": [],
   "source": []
  }
 ],
 "metadata": {
  "colab": {
   "name": "homework_classification-2_les-1_part-2.ipynb",
   "provenance": []
  },
  "kernelspec": {
   "display_name": "Python 3",
   "language": "python",
   "name": "python3"
  },
  "language_info": {
   "codemirror_mode": {
    "name": "ipython",
    "version": 3
   },
   "file_extension": ".py",
   "mimetype": "text/x-python",
   "name": "python",
   "nbconvert_exporter": "python",
   "pygments_lexer": "ipython3",
   "version": "3.7.6"
  }
 },
 "nbformat": 4,
 "nbformat_minor": 1
}
