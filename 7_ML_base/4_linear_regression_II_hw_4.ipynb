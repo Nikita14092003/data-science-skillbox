{
 "cells": [
  {
   "cell_type": "markdown",
   "metadata": {
    "colab_type": "text",
    "id": "90H1_YdZMMbo"
   },
   "source": [
    "### Урок 4. Домашняя работа\n",
    "\n",
    "**Задание среднего уровня** Примените градиентный спуск к задаче прогнозирования цен на недвижимость в Бостоне. Какого качества на валидации удалось достичь по r2-score? Сколько итераций  понадобилось?"
   ]
  },
  {
   "cell_type": "code",
   "execution_count": 6,
   "metadata": {},
   "outputs": [],
   "source": [
    "import numpy as np\n",
    "import pandas as pd\n",
    "import matplotlib.pyplot as plt\n",
    "# для регрессии\n",
    "from sklearn.model_selection import train_test_split\n",
    "from sklearn.linear_model import SGDRegressor\n",
    "from sklearn.metrics import r2_score\n",
    "from scipy.spatial import distance\n",
    "%matplotlib inline"
   ]
  },
  {
   "cell_type": "code",
   "execution_count": 7,
   "metadata": {
    "colab": {},
    "colab_type": "code",
    "id": "0q8EbVXRMMbp"
   },
   "outputs": [],
   "source": [
    "from sklearn.datasets import load_boston\n",
    "boston_dataset = load_boston()\n",
    "X = boston_dataset.data\n",
    "y = boston_dataset.target\n",
    "X_train, X_test, y_train, y_test = train_test_split(X, y, test_size=0.2, random_state=10)"
   ]
  },
  {
   "cell_type": "code",
   "execution_count": 101,
   "metadata": {},
   "outputs": [],
   "source": [
    "def fit_SGDRegressor(X_train, X_test, y_train, y_test, eta0=0.000001, fit_intercept=True, epsilon = 0.00001):\n",
    "\n",
    "    print(f\"eta0 = {eta0}, epsilon = {epsilon}, fit_intercept = {fit_intercept}\")\n",
    "          \n",
    "    sgd_regressor = SGDRegressor(learning_rate='constant', eta0=eta0, fit_intercept=fit_intercept, random_state=42)\n",
    "    w_current = np.random.default_rng(seed=42).random(13)\n",
    "    weight_evolution, score_evolution = [], []\n",
    "    for step in list(range(100000)):\n",
    "        sgd_regressor = sgd_regressor.partial_fit(X_train, y_train)\n",
    "        weight_evolution.append(distance.euclidean(w_current, sgd_regressor.coef_))\n",
    "        if weight_evolution[-1] < epsilon:\n",
    "            print(\"Итарации остановлены на шаге %d\" % step); break\n",
    "        score_evolution.append(r2_score(y_test, sgd_regressor.predict(X_test)))\n",
    "        w_current = sgd_regressor.coef_.copy()\n",
    "    \n",
    "    print(f\"r2-score: {score_evolution[-1]}\")\n",
    "\n",
    "    return score_evolution, step\n",
    "    \n",
    "    #plt.plot(range(step), score_evolution)"
   ]
  },
  {
   "cell_type": "code",
   "execution_count": 96,
   "metadata": {},
   "outputs": [
    {
     "name": "stdout",
     "output_type": "stream",
     "text": [
      "eta0 = 0.000001, fit_intercept = true, epsilon = 0.00001\n",
      "epsilon = 1e-05\n",
      "Итарации остановлены на шаге 64554\n",
      "r2-score: 0.6286689205043876\n",
      "eta0 = 0.000001, fit_intercept = false, epsilon = 0.00001\n",
      "epsilon = 1e-05\n",
      "Итарации остановлены на шаге 63681\n",
      "r2-score: 0.6261047464876672\n",
      "eta0 = 0.000001, fit_intercept = true, epsilon = 0.001\n",
      "epsilon = 0.001\n",
      "Итарации остановлены на шаге 937\n",
      "r2-score: 0.35577370630426874\n",
      "eta0 = 0.000001, fit_intercept = false, epsilon = 0.001\n",
      "epsilon = 0.001\n",
      "Итарации остановлены на шаге 944\n",
      "r2-score: 0.35555622593505876\n"
     ]
    }
   ],
   "source": [
    "# без standart scaler\n",
    "score_evolution, step = fit_SGDRegressor(X_train, X_test, y_train, y_test)\n",
    "\n",
    "score_evolution, step = fit_SGDRegressor(X_train, X_test, y_train, y_test, eta0=0.000001, fit_intercept=False, epsilon=0.00001)\n",
    "\n",
    "score_evolution, step = fit_SGDRegressor(X_train, X_test, y_train, y_test, eta0=0.000001, fit_intercept=True, epsilon=0.001)\n",
    "\n",
    "score_evolution, step = fit_SGDRegressor(X_train, X_test, y_train, y_test, eta0=0.000001, fit_intercept=False, epsilon=0.001)\n"
   ]
  },
  {
   "cell_type": "code",
   "execution_count": 103,
   "metadata": {},
   "outputs": [
    {
     "name": "stdout",
     "output_type": "stream",
     "text": [
      "Трансформированы только входные данные\n",
      "eta0 = 1e-06, epsilon = 1e-05, fit_intercept = True\n",
      "Итарации остановлены на шаге 82342\n",
      "r2-score: 0.6708874518150989\n",
      "eta0 = 1e-06, epsilon = 1e-05, fit_intercept = False\n",
      "Итарации остановлены на шаге 82342\n",
      "r2-score: -4.197986670802847\n",
      "eta0 = 1e-06, epsilon = 0.0001, fit_intercept = True\n",
      "Итарации остановлены на шаге 17240\n",
      "r2-score: 0.6744497206112352\n",
      "eta0 = 1e-06, epsilon = 0.0001, fit_intercept = False\n",
      "Итарации остановлены на шаге 17240\n",
      "r2-score: -4.183700531137641\n",
      "--------------------------------------------------------\n",
      "Трансформированы только входные данные X и y\n",
      "eta0 = 1e-06, epsilon = 1e-05, fit_intercept = True\n",
      "Итарации остановлены на шаге 19572\n",
      "r2-score: 0.6741201365492039\n",
      "eta0 = 1e-06, epsilon = 1e-05, fit_intercept = False\n",
      "Итарации остановлены на шаге 19572\n",
      "r2-score: 0.6741206581527268\n",
      "eta0 = 1e-06, epsilon = 0.0001, fit_intercept = True\n",
      "Итарации остановлены на шаге 1991\n",
      "r2-score: 0.5891210154012825\n",
      "eta0 = 1e-06, epsilon = 0.0001, fit_intercept = False\n",
      "Итарации остановлены на шаге 1991\n",
      "r2-score: 0.5891207225493301\n"
     ]
    }
   ],
   "source": [
    "# со standart scaler\n",
    "\n",
    "from sklearn.preprocessing import StandardScaler\n",
    "scaler = StandardScaler()\n",
    "X_train_tr = scaler.fit_transform(X_train)\n",
    "X_test_tr = scaler.transform(X_test)\n",
    "\n",
    "scaler = StandardScaler()\n",
    "y_train_tr = scaler.fit_transform(y_train.reshape(-1, 1)).reshape(-1)\n",
    "y_test_tr = scaler.transform(y_test.reshape(-1, 1)).reshape(-1)\n",
    "\n",
    "print(\"Трансформированы только входные данные\")\n",
    "\n",
    "score_evolution, step = fit_SGDRegressor(X_train_tr, X_test_tr, y_train, y_test)\n",
    "\n",
    "score_evolution, step = fit_SGDRegressor(X_train_tr, X_test_tr, y_train, y_test, \n",
    "                                         eta0=0.000001, fit_intercept=False, epsilon=0.00001)\n",
    "\n",
    "score_evolution, step = fit_SGDRegressor(X_train_tr, X_test_tr, y_train, y_test, \n",
    "                                         eta0=0.000001, fit_intercept=True, epsilon=0.0001)\n",
    "\n",
    "score_evolution, step = fit_SGDRegressor(X_train_tr, X_test_tr, y_train, y_test, \n",
    "                                         eta0=0.000001, fit_intercept=False, epsilon=0.0001)\n",
    "\n",
    "print(\"--------------------------------------------------------\")\n",
    "\n",
    "print(\"Трансформированы только входные данные X и y\")\n",
    "\n",
    "score_evolution, step = fit_SGDRegressor(X_train_tr, X_test_tr, y_train_tr, y_test_tr)\n",
    "\n",
    "score_evolution, step = fit_SGDRegressor(X_train_tr, X_test_tr, y_train_tr, y_test_tr, \n",
    "                                         eta0=0.000001, fit_intercept=False, epsilon=0.00001)\n",
    "\n",
    "score_evolution, step = fit_SGDRegressor(X_train_tr, X_test_tr, y_train_tr, y_test_tr, \n",
    "                                         eta0=0.000001, fit_intercept=True, epsilon=0.0001)\n",
    "\n",
    "score_evolution, step = fit_SGDRegressor(X_train_tr, X_test_tr, y_train_tr, y_test_tr, \n",
    "                                         eta0=0.000001, fit_intercept=False, epsilon=0.0001)"
   ]
  },
  {
   "cell_type": "markdown",
   "metadata": {
    "colab_type": "text",
    "id": "ZadrTkGLMMbs"
   },
   "source": [
    "Вы можете начать использовать градиентный спуск уже сейчас! Если вы хотите глубже понять механизмы, которые использует этот приём - добро пожаловать в урок 5, где мы поговорим о математике, которая стоит за градиентным спуском и даже реализуем градиентный спуск на языке Python."
   ]
  }
 ],
 "metadata": {
  "celltoolbar": "Slideshow",
  "colab": {
   "name": "jun_ml_linear_regression_II-hw_4.ipynb",
   "provenance": []
  },
  "kernelspec": {
   "display_name": "Python 3",
   "language": "python",
   "name": "python3"
  },
  "language_info": {
   "codemirror_mode": {
    "name": "ipython",
    "version": 3
   },
   "file_extension": ".py",
   "mimetype": "text/x-python",
   "name": "python",
   "nbconvert_exporter": "python",
   "pygments_lexer": "ipython3",
   "version": "3.7.6"
  }
 },
 "nbformat": 4,
 "nbformat_minor": 1
}
