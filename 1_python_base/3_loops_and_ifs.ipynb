{
 "cells": [
  {
   "cell_type": "markdown",
   "metadata": {
    "colab_type": "text",
    "id": "X9wfb-pqPzYu"
   },
   "source": [
    "# Циклы и условия\n",
    "\n",
    "## Домашняя работа\n",
    "Эта домашняя работа должна быть решена **БЕЗ** использования готовых функций (если именно они \"решают\" задачу) и сторонних библиотек. Используйте циклы и условия."
   ]
  },
  {
   "cell_type": "markdown",
   "metadata": {
    "colab_type": "text",
    "id": "DMpu8uUoPzY0"
   },
   "source": [
    "## 1\n",
    "\n",
    "Напишите программу, которая будет запрашивать на вход числа (через запятую на одной строке) и выводить наибольшее значение из списка.\n",
    "<br><br>\n",
    "*Ограничение: нельзя пользоваться готовой функцией для нахождения максимума (например, `max()`), готовыми функциями и методами сортировки (например, `sort()`,`sorted()`).*"
   ]
  },
  {
   "cell_type": "code",
   "execution_count": 6,
   "metadata": {
    "colab": {},
    "colab_type": "code",
    "id": "dHs34-p-PzY3"
   },
   "outputs": [
    {
     "name": "stdout",
     "output_type": "stream",
     "text": [
      "Введите числа через запятую:-9,-3,5,7,11,0\n",
      "Наибольшее число из введённых: 11\n"
     ]
    }
   ],
   "source": [
    "numbers = input('Введите числа через запятую:').split(',')\n",
    "max_number = None\n",
    "for str_number in numbers:\n",
    "    cur_number = int(str_number)\n",
    "    if max_number == None or cur_number > max_number:\n",
    "        max_number = cur_number\n",
    "print(f'Наибольшее число из введённых: {max_number}')"
   ]
  },
  {
   "cell_type": "markdown",
   "metadata": {
    "colab_type": "text",
    "id": "sCF9Hd9rPzZD"
   },
   "source": [
    "### 2\n",
    "\n",
    "Напишите программу, которая будет запрашивать на вход числа (каждое с новой строки) до тех пор, пока не будет введен ноль (0). На выход должно выводиться второе по величине значение.\n",
    "<br><br>\n",
    "*Ограничение: нельзя пользоваться готовой функцией для нахождения максимума (например, `max()`), готовыми функциями и методами сортировки (например, `sort()`,`sorted()`).*"
   ]
  },
  {
   "cell_type": "code",
   "execution_count": 12,
   "metadata": {
    "colab": {},
    "colab_type": "code",
    "id": "yrJk-mEjPzZF"
   },
   "outputs": [
    {
     "name": "stdout",
     "output_type": "stream",
     "text": [
      "Введите число (0 - выход): 5\n",
      "Введите число (0 - выход): 5\n",
      "Введите число (0 - выход): 5\n",
      "Введите число (0 - выход): 0\n",
      "Было введено меньше двух различных чисел\n"
     ]
    }
   ],
   "source": [
    "input_number, max_number, second_max_number = None, None, None\n",
    "while input_number != 0:\n",
    "    input_number = int(input('Введите число (0 - выход): '))\n",
    "    if max_number == None or input_number > max_number:\n",
    "        second_max_number, max_number = max_number, input_number\n",
    "if second_max_number == None:\n",
    "    print('Было введено меньше двух различных чисел')\n",
    "else:\n",
    "    print(f'Второе по величине значение: {second_max_number}')"
   ]
  },
  {
   "cell_type": "markdown",
   "metadata": {
    "colab_type": "text",
    "id": "fdJZMUtGPzZN"
   },
   "source": [
    "### 3\n",
    "\n",
    "Напишите программу, которая принимает на вход год, а на выход выдает количество дней в этом году."
   ]
  },
  {
   "cell_type": "code",
   "execution_count": 17,
   "metadata": {
    "colab": {},
    "colab_type": "code",
    "id": "Dk6PDx-jPzZP"
   },
   "outputs": [
    {
     "name": "stdout",
     "output_type": "stream",
     "text": [
      "Введите год: 2000\n",
      "Дней в году: 366\n"
     ]
    }
   ],
   "source": [
    "year = int(input('Введите год: '))\n",
    "is_leap_year = False\n",
    "if year % 100 == 0:\n",
    "    if year % 400 == 0:\n",
    "        is_leap_year = True\n",
    "elif year % 4 == 0:\n",
    "    is_leap_year = True\n",
    "\n",
    "print('Дней в году: ', end='')\n",
    "if is_leap_year:\n",
    "    print('366')\n",
    "else:\n",
    "    print('365')"
   ]
  },
  {
   "cell_type": "markdown",
   "metadata": {
    "colab_type": "text",
    "id": "wFGBh0dYPzZV"
   },
   "source": [
    "### 4\n",
    "\n",
    "Напишите программу, которая на вход получает координаты двух клеток шахматной доски и выводит соощение о том, являются ли эти клетки одного цвета."
   ]
  },
  {
   "cell_type": "code",
   "execution_count": 25,
   "metadata": {
    "colab": {},
    "colab_type": "code",
    "id": "k-8POcqGPzZW"
   },
   "outputs": [
    {
     "name": "stdout",
     "output_type": "stream",
     "text": [
      "Введите первую клетку шахматной доски: a3\n",
      "Введите вторую клетку шахматной доски: e8\n",
      "Клетки разного цвета\n"
     ]
    }
   ],
   "source": [
    "# наверняка запись могла бы быть более короткой и с меньшим количеством переменных, но так понятней сама идея\n",
    "# что у черных клеток одинаковая четность индекса, а у белых - разная.\n",
    "\n",
    "tuple_letters = ('a', 'b', 'c', 'd', 'e', 'f', 'g', 'h')\n",
    "tuple_numbers = ('1', '2', '3', '4', '5', '6', '7', '8')\n",
    "\n",
    "cell1 = input('Введите первую клетку шахматной доски: ')\n",
    "cell2 = input('Введите вторую клетку шахматной доски: ')\n",
    "\n",
    "index1_letter = tuple_letters.index(cell1[0])\n",
    "index1_num = tuple_numbers.index(cell1[1])\n",
    "\n",
    "index2_letter = tuple_letters.index(cell2[0])\n",
    "index2_num = tuple_numbers.index(cell2[1])\n",
    "\n",
    "is_black1 = (index1_letter % 2 == index1_num % 2)\n",
    "is_black2 = (index2_letter % 2 == index2_num % 2)\n",
    "\n",
    "if is_black1 == is_black2:\n",
    "    print('Клетки одного цвета')\n",
    "else:\n",
    "    print('Клетки разного цвета')"
   ]
  },
  {
   "cell_type": "markdown",
   "metadata": {
    "colab_type": "text",
    "id": "O594rz0tPzZb"
   },
   "source": [
    "### 5\n",
    "\n",
    "Напишите программу, которая на вход получает число, а на выходе сообщает, простое это число или составное."
   ]
  },
  {
   "cell_type": "code",
   "execution_count": 34,
   "metadata": {
    "colab": {},
    "colab_type": "code",
    "id": "-Oy1AesyPzZd"
   },
   "outputs": [
    {
     "name": "stdout",
     "output_type": "stream",
     "text": [
      "Введите число: 113\n",
      "Вы ввели простое число\n"
     ]
    }
   ],
   "source": [
    "my_number = int(input('Введите число: '))\n",
    "is_simple = True\n",
    "\n",
    "for i in range(2, my_number // 2 + 1):\n",
    "    if my_number % i == 0:\n",
    "        is_simple = False\n",
    "        break\n",
    "        \n",
    "if is_simple:\n",
    "    print('Вы ввели простое число')\n",
    "else:\n",
    "    print('Вы ввели составное число')"
   ]
  },
  {
   "cell_type": "markdown",
   "metadata": {
    "colab_type": "text",
    "id": "QzBAQaW8PzZg"
   },
   "source": [
    "### 6\n",
    "\n",
    "Напишите программу, которая на вход получает целое число больше 2 и выводит по нему его наименьший натуральный делитель, отличный от 1."
   ]
  },
  {
   "cell_type": "code",
   "execution_count": 42,
   "metadata": {
    "colab": {},
    "colab_type": "code",
    "id": "Z2QzgAYKPzZi"
   },
   "outputs": [
    {
     "name": "stdout",
     "output_type": "stream",
     "text": [
      "Введите число больше 2: 113\n",
      "Наименьший натуральный делитель числа 113, отличный от 1 -- 113\n"
     ]
    }
   ],
   "source": [
    "my_number = int(input('Введите число больше 2: '))\n",
    "min_divider = 1\n",
    "\n",
    "for i in range(2, my_number // 2 + 1):\n",
    "    if my_number % i == 0:\n",
    "        min_divider = i\n",
    "        break\n",
    "        \n",
    "if min_divider == 1:\n",
    "    min_divider = my_number\n",
    "    \n",
    "print(f'Наименьший натуральный делитель числа {my_number}, отличный от 1 -- {min_divider}')"
   ]
  },
  {
   "cell_type": "markdown",
   "metadata": {
    "colab_type": "text",
    "id": "Mdg_IAfFPzZk"
   },
   "source": [
    "### 7\n",
    "\n",
    "Напишите программу, которая поможет составить план тренировок для подготовки к марафону. Она получает на вход число километров на планируемом марафоне, сколько пользователь планирует пробежать в первый день тренировок и на сколько процентов планирует увеличивать каждый день это расстояние. На выходе программа должна выдавать, сколько дней пользователю потребуется для того, чтобы подготовиться пробежать целевое количество километров.\n",
    "<br><br>\n",
    "*Ограничение: нельзя пользоваться функцией `ceil()` из модуля `math` и ее аналогами.*"
   ]
  },
  {
   "cell_type": "code",
   "execution_count": 46,
   "metadata": {
    "colab": {},
    "colab_type": "code",
    "id": "mXeF6AMWPzZl"
   },
   "outputs": [
    {
     "name": "stdout",
     "output_type": "stream",
     "text": [
      "Сколько километров будет марафон: 40\n",
      "Сколько планируете пробежать в первый день: 10\n",
      "На сколько процентов в день будете увеличивать расстояние: 10\n",
      "Вам потребуется 16 дней, в последний день вы пробежите: 41.77\n"
     ]
    }
   ],
   "source": [
    "full_dist = int(input('Сколько километров будет марафон: '))\n",
    "start_dist = int(input('Сколько планируете пробежать в первый день: '))\n",
    "increase_percent = int(input('На сколько процентов в день будете увеличивать расстояние: '))\n",
    "\n",
    "cur_dist = start_dist\n",
    "\n",
    "# предполагаем, что за время тренировок пользователь должен ровно один раз пробежать расстояние >= расстоянию марафона\n",
    "days_for_training = 1\n",
    "\n",
    "while cur_dist < full_dist:\n",
    "    days_for_training += 1\n",
    "    cur_dist = cur_dist + cur_dist * increase_percent / 100\n",
    "    \n",
    "print(f'Вам потребуется {days_for_training} дней, в последний день вы пробежите: {round(cur_dist, 2)}')"
   ]
  },
  {
   "cell_type": "markdown",
   "metadata": {
    "colab_type": "text",
    "id": "sxKoWpYKPzZo"
   },
   "source": [
    "### 8\n",
    "\n",
    "Напишите программу, которая на вход получает число n и считает по нему сумму 1²+2²+3²+...+n².\n",
    "<br><br>\n",
    "*Ограничение: нельзя пользоваться функцией `sum()` и ее аналогами.*"
   ]
  },
  {
   "cell_type": "code",
   "execution_count": 49,
   "metadata": {
    "colab": {},
    "colab_type": "code",
    "id": "RiPlWLm6PzZp"
   },
   "outputs": [
    {
     "name": "stdout",
     "output_type": "stream",
     "text": [
      "Введите число: 3\n",
      "14\n"
     ]
    }
   ],
   "source": [
    "n = int(input('Введите число: '))\n",
    "summ = 0\n",
    "\n",
    "for i in range(1, n + 1):\n",
    "    summ += i**2\n",
    "    \n",
    "print(summ)"
   ]
  },
  {
   "cell_type": "markdown",
   "metadata": {
    "colab_type": "text",
    "id": "aXzG4-wdPzZr"
   },
   "source": [
    "## 9\n",
    "\n",
    "Напишите программу, которая на вход получает число n и считает по нему сумму сумму 1! + 2! + 3! + ... + n!\n",
    "<br><br>\n",
    "*Ограничение: нельзя пользоваться готовой функцией `factorial()` из модуля `math`, функцией `sum()` и их аналогами.*"
   ]
  },
  {
   "cell_type": "code",
   "execution_count": 57,
   "metadata": {
    "colab": {},
    "colab_type": "code",
    "id": "KBEXUEDQPzZs"
   },
   "outputs": [
    {
     "name": "stdout",
     "output_type": "stream",
     "text": [
      "Введите число: 3\n",
      "9\n"
     ]
    }
   ],
   "source": [
    "def fact(num):\n",
    "    if num == 0:\n",
    "        return 1\n",
    "    return num * fact(num - 1)\n",
    "\n",
    "n = int(input('Введите число: '))\n",
    "summ = 0\n",
    "\n",
    "# нет требования использовать/не использовать рекурсию/оптимизировать вычисления -- использовала рекурсию и цикл, \n",
    "# хотя при таком решении факториал числа k считается n-k+1 раз\n",
    "for i in range(1, n + 1):\n",
    "    summ += fact(i)\n",
    "    \n",
    "print(summ)"
   ]
  },
  {
   "cell_type": "markdown",
   "metadata": {
    "colab_type": "text",
    "id": "4nsOuiWVPzZu"
   },
   "source": [
    "### 10\n",
    "\n",
    "Напишите программу, которая получает на вход последовательность чисел (каждое число с новой строки до того момента, пока пользователь не введет 0) и считает количество четных элементов в последовательности."
   ]
  },
  {
   "cell_type": "code",
   "execution_count": 62,
   "metadata": {
    "colab": {},
    "colab_type": "code",
    "id": "xktF2cocPzZv"
   },
   "outputs": [
    {
     "name": "stdout",
     "output_type": "stream",
     "text": [
      "Введите число (0 - выход): 1\n",
      "Введите число (0 - выход): 2\n",
      "Введите число (0 - выход): 3\n",
      "Введите число (0 - выход): 4\n",
      "Введите число (0 - выход): 5\n",
      "Введите число (0 - выход): 6\n",
      "Введите число (0 - выход): 6\n",
      "Введите число (0 - выход): 4\n",
      "Введите число (0 - выход): 3\n",
      "Введите число (0 - выход): 5\n",
      "Введите число (0 - выход): 6\n",
      "Введите число (0 - выход): 0\n",
      "Количество четных элементов: 6\n"
     ]
    }
   ],
   "source": [
    "count_even_numbers = 0\n",
    "while True:\n",
    "    input_number = int(input('Введите число (0 - выход): '))\n",
    "    if input_number == 0:\n",
    "        break\n",
    "    if input_number % 2 == 0:\n",
    "        count_even_numbers += 1\n",
    "\n",
    "print(f'Количество четных элементов: {count_even_numbers}')"
   ]
  },
  {
   "cell_type": "markdown",
   "metadata": {
    "colab_type": "text",
    "id": "hyC9QGXPPzZx"
   },
   "source": [
    "### 11\n",
    "\n",
    "Напишите программу, которая формирует список игроков женской команды по футболу. Программа должна записывать возраст и пол претендента. Возраст должен запрашиваться после пола и только в том случае, если пол претендента женский. Если пол претендента мужской, программа должна сообщать о том, что он не подходит. Возраст претенденток должен быть от 18 до 35 лет. Если кандидат удовлетворяет требованиям, должно появляться соответствующее сообщение."
   ]
  },
  {
   "cell_type": "code",
   "execution_count": 67,
   "metadata": {
    "colab": {},
    "colab_type": "code",
    "id": "qSDK-zQ4PzZx"
   },
   "outputs": [
    {
     "name": "stdout",
     "output_type": "stream",
     "text": [
      "Введите имя кандидата: тетс\n",
      "Введите пол кандидата (м/ж): ж\n",
      "Введите возвраст кандидата: 18\n",
      "Кандидат тетс удовлетворяет требованиям\n"
     ]
    },
    {
     "data": {
      "text/plain": [
       "True"
      ]
     },
     "execution_count": 67,
     "metadata": {},
     "output_type": "execute_result"
    }
   ],
   "source": [
    "# в условии не сказано, что запрашивается имя претендента, но сложно составлять список без имени =)\n",
    "def add_candidate():\n",
    "    name = input('Введите имя кандидата: ')\n",
    "    sex = input('Введите пол кандидата (м/ж): ')\n",
    "    if sex == 'м':\n",
    "        print(f'Кандидат {name} не подходит')\n",
    "        return False\n",
    "    elif sex != 'ж':\n",
    "        print('некорректно введён пол кандидата')\n",
    "        return False\n",
    "    \n",
    "    age = int(input('Введите возраст кандидата: '))\n",
    "    if 18 <= age <=35:\n",
    "        print(f'Кандидат {name} удовлетворяет требованиям')\n",
    "        return True\n",
    "    else:\n",
    "        print(f'Кандидат {name} не удовлетворяет требованиям')\n",
    "        return False\n",
    "    \n",
    "add_candidate()"
   ]
  },
  {
   "cell_type": "markdown",
   "metadata": {
    "colab_type": "text",
    "id": "B4JAB8AqPzZ0"
   },
   "source": [
    "### 12\n",
    "\n",
    "\n",
    "Напишите программу, которая на вход получает максимальную ширину ромба и рисует его. Гарантируется, что входное число всегда нечетное.\n",
    " \n",
    "Пример вывода для числа 5:\n",
    "```  \n",
    "  *\n",
    " ***\n",
    "*****\n",
    " ***\n",
    "  *```"
   ]
  },
  {
   "cell_type": "code",
   "execution_count": 73,
   "metadata": {
    "colab": {},
    "colab_type": "code",
    "id": "WVp7O75oPzZ0"
   },
   "outputs": [
    {
     "name": "stdout",
     "output_type": "stream",
     "text": [
      "Введите максимальную ширину ромба (нечетное число)7\n",
      "   *   \n",
      "  ***  \n",
      " ***** \n",
      "*******\n",
      " ***** \n",
      "  ***  \n",
      "   *   \n"
     ]
    }
   ],
   "source": [
    "max_width = int(input('Введите максимальную ширину ромба (нечетное число): '))\n",
    "\n",
    "def print_str(count_stars):\n",
    "    spaces_str = ' ' * ((max_width - count_stars) // 2)\n",
    "    print(spaces_str + '*' * count_stars + spaces_str)\n",
    "    \n",
    "for i in range(1, max_width + 1, 2):\n",
    "    print_str(i)\n",
    "    \n",
    "for i in range(max_width - 2, 0, -2):\n",
    "    print_str(i)"
   ]
  },
  {
   "cell_type": "markdown",
   "metadata": {
    "colab_type": "text",
    "id": "xrIXWj0yPzZ2"
   },
   "source": [
    "### 13\n",
    "\n",
    "Напишите программу, которая запрашивает у пользователя сторону квадрата и символ, а затем рисует этот символ по диагоналям квадрата. Гарантируется, что входное число всегда нечетное.\n",
    " \n",
    "Пример вывода для числа 5:\n",
    "```\n",
    " \n",
    "#   #\n",
    " # #\n",
    "  #  \n",
    " # #\n",
    "#   #\n",
    "```"
   ]
  },
  {
   "cell_type": "code",
   "execution_count": 76,
   "metadata": {
    "colab": {},
    "colab_type": "code",
    "id": "oUKNB9TaPzZ3",
    "outputId": "47421e19-6d45-4cef-9df8-0d89200499ca"
   },
   "outputs": [
    {
     "name": "stdout",
     "output_type": "stream",
     "text": [
      "Введите сторону квадрата (нечетное число): 9\n",
      "Введите символ для рисования: %\n",
      "%       %\n",
      " %     % \n",
      "  %   %  \n",
      "   % %   \n",
      "    %    \n",
      "   % %   \n",
      "  %   %  \n",
      " %     % \n",
      "%       %\n"
     ]
    }
   ],
   "source": [
    "width = int(input('Введите сторону квадрата (нечетное число): '))\n",
    "symbol = input('Введите символ для рисования: ')\n",
    "\n",
    "def print_str(str_number):\n",
    "    for i in range(width):\n",
    "        if i == str_number or i == (width - str_number - 1):\n",
    "            print(symbol, end='')\n",
    "        else:\n",
    "            print(' ', end='')\n",
    "    print('')\n",
    "        \n",
    "    \n",
    "for i in range(width):\n",
    "    print_str(i)"
   ]
  },
  {
   "cell_type": "markdown",
   "metadata": {
    "colab_type": "text",
    "id": "3GaiPsFYPzZ_"
   },
   "source": [
    "### 14\n",
    "\n",
    "В корзине лежат шары. Если разложить их в кучи по 2, останется один. Если разложить в кучи по 3, останется один. Если разложить в кучи по 4, останется один. Если разложить в кучи по 5, останется один. Если разложить в кучи по 6, останется один. Если разложить в кучи по 7, не будет остатка. Нужно найти минимальное количество шаров, удовлетворяющее условию.  <br>"
   ]
  },
  {
   "cell_type": "code",
   "execution_count": 79,
   "metadata": {
    "colab": {
     "base_uri": "https://localhost:8080/",
     "height": 32
    },
    "colab_type": "code",
    "executionInfo": {
     "elapsed": 1380,
     "status": "ok",
     "timestamp": 1571844968537,
     "user": {
      "displayName": "Анастасия Рогачевская",
      "photoUrl": "https://lh3.googleusercontent.com/a-/AAuE7mB92snW1RMZTGvFBrPMpd_BzLIeP2XnbSZ3ZNVFUQ=s64",
      "userId": "07714489023974728369"
     },
     "user_tz": -180
    },
    "id": "V2msEhQkPzZ_",
    "outputId": "c36c996d-347b-430f-f53e-65e37eb23108"
   },
   "outputs": [
    {
     "name": "stdout",
     "output_type": "stream",
     "text": [
      "Bingo! , n = 301\n"
     ]
    }
   ],
   "source": [
    "# так как не было требования сделать механизм, расширяемый на n, сделала в лоб.\n",
    "n_start = 7\n",
    "while True:\n",
    "            \n",
    "    if (n % 2 == 1) and (n % 3 == 1) and (n % 4 == 1) and (n % 5 == 1) and (n % 6 == 1) and (n % 7 == 0):\n",
    "        print('Bingo! , n =', n)\n",
    "        break\n",
    "    n += 1"
   ]
  },
  {
   "cell_type": "markdown",
   "metadata": {
    "colab_type": "text",
    "id": "5pOjlON-PzaC"
   },
   "source": [
    "### 15\n",
    "\n",
    "Рабочие клеили обои на стены. Первую стену поклеили за M минут, а каждую следующую на 5 минут больше, чем предыдущую.\n",
    "Напишите программу, которая запрашивает сколько стен было в квартире под поклейку, а также время работы с первой стеной. Программа должна выводить, сколько **часов** рабочие потратили на поклейку обоев во всей квартире. Ответом должно быть целое число.\n",
    "<br><br>\n",
    "*Ограничение: нельзя пользоваться готовыми функциями `bool()`, `floor()` и их аналогами.*"
   ]
  },
  {
   "cell_type": "code",
   "execution_count": 82,
   "metadata": {
    "colab": {},
    "colab_type": "code",
    "id": "Pmu96rWGPzaD"
   },
   "outputs": [
    {
     "name": "stdout",
     "output_type": "stream",
     "text": [
      "Сколько стен в квартире: 2\n",
      "Сколько минут на первую стену: 30\n",
      "Рабочие потратили на поклейку обоев в квартире 1 полных часов\n",
      "Рабочие потратили на поклейку обоев в квартире 2 неполных часов\n"
     ]
    }
   ],
   "source": [
    "walls_count = int(input('Сколько стен в квартире: '))\n",
    "minutes_for_wall = int(input('Сколько минут на первую стену: '))\n",
    "sum_min = 0\n",
    "\n",
    "for i in range(walls_count):\n",
    "    sum_min += minutes_for_wall\n",
    "    minutes_for_wall += 5\n",
    "    \n",
    "# не поняла, выводить сколько полных часов выводить, или неполных. \n",
    "# Так как упоминается floor, кажется, что неполных, но вывела оба значения    \n",
    "print(f'Рабочие потратили на поклейку обоев в квартире {sum_min // 60} полных часов')\n",
    "print(f'Рабочие потратили на поклейку обоев в квартире {(sum_min - 1) // 60 + 1} неполных часов')"
   ]
  },
  {
   "cell_type": "markdown",
   "metadata": {
    "colab_type": "text",
    "id": "63C6Za3CPzaF"
   },
   "source": [
    "### 16\n",
    "\n",
    "Напишите программу, которая убирает из списка повторяющиеся элементы. Программа должна запрашивать на вход слова, каждое с новой строки, пока пользователь не введет пустую строку. Затем должна выводить список без повторяющихся элементов. \n",
    "<br><br>\n",
    "*Ограничение: нельзя пользоваться готовой функцией `set()` и ее аналогами.*"
   ]
  },
  {
   "cell_type": "code",
   "execution_count": 85,
   "metadata": {
    "colab": {},
    "colab_type": "code",
    "id": "MQ-eDkbAPzaG"
   },
   "outputs": [
    {
     "name": "stdout",
     "output_type": "stream",
     "text": [
      "Введите слово (выход - пустая строка): 1\n",
      "Введите слово (выход - пустая строка): 3\n",
      "Введите слово (выход - пустая строка): 4\n",
      "Введите слово (выход - пустая строка): 5\n",
      "Введите слово (выход - пустая строка): 1\n",
      "Введите слово (выход - пустая строка): 3\n",
      "Введите слово (выход - пустая строка): 4\n",
      "Введите слово (выход - пустая строка): 6\n",
      "Введите слово (выход - пустая строка): 7\n",
      "Введите слово (выход - пустая строка): 1\n",
      "Введите слово (выход - пустая строка): \n",
      "['1', '3', '4', '5', '6', '7']\n"
     ]
    }
   ],
   "source": [
    "my_list = []\n",
    "while True:\n",
    "    input_word = input('Введите слово (выход - пустая строка): ')\n",
    "    if input_word == '':\n",
    "        break\n",
    "    if input_word not in my_list:\n",
    "        my_list.append(input_word)\n",
    "\n",
    "print(my_list)"
   ]
  },
  {
   "cell_type": "markdown",
   "metadata": {
    "colab_type": "text",
    "id": "jueSDORaPzaI"
   },
   "source": [
    "### 17\n",
    "\n",
    "Напишите программу, которая выводит число пар одинаковых элементов в списке. Программа должна запрашивать на вход слова, каждое с новой строки, пока пользователь не введет пустую строку. "
   ]
  },
  {
   "cell_type": "code",
   "execution_count": 87,
   "metadata": {
    "colab": {},
    "colab_type": "code",
    "id": "49tbEr3NPzaJ"
   },
   "outputs": [
    {
     "name": "stdout",
     "output_type": "stream",
     "text": [
      "Введите слово (выход - пустая строка): 1\n",
      "Введите слово (выход - пустая строка): 1\n",
      "Введите слово (выход - пустая строка): 1\n",
      "Введите слово (выход - пустая строка): 2\n",
      "Введите слово (выход - пустая строка): 2\n",
      "Введите слово (выход - пустая строка): 3\n",
      "Введите слово (выход - пустая строка): 4\n",
      "Введите слово (выход - пустая строка): 1\n",
      "Введите слово (выход - пустая строка): \n",
      "7\n"
     ]
    }
   ],
   "source": [
    "my_list = []\n",
    "pairs_count = 0\n",
    "while True:\n",
    "    input_word = input('Введите слово (выход - пустая строка): ')\n",
    "    if input_word == '':\n",
    "        break\n",
    "    pairs_count += my_list.count(input_word)\n",
    "    my_list.append(input_word)\n",
    "    \n",
    "print(pairs_count)"
   ]
  },
  {
   "cell_type": "markdown",
   "metadata": {
    "colab_type": "text",
    "id": "yVLcBrD-PzaN"
   },
   "source": [
    "### 18\n",
    "\n",
    "Будем считать, что кубик может иметь неограниченное количество граней (натуральное число). Напишите программу, которая запрашивает, сколько граней имеется у двух разных кубиков. Затем выводит все возможные комбинации результатов бросков двух таких кубиков. "
   ]
  },
  {
   "cell_type": "code",
   "execution_count": 89,
   "metadata": {
    "colab": {},
    "colab_type": "code",
    "id": "7I2va0KwPzaR"
   },
   "outputs": [
    {
     "name": "stdout",
     "output_type": "stream",
     "text": [
      "Введите количество граней первого кубика: 3\n",
      "Введите количество граней второго кубика: 2\n",
      "1 1\n",
      "1 2\n",
      "1 3\n",
      "2 2\n",
      "2 3\n"
     ]
    }
   ],
   "source": [
    "cube1_sides_count = int(input('Введите количество граней первого кубика: '))\n",
    "cube2_sides_count = int(input('Введите количество граней второго кубика: '))\n",
    "\n",
    "# выводим РАЗЛИЧНЫЕ пары. Место цифры в выводе не означает номер кубика.\n",
    "for i in range(1, min(cube1_sides_count, cube2_sides_count) + 1):\n",
    "    for j in range(i, max(cube1_sides_count, cube2_sides_count) + 1):\n",
    "        print(i, j)"
   ]
  },
  {
   "cell_type": "code",
   "execution_count": null,
   "metadata": {},
   "outputs": [],
   "source": []
  }
 ],
 "metadata": {
  "colab": {
   "name": "jun_anl_loops_and_ifs_СКРИПТ.ipynb",
   "provenance": []
  },
  "kernelspec": {
   "display_name": "Python 3",
   "language": "python",
   "name": "python3"
  },
  "language_info": {
   "codemirror_mode": {
    "name": "ipython",
    "version": 3
   },
   "file_extension": ".py",
   "mimetype": "text/x-python",
   "name": "python",
   "nbconvert_exporter": "python",
   "pygments_lexer": "ipython3",
   "version": "3.7.4"
  }
 },
 "nbformat": 4,
 "nbformat_minor": 1
}
