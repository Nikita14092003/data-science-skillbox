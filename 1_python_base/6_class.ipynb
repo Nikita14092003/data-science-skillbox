{
 "cells": [
  {
   "cell_type": "markdown",
   "metadata": {},
   "source": [
    "# Классы\n",
    "## Домашнее задание"
   ]
  },
  {
   "cell_type": "markdown",
   "metadata": {},
   "source": [
    "### Вопросы по лекциям\n",
    "\n",
    "#### 1.\n",
    "\n",
    "Напишите название функции, которая является конструктором класса."
   ]
  },
  {
   "cell_type": "markdown",
   "metadata": {},
   "source": [
    "**Ответ:**\n",
    "__init__"
   ]
  },
  {
   "cell_type": "markdown",
   "metadata": {},
   "source": [
    "#### 2.\n",
    "\n",
    "На что указывает переменная `self`?"
   ]
  },
  {
   "cell_type": "markdown",
   "metadata": {},
   "source": [
    "**Ответ:**\n",
    "На экземпляр класса"
   ]
  },
  {
   "cell_type": "markdown",
   "metadata": {},
   "source": [
    "#### 3.\n",
    "С помощью какой функции можно проверить, что некая строка является именем одного из атрибутов объекта?"
   ]
  },
  {
   "cell_type": "markdown",
   "metadata": {},
   "source": [
    "**Ответ:**\n",
    "hasattr"
   ]
  },
  {
   "cell_type": "markdown",
   "metadata": {},
   "source": [
    "#### 4.\n",
    "Когда вызывается метод `__del__`? (относительно события удаления объекта)"
   ]
  },
  {
   "cell_type": "markdown",
   "metadata": {},
   "source": [
    "**Ответ:**\n",
    "Перед деструктором объекта"
   ]
  },
  {
   "cell_type": "markdown",
   "metadata": {},
   "source": [
    "#### 5.\n",
    "Верно ли, что атрибут класса перекрывает атрибут объекта?"
   ]
  },
  {
   "cell_type": "markdown",
   "metadata": {},
   "source": [
    "**Ответ:**\n",
    "нет"
   ]
  },
  {
   "cell_type": "markdown",
   "metadata": {},
   "source": [
    "#### 6.\n",
    "Можно ли атрибуты базового класса вызывать в дочернем классе? Если да, то напишите, нет ли исклчений?"
   ]
  },
  {
   "cell_type": "markdown",
   "metadata": {},
   "source": [
    "**Ответ:**\n",
    "Можно, кроме аттрибутов, начинающихся с \"__\""
   ]
  },
  {
   "cell_type": "markdown",
   "metadata": {},
   "source": [
    "#### 7.\n",
    "Объясните своими словами для чего нужен метод `super`."
   ]
  },
  {
   "cell_type": "markdown",
   "metadata": {},
   "source": [
    "**Ответ:**\n",
    "Для вызова метода родительского класса из дочернего (например, когда мы не полностью переопределяем метод/поведение, а дополняем работу метода родительского класса поведением, специфичным только для дочернего класса)"
   ]
  },
  {
   "cell_type": "markdown",
   "metadata": {},
   "source": [
    "### Практика\n",
    "\n",
    "1. Напишите класс `Fraction` для работы с дробями. Пусть дробь в нашем классе предстает в виде `числитель/знаменатель`. Дробное число должно создаваться по запросу `Fraction(a, b)`, где `a` – это числитель, а `b` – знаменатель дроби. \n",
    "2. Добавьте возможность сложения (сложения через оператор сложения) для дроби. Предполагается, что операция сложения может проводиться как только между дробями, так и между дробью и целым числом. Результат оперции должен быть представлен в виде дроби.\n",
    "3. Добавьте возможность взятия раздости (вычитания через оператор вычитания) для дробей. Предполагается, что операция вычитания может проводиться как только для двух дробей, так и для дроби и целого числа. Результат оперции должен быть представлен в виде дроби.\n",
    "4. Добавьте возможность умножения (умножения через оператор умножения) для дробей. Предполагается, что операция умножения может проводиться как только для двух дробей, так и для дроби и целого числа. Результат оперции должен быть представлен в виде дроби.\n",
    "5. Добавьте возможность приведения дроби к целому числу через стандартную функцию `int()`.\n",
    "6. Добавьте возможность приведения дроби к числу с плавающей точкой через стандартную функцию `float()`.\n",
    "7. Создайте дочерний класс `OperationsOnFraction` и добавьте туда собственные методы `getint` и `getfloat`, которые будут возвращять целую часть дроби и представление дроби в виде числа с плавающей точкой соответственно. \n",
    " "
   ]
  },
  {
   "cell_type": "code",
   "execution_count": null,
   "metadata": {},
   "outputs": [],
   "source": []
  },
  {
   "cell_type": "code",
   "execution_count": 15,
   "metadata": {},
   "outputs": [
    {
     "name": "stdout",
     "output_type": "stream",
     "text": [
      "Дроби: 2/3, 1/3\n",
      "2/3 + 1/3: 1/1\n",
      "2/3 + 1: 5/3\n",
      "2/3 - 1/3: 1/3\n",
      "2/3 - 1: -1/3\n",
      "2/3 * 1/3: 2/9\n",
      "2/3 * 1: 2/3\n",
      "int(2/3): 0\n",
      "float(4/3): 1.3333333333333333\n",
      "Возвращаю float от дроби\n",
      "getfloat(4/3): 1.3333333333333333\n",
      "Возвращаю целую часть от дроби\n",
      "getint(4/3): 1\n"
     ]
    }
   ],
   "source": [
    "# так как исключения и адекватное логгирование мы не проходили, то эти места сделаны через принты,\n",
    "# лог для дебага закомментирован.\n",
    "# ну и количество проверок по большому счету минимальное. Пока не осознала, какое количество проверок\n",
    "# должно быть с учетом динамической типизации и возможности передать что угодно. \n",
    "# Что должно держаться на проверках, а что - на неких соглашениях.\n",
    "\n",
    "def find_min_common_multiple(a, b):\n",
    "    \"\"\" Находит наименьшее общее кратное целых чисел a и b \"\"\"\n",
    "    if not isinstance(a, int) or not isinstance(b, int):\n",
    "        print(f\"\"\"Что-то пошло не так. Не умею искать НОК для аргументов, не являющихся int. \n",
    "                    Тип а {type(a)}, тип b {type(b)}\"\"\")\n",
    "        return -1\n",
    "    if a == b:\n",
    "        # если числа равны, то нет смысла танцев с бубнами, они сами являются НОК\n",
    "        return a\n",
    "    if a == 0 or b == 0:\n",
    "        # делить на ноль нельзя\n",
    "        print(f'Что-то пошло не так. Аргументы для НОК должны быть не нулевые')\n",
    "        return -1\n",
    "\n",
    "    min_num, max_num = min(a, b), max(a, b)\n",
    "\n",
    "    if min_num == 1:\n",
    "        return max_num\n",
    "\n",
    "    for i in range(max_num // min_num * min_num, min_num * max_num + 1, min_num):\n",
    "        # имеет смысл искать с большего числа, точнее с ближайшего к большему числу кратного меньшему\n",
    "        # до произведения чисел, с шагом меньшего числа\n",
    "        if i % a == 0 and i % b == 0:\n",
    "            # print(f'Найдено НОК чисел {a} и {b}: {i}')\n",
    "            return i\n",
    "\n",
    "    return -1\n",
    "\n",
    "\n",
    "def find_max_common_divider(a, b):\n",
    "    \"\"\" Находит наибольший общий делитель целых чисел a и b \"\"\"\n",
    "    if not isinstance(a, int) or not isinstance(b, int):\n",
    "        print(f\"\"\"Что-то пошло не так. Не умею искать НОД для аргументов, не являющихся int. \n",
    "                    Тип а {type(a)}, тип b {type(b)}\"\"\")\n",
    "        return -1\n",
    "\n",
    "    min_num, max_num = min(a, b), max(a, b)\n",
    "    for i in range(min_num, 0, -1):\n",
    "        if a % i == 0 and b % i == 0:\n",
    "            return i\n",
    "\n",
    "    return -1\n",
    "\n",
    "\n",
    "class Fraction:\n",
    "\n",
    "    def __init__(self, numerator, denominator):\n",
    "        # здесь теоретически ещё куча проверок на типы и т.д.\n",
    "        if denominator == 0:\n",
    "            print('Неверная дробь. Знаменатель не может быть равен нулю')\n",
    "        if denominator < 0:\n",
    "            numerator, denominator = (-1)*numerator, (-1)*denominator\n",
    "        self.numerator = numerator\n",
    "        self.denominator = denominator\n",
    "\n",
    "    def __str__(self):\n",
    "        return f'{self.numerator}/{self.denominator}'\n",
    "\n",
    "    def __add__(self, other):\n",
    "        if isinstance(other, int):\n",
    "            other = Fraction(other, 1)\n",
    "        elif not isinstance(other, Fraction):\n",
    "            # тут должно быть исключение\n",
    "            print('Не могу сложить. слагаемое не является дробью или целым числом')\n",
    "            return None\n",
    "\n",
    "        # чтобы не изменять для расчетов сами слагаемые, создаём новые объекты.\n",
    "        # Потом код изменила, но этот оставила закомментаренный, в память о том, что проблема такая была\n",
    "        # term1 = Fraction(self.numerator, self.denominator)\n",
    "        # term2 = Fraction(other.numerator, other.denominator)\n",
    "        # min_common_denominator = find_min_common_multiple(term1.denominator, term2.denominator)\n",
    "        # term1.change_denominator(min_common_denominator)\n",
    "        # term2.change_denominator(min_common_denominator)\n",
    "        # res = Fraction(term1.numerator + term2.numerator, term1.denominator)\n",
    "\n",
    "        min_common_denominator = find_min_common_multiple(self.denominator, other.denominator)\n",
    "        res = Fraction(self.numerator * min_common_denominator // self.denominator +\n",
    "                       other.numerator * min_common_denominator // other.denominator,\n",
    "                       min_common_denominator)\n",
    "        res.reduce()\n",
    "\n",
    "        return res\n",
    "\n",
    "    def __sub__(self, other):\n",
    "\n",
    "        # Можно ли добавить возможность вычитать дробь из инта?\n",
    "        if isinstance(other, int):\n",
    "            other = Fraction(other, 1)\n",
    "        elif not isinstance(other, Fraction):\n",
    "            # тут должно быть исключение\n",
    "            print('Не могу вычесть. Вычитаемое не является дробью или целым числом')\n",
    "            return None\n",
    "\n",
    "        min_common_denominator = find_min_common_multiple(self.denominator, other.denominator)\n",
    "        res = Fraction(self.numerator * min_common_denominator // self.denominator -\n",
    "                       other.numerator * min_common_denominator // other.denominator,\n",
    "                       min_common_denominator)\n",
    "        res.reduce()\n",
    "\n",
    "        return res\n",
    "\n",
    "    def __mul__(self, other):\n",
    "        if isinstance(other, int):\n",
    "            other = Fraction(other, 1)\n",
    "        elif not isinstance(other, Fraction):\n",
    "            # тут должно быть исключение\n",
    "            print('Не могу умножить. Множитель не является дробью или целым числом')\n",
    "            return None\n",
    "\n",
    "        res = Fraction(self.numerator * other.numerator,\n",
    "                       self.denominator * other.denominator)\n",
    "        res.reduce()\n",
    "\n",
    "        return res\n",
    "\n",
    "    def __int__(self):\n",
    "        # почему-то -2 // 3 = -1 ???\n",
    "        # return int(self.numerator // self.denominator)\n",
    "        return int(self.numerator / self.denominator)\n",
    "\n",
    "    def __float__(self):\n",
    "        return float(self.numerator / self.denominator)\n",
    "\n",
    "    def reduce(self):\n",
    "        \"\"\" выполняет сокращение дроби \"\"\"\n",
    "        max_common_divider = find_max_common_divider(abs(self.numerator), self.denominator)\n",
    "        if max_common_divider == 1:\n",
    "            return\n",
    "        self.numerator = self.numerator // max_common_divider\n",
    "        self.denominator = self.denominator // max_common_divider\n",
    "        #print(f'Выполнено сокращение дроби. Итог: {self.numerator}/{self.denominator}')\n",
    "        \n",
    "    def change_denominator(self, new_denominator):\n",
    "        # эта функция использовалась только в первом варианте, который закомментирован. Но пока не стала её удалять\n",
    "        if new_denominator == self.denominator:\n",
    "            return\n",
    "\n",
    "        if new_denominator % self.denominator != 0:\n",
    "            print(f\"\"\"Не могу привести целочисленную дробь к новому знаменателю. \n",
    "                        Знаменатель: {self.denominator}, новый знаменатель: {new_denominator}\"\"\")\n",
    "            return\n",
    "\n",
    "        factor = new_denominator // self.denominator\n",
    "        self.numerator *= factor\n",
    "        self.denominator = new_denominator\n",
    "\n",
    "class OperationsOnFraction(Fraction):\n",
    "\n",
    "    def getint(self):\n",
    "        print('Возвращаю целую часть от дроби')\n",
    "        return int(self)\n",
    "\n",
    "    def getfloat(self):\n",
    "        print('Возвращаю float от дроби')\n",
    "        return float(self)\n",
    "\n",
    "\n",
    "# здесь оставила часть проверок своих закомментаренными, это не все, но бОльшая часть ключевых\n",
    "fraction1 = Fraction(2, 3)\n",
    "fraction2 = Fraction(1, 3)\n",
    "# fraction1 = Fraction(2, -3)\n",
    "# fraction2 = Fraction(-1, 3)\n",
    "# fraction3 = Fraction(1, 6)\n",
    "# fraction4 = Fraction(3, 8)\n",
    "# fraction5 = Fraction(1, 12)\n",
    "# fraction6 = Fraction(1, 4)\n",
    "\n",
    "print(f'Дроби: {fraction1}, {fraction2}')\n",
    "print(f'{fraction1} + {fraction2}: {fraction1 + fraction2}')\n",
    "# print(fraction3 + fraction4)\n",
    "# print(fraction3 + fraction6)\n",
    "# print(fraction1 + fraction5)\n",
    "print(f'{fraction1} + 1: {fraction1 + 1}')\n",
    "# print(fraction6 + (-3))\n",
    "\n",
    "print(f'{fraction1} - {fraction2}: {fraction1 - fraction2}')\n",
    "# print(fraction3 - fraction4)\n",
    "# print(fraction3 - fraction6)\n",
    "# print(fraction1 - fraction5)\n",
    "# print(fraction1 - 1)\n",
    "print(f'{fraction1} - 1: {fraction1 - 1}')\n",
    "# print(fraction6 - 3)\n",
    "# print(fraction1 - (-1))\n",
    "\n",
    "print(f'{fraction1} * {fraction2}: {fraction1 * fraction2}')\n",
    "# print(fraction3 * fraction4)\n",
    "# print(fraction3 * fraction6)\n",
    "# print(fraction1 * fraction5)\n",
    "print(f'{fraction1} * 1: {fraction1 * 1}')\n",
    "# print(fraction6 * 3)\n",
    "# print(fraction1 * (-1))\n",
    "\n",
    "print(f'int({fraction1}): {int(fraction1)}')\n",
    "\n",
    "fr = OperationsOnFraction(4, 3)\n",
    "print(f'float({fr}): {float(fr)}')\n",
    "print(f'getfloat({fr}): {fr.getfloat()}')\n",
    "print(f'getint({fr}): {fr.getint()}')\n",
    "# print(int(fraction1))\n",
    "# print(int(fraction1 - 2))\n",
    "# print(float(OperationsOnFraction(1, 3)))\n",
    "# print(OperationsOnFraction(4, 3).getfloat())\n",
    "# print(OperationsOnFraction(4, 3).getint())"
   ]
  },
  {
   "cell_type": "code",
   "execution_count": null,
   "metadata": {},
   "outputs": [],
   "source": []
  }
 ],
 "metadata": {
  "kernelspec": {
   "display_name": "Python 3",
   "language": "python",
   "name": "python3"
  },
  "language_info": {
   "codemirror_mode": {
    "name": "ipython",
    "version": 3
   },
   "file_extension": ".py",
   "mimetype": "text/x-python",
   "name": "python",
   "nbconvert_exporter": "python",
   "pygments_lexer": "ipython3",
   "version": "3.7.6"
  }
 },
 "nbformat": 4,
 "nbformat_minor": 2
}
