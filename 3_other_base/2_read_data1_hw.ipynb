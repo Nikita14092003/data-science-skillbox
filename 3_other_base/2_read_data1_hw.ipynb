{
 "cells": [
  {
   "cell_type": "markdown",
   "metadata": {},
   "source": [
    "# Чтение и запись данных. Часть 1\n",
    "\n",
    "## 1. Чтение текстовых файлов, файловые дескрипторы"
   ]
  },
  {
   "cell_type": "markdown",
   "metadata": {},
   "source": [
    "### 1.1\n",
    "\n",
    "**Простая задача** сформируйте объект класса dict, где ключ - это IP адрес, а значение - количество раз, которые этот ip встретился в тесте.\n",
    "\n",
    "*Результат выполнения*\n",
    "<pre>\n",
    "{'192.168.101.4': 1, '192.168.102.3': 2, '192.168.7.46': 1}\n",
    "</pre>"
   ]
  },
  {
   "cell_type": "code",
   "execution_count": 2,
   "metadata": {},
   "outputs": [
    {
     "name": "stdout",
     "output_type": "stream",
     "text": [
      "{'192.168.101.4': 1, '192.168.102.3': 2, '192.168.7.46': 1}\n"
     ]
    }
   ],
   "source": [
    "file_path = './data/uwsgi.log'\n",
    "ip_counter = dict()\n",
    "\n",
    "with open(file_path, 'r', encoding='utf8') as f:\n",
    "    for row in f:\n",
    "        parted_row = row.split(' ')\n",
    "        if len(parted_row) > 1:\n",
    "            ip_counter[parted_row[0]] = ip_counter.setdefault(parted_row[0], 0) + 1\n",
    "            \n",
    "print(ip_counter)"
   ]
  },
  {
   "cell_type": "markdown",
   "metadata": {},
   "source": [
    "### 1.2\n",
    "**Задача среднего уровня** Распечатайте список URL, к которым происходил доступ. GET или POST параметры печатать не нужно.\n",
    "\n",
    "*Результат выполнения*\n",
    "<pre>\n",
    "/movie/is_personalizable/\n",
    "/logger/content/time/\n",
    "/movie/collection/items/recommendations/\n",
    "/movie/recommendations/\n",
    "</pre>"
   ]
  },
  {
   "cell_type": "code",
   "execution_count": 27,
   "metadata": {},
   "outputs": [
    {
     "name": "stdout",
     "output_type": "stream",
     "text": [
      "192.168.101.4?-?-?[05/Feb/2019:21:36:07?+0300]?\"GET?/movie/is_personalizable/?history_type=watch&uid=5734473158358418&master_uid=5734473158358418?HTTP/1.1\"?200?75?\"-\"?\"python-requests/2.0.0?CPython/2.7.3?Linux/4.4.0-47-generic\"\n",
      "\n",
      "/movie/is_personalizable/\n",
      "192.168.102.3?-?-?[05/Feb/2019:21:36:07?+0300]?\"POST?/logger/content/time/?HTTP/1.1\"?404?305?\"-\"?\"Mozilla/5.0?(Windows;?U;?en-US;?rv:1.8.1.11;?Gecko/20071129;?Firefox/2.5.0)?Maple?6.0.00067?Navi\"\n",
      "\n",
      "/logger/content/time/\n",
      "192.168.102.3?-?-?[05/Feb/2019:21:36:07?+0300]?\"GET?/movie/collection/items/recommendations/?uid=1623029046&master_uid=1623029046&collection_id=1525&subsite=141&app_version=10924&user_ab_bucket=10679?HTTP/1.1\"?200?535?\"-\"?\"python-requests/2.0.0?CPython/2.7.3?Linux/3.13.0-24-generic\"\n",
      "\n",
      "/movie/collection/items/recommendations/\n",
      "192.168.7.46?-?-?[05/Feb/2019:21:36:07?+0300]?\"GET?/movie/recommendations/?uid=803285924&master_uid=803285924&iid=102751&user_ab_bucket=12493&top=30&scenario_id=ITEM_PAGE&app_version=15100&subsite=3021?HTTP/1.1\"?200?1392?\"-\"?\"python-requests/2.0.0?CPython/2.7.3?Linux/3.13.0-24-generic\"\n",
      "\n",
      "/movie/recommendations/\n",
      "\n",
      "\n"
     ]
    }
   ],
   "source": [
    "file_path = './data/uwsgi.log'\n",
    "\n",
    "with open(file_path, 'r', encoding='utf8') as f:\n",
    "    for row in f:\n",
    "        row = row.replace(' ', '?')\n",
    "        res_row = None\n",
    "        \n",
    "        # Берём при поиске символы перед и после get, чтобы обойти ситуацию, \n",
    "        # если в параметрах post запроса есть слово get.\n",
    "        # здесь бы воспользоваться регэкспами, но не добралась до них ещё.\n",
    "        if '?\"GET?' in row:\n",
    "            res_row = row[row.find('GET') + 4:]\n",
    "            res_row = res_row[:res_row.find('?')]\n",
    "        elif '?\"POST?' in row:\n",
    "            res_row = row[row.find('POST') + 5:]\n",
    "            res_row = res_row[:res_row.find('?')]\n",
    "           \n",
    "        print(row)\n",
    "        if res_row:\n",
    "            print(res_row)"
   ]
  },
  {
   "cell_type": "markdown",
   "metadata": {},
   "source": [
    "### 1.3\n",
    "**Задача высокого уровня** Сформируйте объект класса dict, где ключ - это URL, а значение - это массив объектов python `datetime.datetime`: когда происходили запросы к этому URL.\n",
    "\n",
    "*Результат выполнения*\n",
    "<pre>\n",
    "{\n",
    "    '/movie/is_personalizable/': [datetime.datetime(2019, 2, 5, 21, 36, 7)],\n",
    "    '/logger/content/time/': [datetime.datetime(2019, 2, 5, 21, 36, 7)],\n",
    "    '/movie/collection/items/recommendations/': [datetime.datetime(2019, 2, 5, 21, 36, 7)],\n",
    "    '/movie/recommendations/': [datetime.datetime(2019, 2, 5, 21, 36, 7)]\n",
    "}\n",
    "</pre>"
   ]
  },
  {
   "cell_type": "code",
   "execution_count": 32,
   "metadata": {},
   "outputs": [
    {
     "name": "stdout",
     "output_type": "stream",
     "text": [
      "{'/movie/is_personalizable/': [datetime.datetime(2019, 2, 5, 21, 36, 7)], '/logger/content/time/': [datetime.datetime(2019, 2, 5, 21, 36, 7)], '/movie/collection/items/recommendations/': [datetime.datetime(2019, 2, 5, 21, 36, 7)], '/movie/recommendations/': [datetime.datetime(2019, 2, 5, 21, 36, 7)]}\n"
     ]
    }
   ],
   "source": [
    "import datetime\n",
    "file_path = './data/uwsgi.log'\n",
    "\n",
    "access_journal = dict()\n",
    "\n",
    "with open(file_path, 'r', encoding='utf8') as f:\n",
    "    for row in f:\n",
    "        row = row.replace(' ', '?')\n",
    "        res_url = None\n",
    "        \n",
    "        if '?\"GET?' in row:\n",
    "            res_url = row[row.find('GET') + 4:]\n",
    "            res_url = res_url[:res_url.find('?')]\n",
    "        elif '?\"POST?' in row:\n",
    "            res_url = row[row.find('POST') + 5:]\n",
    "            res_url = res_url[:res_url.find('?')]\n",
    "           \n",
    "        if res_url:\n",
    "            # [05/Feb/2019:21:36:07?+0300]\n",
    "            cur_val = access_journal.setdefault(res_url, [])\n",
    "            res_date_str = row.split('[')\n",
    "            if len(res_date_str) > 1:\n",
    "                res_date_str = res_date_str[1][:res_date_str[1].find('?')]\n",
    "                res_date_obj = datetime.datetime.strptime(res_date_str, '%d/%b/%Y:%H:%M:%S')\n",
    "            else:\n",
    "                res_date_obj = None\n",
    "            cur_val.append(res_date_obj)\n",
    "            \n",
    "print(access_journal)"
   ]
  },
  {
   "cell_type": "markdown",
   "metadata": {},
   "source": [
    "## 2. Чтение csv файлов: модуль python csv"
   ]
  },
  {
   "cell_type": "markdown",
   "metadata": {},
   "source": [
    "### 2.1\n",
    "**Простая задача** Сформируйте словарь, в котором ключ - название столбца, а значение - массив записей в этом столбце.\n",
    "\n",
    "*Результат выполнения*\n",
    "<pre>\n",
    "{\n",
    "    'Код': ['HYDRA-535', 'HYDRA-534', 'HYDRA-532', 'HYDRA-531', 'HYDRA-530', 'HYDRA-527', 'HYDRA-524', 'HYDRA-523', 'HYDRA-520', 'HYDRA-519', 'HYDRA-518', 'HYDRA-517', 'HYDRA-514', 'HYDRA-513', 'HYDRA-511', 'HYDRA-510', 'HYDRA-509', 'HYDRA-507', 'HYDRA-506'],\n",
    "    'Тема': ['Пробрасывать пользовательское распределение paid_types в ехидну', 'Гибридный рекомендатель с multi-channel feedback', 'Джоба в дженкинсе для расчёта динамики РВП', 'Интеграция Hydra с Gamora', 'Тестируем интеграцию с Jira', 'Поправить функцию _get_ui_rec_matrix', 'Оптимизировать матрицу ItemFactors', 'Сортировка ЦПБ', 'Закостылить параметр top', \"Сделать 'stable' конфигом по умолчанию в Гидре\", 'Неудобно тестировать запись в redis', 'Улучшить рекомендации (первая итерация)', 'Добавить логирование в скрипты hydra/bin', 'Поправить storage_backend', 'Перемешивание рекомендаций для старых пользователей', 'Поправить скрипты bpr и и оценщика', 'Динамические персональные рекомендации', 'Навести порядок в prepare_data_for_hydra', 'Техдолг по логике /collection/recommendations/'],\n",
    "    'Компонент': ['echidna', 'hydra', 'hydramatrices', 'hydramagrices', 'hydra', 'hydra', 'hydra', 'hydra', 'hydra', 'hydra', 'hydramatrices', 'hydra', 'hydramagrices', 'hydramatrices', 'hydra', 'hydra_utils', 'hydra', 'hydramagrices', 'hydra'],\n",
    "    'Затрачено в часах': ['1', '3', '2', '4', '2', '10', '2', '5', '2', '2', '1', '7', '5', '2', '5', '16', '10', '3', '24']\n",
    "}\n",
    "</pre>"
   ]
  },
  {
   "cell_type": "code",
   "execution_count": 138,
   "metadata": {},
   "outputs": [
    {
     "name": "stdout",
     "output_type": "stream",
     "text": [
      "{'Код': ['HYDRA-535', 'HYDRA-534', 'HYDRA-532', 'HYDRA-531', 'HYDRA-530', 'HYDRA-527', 'HYDRA-524', 'HYDRA-523', 'HYDRA-520', 'HYDRA-519', 'HYDRA-518', 'HYDRA-517', 'HYDRA-514', 'HYDRA-513', 'HYDRA-511', 'HYDRA-510', 'HYDRA-509', 'HYDRA-507', 'HYDRA-506'], 'Тема': ['Пробрасывать пользовательское распределение paid_types в ехидну', 'Гибридный рекомендатель с multi-channel feedback', 'Джоба в дженкинсе для расчёта динамики РВП', 'Интеграция Hydra с Gamora', 'Тестируем интеграцию с Jira', 'Поправить функцию _get_ui_rec_matrix', 'Оптимизировать матрицу ItemFactors', 'Сортировка ЦПБ', 'Закостылить параметр top', \"Сделать 'stable' конфигом по умолчанию в Гидре\", 'Неудобно тестировать запись в redis', 'Улучшить рекомендации (первая итерация)', 'Добавить логирование в скрипты hydra/bin', 'Поправить storage_backend', 'Перемешивание рекомендаций для старых пользователей', 'Поправить скрипты bpr и и оценщика', 'Динамические персональные рекомендации', 'Навести порядок в prepare_data_for_hydra', 'Техдолг по логике /collection/recommendations/'], 'Компонент': ['echidna', 'hydra', 'hydramatrices', 'hydramagrices', 'hydra', 'hydra', 'hydra', 'hydra', 'hydra', 'hydra', 'hydramatrices', 'hydra', 'hydramagrices', 'hydramatrices', 'hydra', 'hydra_utils', 'hydra', 'hydramagrices', 'hydra'], 'Затрачено в часах': ['1', '3', '2', '4', '2', '10', '2', '5', '2', '2', '1', '7', '5', '2', '5', '16', '10', '3', '24']}\n"
     ]
    }
   ],
   "source": [
    "import csv\n",
    "columns_dict = dict()\n",
    "file_path = './data/task.csv'\n",
    "\n",
    "\n",
    "with open(file_path, newline='', encoding='utf8') as csvfile:\n",
    "    reader = csv.DictReader(csvfile)\n",
    "    for col_name in reader.fieldnames:\n",
    "        columns_dict[col_name] = []\n",
    "    for row in reader:\n",
    "        for key, value in row.items():\n",
    "            columns_dict[key].append(value)\n",
    "\n",
    "print(columns_dict)"
   ]
  },
  {
   "cell_type": "markdown",
   "metadata": {},
   "source": [
    "### 2.2\n",
    "**Задача среднего уровня** Посчитайте статистику по колонке \"Затрачено в часах\" (это человеко-часы, затраченные на задачу) – максимальное значение, минимальное значение, среднее значение. Воспользуйтесь словарём `columns_dict` из задания 2.1\n",
    "\n",
    "*Результат выполнения*\n",
    "<pre>\n",
    "min_val=1, max_val=24, mean_val=5.578947368421052\n",
    "\n",
    "</pre>"
   ]
  },
  {
   "cell_type": "code",
   "execution_count": 58,
   "metadata": {},
   "outputs": [
    {
     "name": "stdout",
     "output_type": "stream",
     "text": [
      "min_val=1, max_val=24, mean_val=5.578947368421052\n"
     ]
    }
   ],
   "source": [
    "import pandas as pd\n",
    "\n",
    "min_val, max_val, mean_val = None, None, None\n",
    "\n",
    "\n",
    "df = pd.DataFrame(columns_dict)\n",
    "df['Затрачено в часах'] = pd.to_numeric(df['Затрачено в часах'])\n",
    "\n",
    "min_val = df['Затрачено в часах'].min()\n",
    "max_val = df['Затрачено в часах'].max(axis = 0)\n",
    "mean_val = df['Затрачено в часах'].mean()\n",
    "\n",
    "print(\"min_val={}, max_val={}, mean_val={}\".format(min_val, max_val, mean_val))\n"
   ]
  },
  {
   "cell_type": "markdown",
   "metadata": {},
   "source": [
    "### 2.3\n",
    "**Задача высокого уровня** Сколько человеко-часов было потрачено на задачи, в которых встречается слово \"рекомендации\" в любых формах, а сколько на остальные задачи (в процентах)?\n",
    "\n",
    "Подсказка - проверка на наличие нужного слова в тексте `txt` выглядит так:"
   ]
  },
  {
   "cell_type": "code",
   "execution_count": 60,
   "metadata": {},
   "outputs": [
    {
     "name": "stdout",
     "output_type": "stream",
     "text": [
      "True False\n"
     ]
    }
   ],
   "source": [
    "print('рек' in 'Я делаю рекомендательную систему', 'рек' in 'кек')"
   ]
  },
  {
   "cell_type": "markdown",
   "metadata": {},
   "source": [
    "*Результат выполнения*\n",
    "<pre>\n",
    "{'recs': 2, 'non_recs': 17}\n",
    "</pre>"
   ]
  },
  {
   "cell_type": "code",
   "execution_count": 137,
   "metadata": {},
   "outputs": [
    {
     "name": "stdout",
     "output_type": "stream",
     "text": [
      "{'recs': 3, 'non_recs': 16}\n"
     ]
    }
   ],
   "source": [
    "file_path = './data/task.csv'\n",
    "task_recs_counter = {'recs': 0, 'non_recs': 0}\n",
    "\n",
    "with open(file_path, newline='', encoding='utf8') as csvfile:\n",
    "    reader = csv.DictReader(csvfile)\n",
    "    for row in reader:\n",
    "        for key, value in row.items():\n",
    "            if key == 'Тема':\n",
    "                if 'рекомендаци' in value:\n",
    "                    task_recs_counter['recs'] += 1\n",
    "                else:\n",
    "                    task_recs_counter['non_recs'] += 1\n",
    "\n",
    "print(task_recs_counter)\n",
    "\n",
    "# проверила, их действительно 3, что не совпадает с ожидаемым результатом"
   ]
  },
  {
   "cell_type": "markdown",
   "metadata": {},
   "source": [
    "## 3. Чтение csv файлов: модуль pandas"
   ]
  },
  {
   "cell_type": "markdown",
   "metadata": {},
   "source": [
    "### 3.1\n",
    "\n",
    "**Простое задание** добавьте столбец `num_tasks`, где отражено количество задач, выполненное внутри каждого компонента. Колонка `mean_val` со средним значением поля 'Затрачено в часах' уже добавлена в качестве примера.\n",
    "\n",
    "Чтобы выполнить задание, поправьте словарь `aggregation_json`"
   ]
  },
  {
   "cell_type": "code",
   "execution_count": 88,
   "metadata": {},
   "outputs": [
    {
     "data": {
      "text/html": [
       "<div>\n",
       "<style scoped>\n",
       "    .dataframe tbody tr th:only-of-type {\n",
       "        vertical-align: middle;\n",
       "    }\n",
       "\n",
       "    .dataframe tbody tr th {\n",
       "        vertical-align: top;\n",
       "    }\n",
       "\n",
       "    .dataframe thead th {\n",
       "        text-align: right;\n",
       "    }\n",
       "</style>\n",
       "<table border=\"1\" class=\"dataframe\">\n",
       "  <thead>\n",
       "    <tr style=\"text-align: right;\">\n",
       "      <th></th>\n",
       "      <th>num_tasks</th>\n",
       "    </tr>\n",
       "    <tr>\n",
       "      <th>Компонент</th>\n",
       "      <th></th>\n",
       "    </tr>\n",
       "  </thead>\n",
       "  <tbody>\n",
       "    <tr>\n",
       "      <th>echidna</th>\n",
       "      <td>1</td>\n",
       "    </tr>\n",
       "    <tr>\n",
       "      <th>hydra</th>\n",
       "      <td>11</td>\n",
       "    </tr>\n",
       "    <tr>\n",
       "      <th>hydra_utils</th>\n",
       "      <td>1</td>\n",
       "    </tr>\n",
       "    <tr>\n",
       "      <th>hydramagrices</th>\n",
       "      <td>3</td>\n",
       "    </tr>\n",
       "    <tr>\n",
       "      <th>hydramatrices</th>\n",
       "      <td>3</td>\n",
       "    </tr>\n",
       "  </tbody>\n",
       "</table>\n",
       "</div>"
      ],
      "text/plain": [
       "               num_tasks\n",
       "Компонент               \n",
       "echidna                1\n",
       "hydra                 11\n",
       "hydra_utils            1\n",
       "hydramagrices          3\n",
       "hydramatrices          3"
      ]
     },
     "execution_count": 88,
     "metadata": {},
     "output_type": "execute_result"
    }
   ],
   "source": [
    "import numpy as np\n",
    "import pandas as pd\n",
    "\n",
    "file_path = './data/task.csv'\n",
    "\n",
    "df = pd.read_csv(file_path, encoding='utf8')\n",
    "\n",
    "df.groupby('Компонент').agg(num_tasks=('Затрачено в часах', 'count'))\n",
    "\n",
    "# код с примером закомментировала, так как в последних версиях, как я поняла, он не работает, синтаксис поменялся.\n",
    "# aggregation_json = {\n",
    "#  'Затрачено в часах': {\n",
    "#   'mean_val': np.mean}\n",
    "# }\n",
    "\n",
    "# df.groupby(by=['Компонент'])[['Затрачено в часах']].aggregate(aggregation_json)"
   ]
  },
  {
   "cell_type": "markdown",
   "metadata": {},
   "source": [
    "### 3.2\n",
    "**Задание среднего уровня** Добавьте (в виде `list`) для каждого компонента набор задач, который был в этом компоненте выполнен (идентификаторы содержатся в поле \"Код\"). Для этого замените `.aggregate()` на `.apply(list)`\n",
    "\n",
    "Пример:"
   ]
  },
  {
   "cell_type": "code",
   "execution_count": 93,
   "metadata": {},
   "outputs": [
    {
     "name": "stdout",
     "output_type": "stream",
     "text": [
      "Исходный DataFrame:\n",
      "  key  val\n",
      "0   a    1\n",
      "1   a    2\n",
      "Применяем apply:\n"
     ]
    },
    {
     "data": {
      "text/plain": [
       "key\n",
       "a    [1, 2]\n",
       "Name: val, dtype: object"
      ]
     },
     "execution_count": 93,
     "metadata": {},
     "output_type": "execute_result"
    }
   ],
   "source": [
    "import pandas as pd\n",
    "\n",
    "print('Исходный DataFrame:')\n",
    "a = pd.DataFrame({'key':['a', 'a'], 'val':[1, 2]})\n",
    "print(a)\n",
    "print('Применяем apply:')\n",
    "a.groupby('key')['val'].apply(list)"
   ]
  },
  {
   "cell_type": "markdown",
   "metadata": {},
   "source": [
    "Результат выполнения\n",
    "\n",
    "<pre>\n",
    "Компонент\n",
    "echidna                                                [HYDRA-535]\n",
    "hydra            [HYDRA-534, HYDRA-530, HYDRA-527, HYDRA-524, H...\n",
    "hydra_utils                                            [HYDRA-510]\n",
    "hydramagrices                    [HYDRA-531, HYDRA-514, HYDRA-507]\n",
    "hydramatrices                    [HYDRA-532, HYDRA-518, HYDRA-513]\n",
    "</pre>"
   ]
  },
  {
   "cell_type": "code",
   "execution_count": 95,
   "metadata": {},
   "outputs": [
    {
     "data": {
      "text/plain": [
       "Компонент\n",
       "echidna                                                [HYDRA-535]\n",
       "hydra            [HYDRA-534, HYDRA-530, HYDRA-527, HYDRA-524, H...\n",
       "hydra_utils                                            [HYDRA-510]\n",
       "hydramagrices                    [HYDRA-531, HYDRA-514, HYDRA-507]\n",
       "hydramatrices                    [HYDRA-532, HYDRA-518, HYDRA-513]\n",
       "Name: Код, dtype: object"
      ]
     },
     "execution_count": 95,
     "metadata": {},
     "output_type": "execute_result"
    }
   ],
   "source": [
    "codes_list_df = df.groupby('Компонент')['Код'].apply(list)\n",
    "\n",
    "codes_list_df.head()"
   ]
  },
  {
   "cell_type": "markdown",
   "metadata": {},
   "source": [
    "### 3.3\n",
    "**Задание высокого уровня** Составьте DataFrame с двумя колонками: среднее время на задачу и список задач `codes_list_df` внутри каждого \"Компонента\". Подсказка: подготовьте два датафрейма и используйте [функцию merge](https://pandas.pydata.org/pandas-docs/stable/reference/api/pandas.DataFrame.merge.html)"
   ]
  },
  {
   "cell_type": "code",
   "execution_count": 99,
   "metadata": {},
   "outputs": [
    {
     "data": {
      "text/html": [
       "<div>\n",
       "<style scoped>\n",
       "    .dataframe tbody tr th:only-of-type {\n",
       "        vertical-align: middle;\n",
       "    }\n",
       "\n",
       "    .dataframe tbody tr th {\n",
       "        vertical-align: top;\n",
       "    }\n",
       "\n",
       "    .dataframe thead th {\n",
       "        text-align: right;\n",
       "    }\n",
       "</style>\n",
       "<table border=\"1\" class=\"dataframe\">\n",
       "  <thead>\n",
       "    <tr style=\"text-align: right;\">\n",
       "      <th></th>\n",
       "      <th>num_tasks</th>\n",
       "      <th>Код</th>\n",
       "    </tr>\n",
       "    <tr>\n",
       "      <th>Компонент</th>\n",
       "      <th></th>\n",
       "      <th></th>\n",
       "    </tr>\n",
       "  </thead>\n",
       "  <tbody>\n",
       "    <tr>\n",
       "      <th>echidna</th>\n",
       "      <td>1</td>\n",
       "      <td>[HYDRA-535]</td>\n",
       "    </tr>\n",
       "    <tr>\n",
       "      <th>hydra</th>\n",
       "      <td>11</td>\n",
       "      <td>[HYDRA-534, HYDRA-530, HYDRA-527, HYDRA-524, H...</td>\n",
       "    </tr>\n",
       "    <tr>\n",
       "      <th>hydra_utils</th>\n",
       "      <td>1</td>\n",
       "      <td>[HYDRA-510]</td>\n",
       "    </tr>\n",
       "    <tr>\n",
       "      <th>hydramagrices</th>\n",
       "      <td>3</td>\n",
       "      <td>[HYDRA-531, HYDRA-514, HYDRA-507]</td>\n",
       "    </tr>\n",
       "    <tr>\n",
       "      <th>hydramatrices</th>\n",
       "      <td>3</td>\n",
       "      <td>[HYDRA-532, HYDRA-518, HYDRA-513]</td>\n",
       "    </tr>\n",
       "  </tbody>\n",
       "</table>\n",
       "</div>"
      ],
      "text/plain": [
       "               num_tasks                                                Код\n",
       "Компонент                                                                  \n",
       "echidna                1                                        [HYDRA-535]\n",
       "hydra                 11  [HYDRA-534, HYDRA-530, HYDRA-527, HYDRA-524, H...\n",
       "hydra_utils            1                                        [HYDRA-510]\n",
       "hydramagrices          3                  [HYDRA-531, HYDRA-514, HYDRA-507]\n",
       "hydramatrices          3                  [HYDRA-532, HYDRA-518, HYDRA-513]"
      ]
     },
     "execution_count": 99,
     "metadata": {},
     "output_type": "execute_result"
    }
   ],
   "source": [
    "file_path = './data/task.csv'\n",
    "\n",
    "df = pd.read_csv(file_path, encoding='utf8')\n",
    "\n",
    "num_tasks_df = df.groupby('Компонент').agg(num_tasks=('Затрачено в часах', 'count'))\n",
    "codes_list_df = pd.DataFrame(df.groupby('Компонент')['Код'].apply(list))\n",
    "\n",
    "num_tasks_df.merge(codes_list_df, left_on='Компонент', right_on='Компонент')"
   ]
  },
  {
   "cell_type": "markdown",
   "metadata": {},
   "source": [
    "## 4.  Работа с данными формата HTML"
   ]
  },
  {
   "cell_type": "markdown",
   "metadata": {},
   "source": [
    "### 4.1\n",
    "**Задание простого уровня** Распечатайте список курсов по программированию от Skillbox."
   ]
  },
  {
   "cell_type": "code",
   "execution_count": 136,
   "metadata": {},
   "outputs": [
    {
     "name": "stdout",
     "output_type": "stream",
     "text": [
      "\n",
      "      Веб-разработчик с нуля до PRO\n",
      "    \n",
      "\n",
      "      Java-разработчик\n",
      "    \n",
      "\n",
      "      Python-разработчик\n",
      "    \n",
      "\n",
      "      Аналитик данных на Python\n",
      "    \n",
      "\n",
      "      Frontend-разработчик\n",
      "    \n",
      "\n",
      "      PHP-разработчик с нуля до PRO\n",
      "    \n",
      "\n",
      "      Мобильный разработчик PRO\n",
      "    \n",
      "\n",
      "      Фреймворк Vue.js\n",
      "    \n",
      "\n",
      "      React.js\n",
      "    \n",
      "\n",
      "      Веб-вёрстка\n",
      "    \n",
      "\n",
      "      Python-фреймворк Django\n",
      "    \n",
      "\n",
      "      Тестирование мобильных приложений\n",
      "    \n",
      "\n",
      "      Специалист по кибербезопасности\n",
      "    \n",
      "\n",
      "      Основы математики для Data Science\n",
      "    \n",
      "\n",
      "      Как подготовиться к профессиональной конференции\n",
      "    \n",
      "\n",
      "      PHP-фреймворк Symfony\n",
      "    \n",
      "\n",
      "      Middle-разработчик игр на Unity\n",
      "    \n",
      "\n",
      "      Работа в командной строке Bash\n",
      "    \n",
      "\n",
      "      SQL для анализа данных\n",
      "    \n",
      "\n",
      "      Node.js\n",
      "    \n",
      "\n",
      "      Power BI\n",
      "    \n"
     ]
    }
   ],
   "source": [
    "import requests\n",
    "from lxml import html\n",
    "\n",
    "page = requests.get('https://skillbox.ru/courses/code').content\n",
    "pageStr = page.decode(\"utf-8\")\n",
    "#print(pageStr)\n",
    "#parser = html.HTMLParser(encoding='utf-8')\n",
    "html_tree = html.fromstring(pageStr)\n",
    "\n",
    "# профессий или курсов? Вывела курсов. Закомментировано - профессий.\n",
    "# items_list = html_tree.xpath(\"//b[contains(@class, '{}')]\".format('profession-card__title hover-card__text'))\n",
    "items_list = html_tree.xpath(\"//b[contains(@class, '{}')]\".format('line-card__title hover-card__text'))\n",
    "for item in items_list:\n",
    "    print(item.text)"
   ]
  },
  {
   "cell_type": "markdown",
   "metadata": {},
   "source": [
    "### 4.2\n",
    "\n",
    "**Задание среднего уровня**. Выведите список всех курсов Skillbox по программированию, дизайну, маркетингу и управлению. Добавьте к каждому курсу ссылку http на этот курс на сайте Skillbox."
   ]
  },
  {
   "cell_type": "markdown",
   "metadata": {},
   "source": [
    "*Результат выполнения*\n",
    "<pre>\n",
    "Курс: Веб-дизайн с нуля до PRO  link:  https://skillbox.ru/webdesign/\n",
    "Курс: Рекламная графика  link:  https://skillbox.ru/cpeople/\n",
    "Курс: UX-дизайн  link:  https://skillbox.ru/aic/\n",
    "</pre>"
   ]
  },
  {
   "cell_type": "code",
   "execution_count": 139,
   "metadata": {},
   "outputs": [
    {
     "name": "stdout",
     "output_type": "stream",
     "text": [
      "Список курсов по разделам:\n",
      "\n",
      "\n",
      "Программирование: \n",
      "\n",
      "Курс: Веб-разработчик с нуля до PRO, link: https://skillbox.ru/course/webdev/\n",
      "Курс: Java-разработчик, link: https://skillbox.ru/course/java/\n",
      "Курс: Python-разработчик, link: https://skillbox.ru/course/python/\n",
      "Курс: Аналитик данных на Python, link: https://skillbox.ru/python-data/\n",
      "Курс: Frontend-разработчик, link: https://skillbox.ru/course/frontend-developer/\n",
      "Курс: PHP-разработчик с нуля до PRO, link: https://skillbox.ru/course/php/\n",
      "Курс: Мобильный разработчик PRO, link: https://skillbox.ru/agima/\n",
      "Курс: Фреймворк Vue.js, link: https://skillbox.ru/course/vue-js/\n",
      "Курс: React.js, link: https://skillbox.ru/course/react-js/\n",
      "Курс: Веб-вёрстка, link: https://skillbox.ru/course/weblayout/\n",
      "Курс: Python-фреймворк Django, link: https://skillbox.ru/course/django-framework/\n",
      "Курс: Тестирование мобильных приложений, link: https://skillbox.ru/course/mobile-testing/\n",
      "Курс: Специалист по кибербезопасности, link: https://skillbox.ru/course/cybersecurity/\n",
      "Курс: Основы математики для Data Science, link: https://skillbox.ru/course/math-for-data-science/\n",
      "Курс: Как подготовиться к профессиональной конференции, link: https://skillbox.ru/course/for-it-speaker/\n",
      "Курс: PHP-фреймворк Symfony, link: https://skillbox.ru/course/symfony/\n",
      "Курс: Middle-разработчик игр на Unity, link: https://skillbox.ru/course/unity-pro/\n",
      "Курс: Работа в командной строке Bash, link: https://skillbox.ru/course/bash/\n",
      "Курс: SQL для анализа данных, link: https://skillbox.ru/course/sql-analysis/\n",
      "Курс: Node.js, link: https://skillbox.ru/course/nodejs/\n",
      "Курс: Power BI, link: https://skillbox.ru/course/powerbi/\n",
      "\n",
      "Дизайн: \n",
      "\n",
      "Курс: Веб-дизайн с нуля до PRO, link: https://skillbox.ru/course/webdesign/\n",
      "Курс: Cinema 4D, link: https://skillbox.ru/course/cinema4d/\n",
      "Курс: Дизайн мобильных приложений с нуля до PRO, link: https://skillbox.ru/course/app-design-pro/\n",
      "Курс: Дизайн интерьеров с нуля до PRO, link: https://skillbox.ru/course/interiordesign-pro/\n",
      "Курс: UX Design.Онлайн-курс Майкла Джанды, link: https://janda.skillbox.ru/\n",
      "Курс: Photoshop с нуля до PRO, link: https://skillbox.ru/photoshoppro/\n",
      "Курс: Sound Design c нуля до PRO, link: https://skillbox.ru/course/sound-designer/\n",
      "Курс: Motion Design с 0 до PRO, link: https://course.skillbox.ru/motion-design\n",
      "Курс: UX-дизайнер, link: https://skillbox.ru/course/aic/\n",
      "Курс: ArchiCAD для дизайнеров интерьера, link: https://skillbox.ru/course/archicad-23/\n",
      "Курс: Анимация интерфейсов, link: https://skillbox.ru/course/motion/\n",
      "Курс: Рекламная графика, link: https://skillbox.ru/course/cpeople/\n",
      "Курс: Визуализация в 3ds Max и V-Ray, link: https://skillbox.ru/course/3d-max-visualisation/\n",
      "Курс: Дизайнер сайтов на Tilda, link: https://skillbox.ru/course/tilda/\n",
      "Курс: Дизайн коммерческих интерьеров, link: https://skillbox.ru/course/commercial-design/\n",
      "Курс: Дизайнер промосайтов, link: https://skillbox.ru/course/redcollar/\n",
      "Курс: Графический дизайнер с нуля до PRO, link: https://skillbox.ru/course/graphic-design/\n",
      "Курс: Ableton Live c нуля до PRO, link: https://skillbox.ru/course/ableton-live/\n",
      "Курс: Брендинг, link: https://skillbox.ru/course/branding/\n",
      "Курс: Скетчинг для дизайнеров, link: https://skillbox.ru/course/sketching/\n",
      "Курс: 3ds Max для дизайнеров интерьера, link: https://skillbox.ru/course/3d-max/\n",
      "Курс: Дизайнер-фрилансер в Digital, link: https://skillbox.ru/course/digital-freelance-designer/\n",
      "Курс: Скетчинг на iPad, link: https://skillbox.ru/course/ipad-sketching/\n",
      "Курс: Adobe XD, link: https://skillbox.ru/course/adobexd/\n",
      "Курс: 3D-моделирование в Zbrush с нуля, link: https://skillbox.ru/course/zbrush/\n",
      "Курс: Дизайнер логотипа и фирменного стиля, link: https://skillbox.ru/course/logodesign/\n",
      "Курс: After Effects с нуля до PRO, link: https://course.skillbox.ru/after-effects\n",
      "Курс: Управление дизайн-командами и арт-дирекшн, link: https://new.skillbox.ru/artdirector\n",
      "Курс: 3D-моделирование для начинающих, link: https://skillbox.ru/course/3d/\n",
      "Курс: Figma 2.0, link: https://skillbox.ru/course/figmadesign/\n",
      "Курс: Sketch, link: https://skillbox.ru/course/sketchapp/\n",
      "Курс: Шрифт в дизайне, link: https://new.skillbox.ru/paratype\n",
      "Курс: Скетчинг для дизайнеров интерьера, link: https://skillbox.ru/course/interior-sketching/\n",
      "Курс: Флористика с нуля, link: https://skillbox.ru/course/floristics/\n",
      "Курс: SketchUp c нуля до PRO, link: https://skillbox.ru/course/sketchup/\n",
      "Курс: Фотография с нуля, link: https://skillbox.ru/course/photography-basics/\n",
      "Курс: Adobe Illustrator для иллюстрации, link: https://skillbox.ru/course/adobe-illustrator/\n",
      "Курс: Иллюстрация на iPad, link: https://skillbox.ru/course/ipad-illustration/\n",
      "Курс: Декорирование в дизайне интерьера, link: https://skillbox.ru/course/decoration/\n",
      "Курс: Fashion-скетчинг, link: https://skillbox.ru/course/fashion-sketching/\n",
      "Курс: Коммерческая иллюстрация с нуля до PRO, link: https://skillbox.ru/course/illustrator-start/\n",
      "Курс: Кройка и шитьё, link: https://skillbox.ru/course/cutting-sewing/\n",
      "Курс: Ландшафтный дизайн с нуля, link: https://skillbox.ru/course/landscape-design/\n",
      "Курс: Текстильный декор, link: https://skillbox.ru/course/textile-designer/\n",
      "Курс: Бизнес-курс для дизайнеров интерьера, link: https://skillbox.ru/course/interior-business-course/\n",
      "Курс: Рекламная фотография, link: https://skillbox.ru/course/advert-photography/\n",
      "Курс: Дизайнер одежды, link: https://skillbox.ru/course/fashion-designer/\n",
      "Курс: Элементарная музыкальная теория, link: https://skillbox.ru/course/elementary-music-theory/\n",
      "Курс: Сервисный дизайн, link: https://skillbox.ru/course/service-design/\n",
      "Курс: Дизайнер упаковки, link: https://skillbox.ru/course/packaging-designer/\n",
      "\n",
      "Маркетинг: \n",
      "\n",
      "Курс: Веб-аналитика от Ingate, link: https://skillbox.ru/course/web-analytic-ingate/\n",
      "Курс: Копирайтинг от А до Я, link: https://skillbox.ru/course/copywriter/\n",
      "Курс: Интернет-маркетолог с нуля, link: https://skillbox.ru/course/internet-marketolog/\n",
      "Курс: SMM-специалист с нуля, link: https://skillbox.ru/course/smm-marketer/\n",
      "Курс: Контекстная реклама от А до Я, link: https://skillbox.ru/course/ppc/\n",
      "Курс: Таргетолог, link: https://skillbox.ru/targetolog/\n",
      "Курс: SEO-специалист, link: https://course.skillbox.ru/seo-specialist/\n",
      "Курс: Digital-стратег, link: https://course.skillbox.ru/digitalstrategy\n",
      "Курс: Performance-маркетинг, link: https://skillbox.ru/course/performance-mark/\n",
      "Курс: Управление репутацией бренда в сети, link: https://skillbox.ru/course/reputation/\n",
      "Курс: Продвижение в Инстаграм, link: https://skillbox.ru/instagram/\n",
      "Курс: Как делать контент для YouTube, link: https://skillbox.ru/blogger/\n",
      "Курс: Сквозная аналитика, link: https://skillbox.ru/end-to-end/\n",
      "Курс: CRM-маркетолог, link: https://course.skillbox.ru/crm-marketolog\n",
      "Курс: PR-менеджер от PRT, link: https://skillbox.ru/course/prmanager/\n",
      "Курс: Интернет-маркетолог от Ingate, link: https://skillbox.ru/marketolog/\n",
      "Курс: Запуск и продвижение интернет-магазина с нуля, link: https://skillbox.ru/course/ecommerce/\n",
      "Курс: Маркетинг для предпринимателей, link: https://skillbox.ru/course/marketing-for-business/\n",
      "Курс: Основы контент-маркетинга, link: https://skillbox.ru/course/content-marketing/\n",
      "\n",
      "Управление: \n",
      "\n",
      "Курс: Управление продуктом, link: https://skillbox.ru/course/product-management/\n",
      "Курс: Управление проектами, link: https://skillbox.ru/course/itproject/\n",
      "Курс: Руководитель digital-проектов, link: https://course.skillbox.ru/sibirix-managment/\n",
      "Курс: Менеджмент и маркетинг в индустрии спорта, link: https://course.skillbox.ru/sportmanagement/\n",
      "Курс: Мастер презентации, link: https://skillbox.ru/course/presentation-master/\n",
      "Курс: Продюсер онлайн-курсов, link: https://skillbox.ru/producer/\n",
      "Курс: Как открыть и развивать веб‑студию, link: https://skillbox.ru/course/studio/\n",
      "Курс: Эффективное партнерство в бизнесе, link: https://skillbox.ru/course/partnership/\n",
      "Курс: Excel + Google-таблицы с нуля до PRO, link: https://skillbox.ru/course/excel-gsheets/\n",
      "Курс: Менеджмент в индустрии красоты, link: https://skillbox.ru/course/beauty-industry/\n",
      "Курс: Управление командами, link: https://skillbox.ru/course/team-management/\n",
      "Курс: Продвижение и продажи в digital-агентстве, link: https://skillbox.ru/course/digital-sales/\n",
      "Курс: PowerPoint + Google-презентации, link: https://skillbox.ru/course/powerpoint-gslides/\n",
      "Курс: MS Office, link: https://skillbox.ru/course/msoffice/\n",
      "Курс: Финансовая грамотность, link: https://skillbox.ru/course/finance/\n",
      "Курс: Финансы для нефинансистов, link: https://skillbox.ru/course/finance-non-financier/\n",
      "Курс: Как открыть digital-агентство, link: https://skillbox.ru/course/digital-agency/\n",
      "Курс: Customer Development, link: https://skillbox.ru/course/custdev/\n",
      "Курс: Правовая сторона бизнеса, link: https://skillbox.ru/course/business-legal-side/\n",
      "Курс: Аналитик данных с нуля, link: https://skillbox.ru/course/data-analyst/\n",
      "Курс: HR-менеджер с нуля, link: https://skillbox.ru/course/hr-manager/\n",
      "Курс: Управление продажами, link: https://skillbox.ru/course/sales-management/\n",
      "Курс: Контент-мейкер в спорте, link: https://skillbox.ru/course/sport-media/\n",
      "Курс: Бизнес-аналитика в IT, link: https://skillbox.ru/course/business-analyst/\n",
      "Курс: Продуктовая аналитика: быстрый старт, link: https://skillbox.ru/course/product-analytics/\n",
      "Курс: Операционный менеджмент и непрерывные улучшения, link: https://skillbox.ru/course/operational-management/\n",
      "Курс: HR-аналитика с нуля, link: https://skillbox.ru/course/hr-analyst/\n",
      "Курс: Методист образовательных программ, link: https://skillbox.ru/course/educational-methodist/\n",
      "Курс: Запуск подкаста с нуля, link: https://skillbox.ru/course/podcast-making/\n"
     ]
    }
   ],
   "source": [
    "import requests\n",
    "from lxml import html\n",
    "\n",
    "page = requests.get('https://skillbox.ru').content.decode('UTF-8')\n",
    "html_tree = html.fromstring(page)\n",
    "items = html_tree.xpath(\"//a[contains(@class, '{}')]\".format('tab tab--link tab--main'))\n",
    "\n",
    "print('Список курсов по разделам:\\n')\n",
    "\n",
    "for item in items:\n",
    "    cur_link = item.attrib['href']\n",
    "    print('\\n' + item.text.replace('\\n', '').strip() + ': \\n')\n",
    "\n",
    "    page = requests.get('https://skillbox.ru' + cur_link).content\n",
    "    pageStr = page.decode(\"utf-8\")\n",
    "\n",
    "    # parser = html.HTMLParser(encoding='utf-8')\n",
    "    html_tree = html.fromstring(pageStr)\n",
    "\n",
    "    courses_list = html_tree.xpath(\"//div[@class='{}'] \".format('courses-list'))\n",
    "\n",
    "    for course in courses_list:\n",
    "        course_tags = course.xpath(\"//a[@class='{}']\".format('hover-card line-card line-card--add'))\n",
    "        for course_tag in course_tags:\n",
    "            title_xpath = course_tag.xpath(\"div/b[@class='{}']\".format('line-card__title hover-card__text'))\n",
    "            # title = title_xpath[0].text[6:-5]\n",
    "            title = title_xpath[0].text.replace('\\n', '').strip()\n",
    "            link = course_tag.attrib['href']\n",
    "            print(f'Курс: {title}, link: {link}')"
   ]
  },
  {
   "cell_type": "markdown",
   "metadata": {},
   "source": [
    "### 4.3\n",
    "**Задание высокого уровня**. Напишите код, который переходит по ссылкам на страницы курсов по программированию из предыдущего задания и распечатывает описание курса."
   ]
  },
  {
   "cell_type": "code",
   "execution_count": 140,
   "metadata": {
    "scrolled": true
   },
   "outputs": [
    {
     "data": {
      "text/html": [
       "<div>\n",
       "<style scoped>\n",
       "    .dataframe tbody tr th:only-of-type {\n",
       "        vertical-align: middle;\n",
       "    }\n",
       "\n",
       "    .dataframe tbody tr th {\n",
       "        vertical-align: top;\n",
       "    }\n",
       "\n",
       "    .dataframe thead th {\n",
       "        text-align: right;\n",
       "    }\n",
       "</style>\n",
       "<table border=\"1\" class=\"dataframe\">\n",
       "  <thead>\n",
       "    <tr style=\"text-align: right;\">\n",
       "      <th></th>\n",
       "      <th>link</th>\n",
       "      <th>descr</th>\n",
       "    </tr>\n",
       "  </thead>\n",
       "  <tbody>\n",
       "    <tr>\n",
       "      <th>0</th>\n",
       "      <td>https://skillbox.ru/course/webdev/</td>\n",
       "      <td>Вы научитесь верстать сайты на HTML и CSS, изу...</td>\n",
       "    </tr>\n",
       "    <tr>\n",
       "      <th>1</th>\n",
       "      <td>https://skillbox.ru/course/java/</td>\n",
       "      <td>Вы научитесь писать код и создавать сайты на с...</td>\n",
       "    </tr>\n",
       "    <tr>\n",
       "      <th>2</th>\n",
       "      <td>https://skillbox.ru/course/python/</td>\n",
       "      <td>Вы научитесь писать чистый код и создавать сло...</td>\n",
       "    </tr>\n",
       "    <tr>\n",
       "      <th>3</th>\n",
       "      <td>https://skillbox.ru/python-data/</td>\n",
       "      <td>Освойте Python и делайте свою работу в несколь...</td>\n",
       "    </tr>\n",
       "    <tr>\n",
       "      <th>4</th>\n",
       "      <td>https://skillbox.ru/course/frontend-developer/</td>\n",
       "      <td>Вы изучите основы HTML, CSS и JavaScript, науч...</td>\n",
       "    </tr>\n",
       "  </tbody>\n",
       "</table>\n",
       "</div>"
      ],
      "text/plain": [
       "                                             link  \\\n",
       "0              https://skillbox.ru/course/webdev/   \n",
       "1                https://skillbox.ru/course/java/   \n",
       "2              https://skillbox.ru/course/python/   \n",
       "3                https://skillbox.ru/python-data/   \n",
       "4  https://skillbox.ru/course/frontend-developer/   \n",
       "\n",
       "                                               descr  \n",
       "0  Вы научитесь верстать сайты на HTML и CSS, изу...  \n",
       "1  Вы научитесь писать код и создавать сайты на с...  \n",
       "2  Вы научитесь писать чистый код и создавать сло...  \n",
       "3  Освойте Python и делайте свою работу в несколь...  \n",
       "4  Вы изучите основы HTML, CSS и JavaScript, науч...  "
      ]
     },
     "execution_count": 140,
     "metadata": {},
     "output_type": "execute_result"
    }
   ],
   "source": [
    "import requests\n",
    "from lxml import html\n",
    "import pandas as pd\n",
    "\n",
    "links = []\n",
    "descr = []\n",
    "\n",
    "page = requests.get('https://skillbox.ru/code/').content.decode('utf-8')\n",
    "html_tree = html.fromstring(page)\n",
    "\n",
    "courses_list = html_tree.xpath(\"//div[@class='{}'] \".format('courses-list'))\n",
    "\n",
    "for course in courses_list:\n",
    "    course_tags = course.xpath(\"//a[@class='{}']\".format('hover-card line-card line-card--add'))\n",
    "    for course_tag in course_tags:\n",
    "        cur_link = course_tag.attrib['href']\n",
    "        links.append(cur_link)\n",
    "\n",
    "        course_page = requests.get(cur_link).content.decode('utf-8')\n",
    "        course_html_tree = html.fromstring(course_page)\n",
    "        cur_descr = course_html_tree.xpath(\"//p[@class='{}'] \".format('start-screen__desc'))[0].text.strip()\n",
    "        descr.append(cur_descr)\n",
    "\n",
    "result_df = pd.DataFrame({\n",
    "    'link': links,\n",
    "    'descr': descr\n",
    "})\n",
    "\n",
    "result_df.head()"
   ]
  },
  {
   "cell_type": "markdown",
   "metadata": {},
   "source": [
    "## 5. Работа с данными формата XML"
   ]
  },
  {
   "cell_type": "markdown",
   "metadata": {},
   "source": [
    "### 5.1\n",
    "\n",
    "**Задание начального уровня** Распечатайте все фильмы (а не только драмы) в формате: `название фильма: жанр`"
   ]
  },
  {
   "cell_type": "code",
   "execution_count": 143,
   "metadata": {},
   "outputs": [
    {
     "name": "stdout",
     "output_type": "stream",
     "text": [
      "The Shawshank Redemption: drama\n",
      "The Dark Knight: drama\n",
      "\"Back 2 the Future\": unknown\n"
     ]
    }
   ],
   "source": [
    "from xml.etree import ElementTree\n",
    "\n",
    "file_path = './data/xml_content_description.xml'\n",
    "\n",
    "with open(file_path) as f:\n",
    "    doc = ElementTree.parse(f)\n",
    "    content_titles = doc.getroot()\n",
    "    for movie in content_titles.findall('./Content/content_title'):\n",
    "        genre = 'unknown'\n",
    "        if movie.find('./genre') is not None:\n",
    "            genre = movie.find('./genre').text\n",
    "        print(movie.find('./title').text + ': ' + genre)"
   ]
  },
  {
   "cell_type": "markdown",
   "metadata": {},
   "source": [
    "### 5.2\n",
    "**Задание среднего уровня** Посчитайте среднюю длительность контента в файле. xml_content_description"
   ]
  },
  {
   "cell_type": "code",
   "execution_count": 147,
   "metadata": {
    "scrolled": true
   },
   "outputs": [
    {
     "name": "stdout",
     "output_type": "stream",
     "text": [
      "avg_duration=8820.0\n"
     ]
    }
   ],
   "source": [
    "import math\n",
    "from xml.etree import ElementTree\n",
    "\n",
    "file_path = './data/xml_content_description.xml'\n",
    "duration = []\n",
    "\n",
    "num_content = 0\n",
    "\n",
    "with open(file_path) as f:\n",
    "    doc = ElementTree.parse(f)\n",
    "    content_titles = doc.getroot()\n",
    "    for movie in content_titles.findall('./Content/content_title'):\n",
    "        if movie.find('./duration') is not None:\n",
    "            num_content += 1 # Контентом для вычислений считаем только те фильмы, у который duration указан\n",
    "            duration.append(int(movie.find('./duration').text))\n",
    "\n",
    "if num_content:\n",
    "    print(\"avg_duration={}\".format(sum(duration)/num_content))"
   ]
  },
  {
   "cell_type": "markdown",
   "metadata": {},
   "source": [
    "### 5.3\n",
    "**Задание высокого уровня** Если речь идёт о продакшн-системах машинного обучения, то данные могут приходить в форматах, мало пригодных для использования - например XML. В таких случаях приходится приводить данные к превычному табличному формату - такой кейс мы решим в рамках домашней работы.\n",
    "\n",
    "Нужно определить, сколько полей будет в выходном файле и как залить в него данные\n",
    "\n",
    "Алгоритм\n",
    "* сформируйте массив словарей `content_list`, где каждый элемент массива - это словарь вида `{tag1: value1,...,tag_n:value_n}`\n",
    "* каждый результат findall можно итеративно обойти, распечатав тэг и его значение в виде\n",
    "<pre>\n",
    "        for i in movie:\n",
    "            print(i.text, i.tag)\n",
    "</pre>\n",
    "* из полученного словаря сформируйте DataFrame с тремя колонками: `movie_id | tag | value` (movie_id соответствует номеру словаря среди всех словарей `content_list`)\n",
    "* сохраните Dataframe c помощью функции `.to_csv()`"
   ]
  },
  {
   "cell_type": "code",
   "execution_count": 195,
   "metadata": {},
   "outputs": [],
   "source": [
    "import pandas as pd\n",
    "import numpy as np\n",
    "from xml.etree import ElementTree\n",
    "\n",
    "# имя входного файла XML\n",
    "input_file = './data/xml_content_description.xml'\n",
    "# имя выходного файла CSV\n",
    "output_file = 'csv_content_description.csv'\n",
    "content_list = []\n",
    "\n",
    "with open(input_file) as f:\n",
    "    doc = ElementTree.parse(f)\n",
    "    content_titles = doc.getroot()\n",
    "    for movie in content_titles.findall('./Content/content_title'):\n",
    "        cur_dict = dict()\n",
    "        for i in movie:\n",
    "            cur_dict.setdefault(i.tag, i.text)\n",
    "        content_list.append(cur_dict)\n",
    "\n",
    "# Почему-то варианты с append-ом у меня не работали.\n",
    "# df = pd.DataFrame(columns = ['movie_id', 'tag', 'value'])\n",
    "# for counter, cur_dict in enumerate(content_list):\n",
    "#    d = {'movie_id': counter, 'tag': list(cur_dict.keys()), 'value': list(cur_dict.values())}\n",
    "#     df_tmp = pd.DataFrame(data=d)\n",
    "#     df.append(df_tmp)\n",
    "#     df.append(d, ignore_index=True)\n",
    "        \n",
    "df = pd.concat([pd.DataFrame(data={'movie_id': counter, \n",
    "                              'tag': list(cur_dict.keys()), \n",
    "                              'value': list(cur_dict.values())}, \n",
    "                        columns=['movie_id', 'tag', 'value']) for counter, cur_dict in enumerate(content_list)],\n",
    "          ignore_index=True)\n",
    "df.to_csv(output_file)"
   ]
  },
  {
   "cell_type": "code",
   "execution_count": null,
   "metadata": {},
   "outputs": [],
   "source": []
  }
 ],
 "metadata": {
  "kernelspec": {
   "display_name": "Python 3",
   "language": "python",
   "name": "python3"
  },
  "language_info": {
   "codemirror_mode": {
    "name": "ipython",
    "version": 3
   },
   "file_extension": ".py",
   "mimetype": "text/x-python",
   "name": "python",
   "nbconvert_exporter": "python",
   "pygments_lexer": "ipython3",
   "version": "3.7.6"
  }
 },
 "nbformat": 4,
 "nbformat_minor": 2
}
