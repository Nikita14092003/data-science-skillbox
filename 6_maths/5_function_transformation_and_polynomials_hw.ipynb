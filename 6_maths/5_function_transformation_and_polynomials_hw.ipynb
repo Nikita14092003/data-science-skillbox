{
 "cells": [
  {
   "cell_type": "markdown",
   "metadata": {
    "colab_type": "text",
    "id": "yyo73hwFEoJt"
   },
   "source": [
    "## Преобразования функций и полиномы. Домашнее задание\n",
    "\n",
    "С помощью SymPy найдите полиномы, описывающие данные наборы точек. Затем проведите полное исследование каждого полученного полинома: проверьте четность/нечетность, найдите нули, промежутки знакопостоянства. Постройте их графики. С помощью изменения промежутка для х добейтесь того, чтобы все нули были отображены на графике функции.<br><br>\n",
    "Средний уровень <br><br>\n",
    "$(-2, 2), (-1, 1), (0, 0), (1, 1), (2, 2)$<br><br>\n",
    "Сложный уровень <br><br>\n",
    "$(-3, 33), (-2, 31), (-1, 18), (1, -18), (2, -31), (3, -33)$\n"
   ]
  },
  {
   "cell_type": "code",
   "execution_count": 1,
   "metadata": {
    "colab": {},
    "colab_type": "code",
    "id": "bVBLXKfjEiEA"
   },
   "outputs": [],
   "source": [
    "from sympy import *\n",
    "from sympy.plotting import plot\n",
    "from sympy.solvers.inequalities import solve_univariate_inequality\n",
    "\n",
    "init_printing(use_unicode=False, wrap_line=False, no_global=True)"
   ]
  },
  {
   "cell_type": "code",
   "execution_count": 23,
   "metadata": {},
   "outputs": [],
   "source": [
    "# когда устал от математики и хочешь что-нибудь написать =)\n",
    "def check_parity(f, symbol, values):\n",
    "    is_parity = True\n",
    "    if isinstance(values, int):\n",
    "        return check_parity_on_one_value(f, symbol, values)\n",
    "    elif isinstance(values, list) and len(values) > 0:\n",
    "        is_parity, is_oddness = True, True\n",
    "        for value in values:\n",
    "            cur_parity, cur_oddness = check_parity_on_one_value(f, symbol, value)\n",
    "            is_parity = is_parity&cur_parity\n",
    "            is_oddness = is_oddness&cur_oddness\n",
    "        return is_parity, is_oddness\n",
    "    else:\n",
    "        return False, False\n",
    "            \n",
    "        \n",
    "def check_parity_on_one_value(f, symbol, value):\n",
    "    val1 = f.subs(symbol, value)\n",
    "    val2 = f.subs(symbol, (-1)*value)\n",
    "    is_parity = (val1 == val2)\n",
    "    is_oddness = (val1 == (-1)*val2)\n",
    "    \n",
    "    return is_parity, is_oddness"
   ]
  },
  {
   "cell_type": "code",
   "execution_count": 95,
   "metadata": {},
   "outputs": [],
   "source": [
    "def print_params(f):\n",
    "    plot(f)\n",
    "    print('Нули функции')\n",
    "    print(solve(f))\n",
    "    for res in solve(f):\n",
    "        print(res.evalf())\n",
    "\n",
    "    print('\\nПромежутки знакопостоянства: ')\n",
    "    print('f > 0:', solve_univariate_inequality(f > 0, x))\n",
    "    print('f < 0:', solve_univariate_inequality(f < 0, x))\n",
    "    \n",
    "    #is_parity, is_oddness = check_parity(f, x, [1, 5, 86])\n",
    "    is_parity = (f == f.subs(x, -x))\n",
    "    is_oddness = (f == (-1)*f.subs(x, -x))\n",
    "    \n",
    "    print(f\"\\nФункция {'' if is_parity else 'не '}является четной\")\n",
    "    print(f\"\\nФункция {'' if is_oddness else 'не '}является нечетной\")"
   ]
  },
  {
   "cell_type": "code",
   "execution_count": 77,
   "metadata": {},
   "outputs": [],
   "source": [
    "x, y = symbols('x, y', real=True)\n",
    "a0, a1, a2, a3, a4, a5 = symbols('a0, a1, a2, a3, a4, a5', real=True)"
   ]
  },
  {
   "cell_type": "code",
   "execution_count": 78,
   "metadata": {},
   "outputs": [],
   "source": [
    "pol_pow4 = a4*x**4 + a3*x**3 + a2*x**2 + a1*x + a0\n",
    "pol_pow5 = a5*x**5 + a4*x**4 + a3*x**3 + a2*x**2 + a1*x + a0\n",
    "eq_lp_pow4 = pol_pow4 - y\n",
    "eq_lp_pow5 = pol_pow5 - y"
   ]
  },
  {
   "cell_type": "code",
   "execution_count": 79,
   "metadata": {},
   "outputs": [
    {
     "data": {
      "image/png": "[encoded data removed]",
      "text/latex": [
       "$\\displaystyle a_{0} + a_{1} x + a_{2} x^{2} + a_{3} x^{3} + a_{4} x^{4}$"
      ],
      "text/plain": [
       "                2       3       4\n",
       "a0 + a1*x + a2*x  + a3*x  + a4*x "
      ]
     },
     "execution_count": 79,
     "metadata": {},
     "output_type": "execute_result"
    }
   ],
   "source": [
    "pol_pow4"
   ]
  },
  {
   "cell_type": "code",
   "execution_count": 80,
   "metadata": {},
   "outputs": [
    {
     "data": {
      "image/png": "[encoded data removed]",
      "text/latex": [
       "$\\displaystyle a_{0} + a_{1} x + a_{2} x^{2} + a_{3} x^{3} + a_{4} x^{4} + a_{5} x^{5}$"
      ],
      "text/plain": [
       "                2       3       4       5\n",
       "a0 + a1*x + a2*x  + a3*x  + a4*x  + a5*x "
      ]
     },
     "execution_count": 80,
     "metadata": {},
     "output_type": "execute_result"
    }
   ],
   "source": [
    "pol_pow5"
   ]
  },
  {
   "cell_type": "code",
   "execution_count": 81,
   "metadata": {},
   "outputs": [
    {
     "data": {
      "image/png": "[encoded data removed]",
      "text/latex": [
       "$\\displaystyle \\left\\{\\left( - \\frac{1}{6}, \\  0, \\  \\frac{7}{6}, \\  0, \\  0\\right)\\right\\}$"
      ],
      "text/plain": [
       "{(-1/6, 0, 7/6, 0, 0)}"
      ]
     },
     "execution_count": 81,
     "metadata": {},
     "output_type": "execute_result"
    }
   ],
   "source": [
    "list_k = (a4, a3, a2, a1, a0)\n",
    "list_solve = nonlinsolve((eq_lp_pow4.subs({x: -2, y: 2}), \n",
    "            eq_lp_pow4.subs({x: -1, y: 1}), \n",
    "            eq_lp_pow4.subs({x: 0, y: 0}),\n",
    "            eq_lp_pow4.subs({x: 1, y: 1}),\n",
    "            eq_lp_pow4.subs({x: 2, y: 2})), list_k)\n",
    "list_solve"
   ]
  },
  {
   "cell_type": "code",
   "execution_count": 82,
   "metadata": {},
   "outputs": [
    {
     "data": {
      "image/png": "[encoded data removed]",
      "text/latex": [
       "$\\displaystyle - \\frac{x^{4}}{6} + \\frac{7 x^{2}}{6}$"
      ],
      "text/plain": [
       "   4      2\n",
       "  x    7*x \n",
       "- -- + ----\n",
       "  6     6  "
      ]
     },
     "execution_count": 82,
     "metadata": {},
     "output_type": "execute_result"
    }
   ],
   "source": [
    "f_pow4 = pol_pow4.subs(dict(zip(list_k, list_solve.args[0])))\n",
    "f_pow4"
   ]
  },
  {
   "cell_type": "code",
   "execution_count": 96,
   "metadata": {},
   "outputs": [
    {
     "data": {
      "image/png": "[encoded data removed]",
      "text/plain": [
       "<Figure size 432x288 with 1 Axes>"
      ]
     },
     "metadata": {
      "needs_background": "light"
     },
     "output_type": "display_data"
    },
    {
     "name": "stdout",
     "output_type": "stream",
     "text": [
      "Нули функции\n",
      "[0, -sqrt(7), sqrt(7)]\n",
      "0\n",
      "-2.64575131106459\n",
      "2.64575131106459\n",
      "\n",
      "Промежутки знакопостоянства: \n",
      "f > 0: ((0 < x) & (x < sqrt(7))) | ((x < 0) & (-sqrt(7) < x))\n",
      "f < 0: (sqrt(7) < x) | (x < -sqrt(7))\n",
      "\n",
      "Функция является четной\n",
      "\n",
      "Функция не является нечетной\n"
     ]
    }
   ],
   "source": [
    "print_params(f_pow4)"
   ]
  },
  {
   "cell_type": "code",
   "execution_count": 84,
   "metadata": {},
   "outputs": [
    {
     "data": {
      "image/png": "[encoded data removed]",
      "text/plain": [
       "<Figure size 432x288 with 1 Axes>"
      ]
     },
     "metadata": {
      "needs_background": "light"
     },
     "output_type": "display_data"
    },
    {
     "data": {
      "text/plain": [
       "<sympy.plotting.plot.Plot at 0xd58be88>"
      ]
     },
     "execution_count": 84,
     "metadata": {},
     "output_type": "execute_result"
    }
   ],
   "source": [
    "# посмотрим поближе на нули\n",
    "plot(f_pow4, ylim=(0, 2))"
   ]
  },
  {
   "cell_type": "code",
   "execution_count": 85,
   "metadata": {},
   "outputs": [
    {
     "data": {
      "image/png": "[encoded data removed]",
      "text/latex": [
       "$\\displaystyle \\left\\{\\left( \\frac{1}{120}, \\  0, \\  \\frac{19}{24}, \\  0, \\  - \\frac{94}{5}, \\  0\\right)\\right\\}$"
      ],
      "text/plain": [
       "            19               \n",
       "{(1/120, 0, --, 0, -94/5, 0)}\n",
       "            24               "
      ]
     },
     "execution_count": 85,
     "metadata": {},
     "output_type": "execute_result"
    }
   ],
   "source": [
    "# это, конечно, тоже можно было бы упросить передачей пар значений, которые надо подставить.\n",
    "list_k = (a5, a4, a3, a2, a1, a0)\n",
    "list_solve = nonlinsolve((eq_lp_pow5.subs({x: -3, y: 33}), \n",
    "            eq_lp_pow5.subs({x: -2, y: 31}), \n",
    "            eq_lp_pow5.subs({x: -1, y: 18}),\n",
    "            eq_lp_pow5.subs({x: 1, y: -18}),\n",
    "            eq_lp_pow5.subs({x: 2, y: -31}),\n",
    "            eq_lp_pow5.subs({x: 3, y: -33})), list_k)\n",
    "list_solve"
   ]
  },
  {
   "cell_type": "code",
   "execution_count": 86,
   "metadata": {},
   "outputs": [
    {
     "data": {
      "image/png": "[encoded data removed]",
      "text/latex": [
       "$\\displaystyle \\frac{x^{5}}{120} + \\frac{19 x^{3}}{24} - \\frac{94 x}{5}$"
      ],
      "text/plain": [
       "  5       3       \n",
       " x    19*x    94*x\n",
       "--- + ----- - ----\n",
       "120     24     5  "
      ]
     },
     "execution_count": 86,
     "metadata": {},
     "output_type": "execute_result"
    }
   ],
   "source": [
    "f_pow5 = pol_pow5.subs(dict(zip(list_k, list_solve.args[0])))\n",
    "f_pow5"
   ]
  },
  {
   "cell_type": "code",
   "execution_count": 97,
   "metadata": {},
   "outputs": [
    {
     "data": {
      "image/png": "[encoded data removed]",
      "text/plain": [
       "<Figure size 432x288 with 1 Axes>"
      ]
     },
     "metadata": {
      "needs_background": "light"
     },
     "output_type": "display_data"
    },
    {
     "name": "stdout",
     "output_type": "stream",
     "text": [
      "Нули функции\n",
      "[0, -sqrt(-95/2 + sqrt(18049)/2), sqrt(-95/2 + sqrt(18049)/2)]\n",
      "0\n",
      "-4.43545751638198\n",
      "4.43545751638198\n",
      "\n",
      "Промежутки знакопостоянства: \n",
      "f > 0: (sqrt(-95/2 + sqrt(18049)/2) < x) | ((x < 0) & (-sqrt(-95/2 + sqrt(18049)/2) < x))\n",
      "f < 0: (x < -sqrt(-95/2 + sqrt(18049)/2)) | ((0 < x) & (x < sqrt(-95/2 + sqrt(18049)/2)))\n",
      "\n",
      "Функция не является четной\n",
      "\n",
      "Функция является нечетной\n"
     ]
    }
   ],
   "source": [
    "print_params(f_pow5)"
   ]
  }
 ],
 "metadata": {
  "colab": {
   "collapsed_sections": [],
   "name": "Преобразования функций и полиномы. Домашнее задание.ipynb",
   "provenance": []
  },
  "kernelspec": {
   "display_name": "Python 3",
   "language": "python",
   "name": "python3"
  },
  "language_info": {
   "codemirror_mode": {
    "name": "ipython",
    "version": 3
   },
   "file_extension": ".py",
   "mimetype": "text/x-python",
   "name": "python",
   "nbconvert_exporter": "python",
   "pygments_lexer": "ipython3",
   "version": "3.7.6"
  }
 },
 "nbformat": 4,
 "nbformat_minor": 1
}
