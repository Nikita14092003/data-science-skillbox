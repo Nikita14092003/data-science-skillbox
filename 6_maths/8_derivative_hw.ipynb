{
 "cells": [
  {
   "cell_type": "markdown",
   "metadata": {},
   "source": [
    "$f'(x)=\\left(6^x + 3x^3 + 5\\right)'=6^xlnx + 9x^2$"
   ]
  },
  {
   "cell_type": "markdown",
   "metadata": {},
   "source": [
    "$f'(x)=\\left(5xe^x\\right)'=5e^x + 5xe^x = 5e^x(1 + x)$"
   ]
  },
  {
   "cell_type": "markdown",
   "metadata": {},
   "source": [
    "$f'(x)=\\left(\\pi^x + 2sinx\\right)'=\\pi^xln\\pi + 2cosx$"
   ]
  },
  {
   "cell_type": "markdown",
   "metadata": {},
   "source": [
    "$f'(x)=\\left(\\frac{x^2}{sinx}\\right)'=\\frac{2xsinx - x^2cosx}{(sinx)^2}$"
   ]
  },
  {
   "cell_type": "markdown",
   "metadata": {},
   "source": [
    "$f'(x)=\\left(e^{2x}\\right)'=2e^{2x}$"
   ]
  },
  {
   "cell_type": "markdown",
   "metadata": {},
   "source": [
    "$f'(x)=\\left(\\frac{5x^3}{e^{3x}}\\right)'=\\frac{15x^2e^{3x}-5x^33e^{3x}}{e^{6x}}=\\frac{15x^2e^{3x}(1-x)}{e^{3x}e^{3x}} = \\frac{15x^2(1-x)}{e^{3x}}$"
   ]
  },
  {
   "cell_type": "markdown",
   "metadata": {},
   "source": [
    "$f'(x)=\\left(2\\left(\\frac{5}{2}-x\\right)^2\\right)'=4\\left(\\frac{5}{2}-x\\right)\\left(-1\\right)=4x-10$"
   ]
  },
  {
   "cell_type": "markdown",
   "metadata": {},
   "source": [
    "$f'(x)=\\left(e^{x^2}\\right)'=2xe^{x^2}$"
   ]
  },
  {
   "cell_type": "markdown",
   "metadata": {},
   "source": [
    "$f'(x)=\\left(5^{7x^3 + 5}\\right)'=21x^2 5^{7x^3 + 5}ln5$"
   ]
  },
  {
   "cell_type": "markdown",
   "metadata": {},
   "source": [
    "$f'(x)=\\left(sin\\left(3x^5 + e^{2x}\\right)\\right)'=cos\\left(3x^5 + e^{2x}\\right)\\left(15x^4 + 2e^{2x}\\right)$"
   ]
  }
 ],
 "metadata": {
  "kernelspec": {
   "display_name": "Python 3",
   "language": "python",
   "name": "python3"
  },
  "language_info": {
   "codemirror_mode": {
    "name": "ipython",
    "version": 3
   },
   "file_extension": ".py",
   "mimetype": "text/x-python",
   "name": "python",
   "nbconvert_exporter": "python",
   "pygments_lexer": "ipython3",
   "version": "3.7.6"
  }
 },
 "nbformat": 4,
 "nbformat_minor": 4
}
