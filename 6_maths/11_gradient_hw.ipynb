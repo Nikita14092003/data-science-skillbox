{
 "cells": [
  {
   "cell_type": "code",
   "execution_count": 43,
   "metadata": {},
   "outputs": [],
   "source": [
    "import numpy as np"
   ]
  },
  {
   "cell_type": "markdown",
   "metadata": {},
   "source": [
    "# Задание 1\n",
    "1. $ 3 \\times (2, 5, 0, 6, 8, 10, 6, 7, 5, 7) \\times 2 \\times (8, 6, 7, 9, 6, 6, 2, 3, 2, 3) = 3\\cdot2\\cdot(2\\cdot8 + 5\\cdot6 + 0 + 6\\cdot9 + 8\\cdot6 + 10\\cdot6 + 6\\cdot2 + 7\\cdot3 + 5\\cdot2 + 7\\cdot3) = 6\\cdot272 = 1632$\n",
    "\n",
    "2. $ 6 \\times (9, 6, 7, 7, 0, 1, 6, 8, 1, 2) \\times 5 \\times (0, 2, 2, 6, 7, 8, 8, 3, 1, 8) = 6\\cdot5\\cdot(9\\cdot0 + 6\\cdot2 + 7\\cdot2 + 7\\cdot6 + 0\\cdot7 + 1\\cdot8 + 6\\cdot8 + 8\\cdot3 + 1\\cdot1 + 2\\cdot8) = 30\\cdot165 = 4950 $\n",
    "\n",
    "3. $ (2, 5, 0, 6, 8, 10, 6, 7, 5, 7) \\times (8, 6, 7, 9, 6, 6, 2, 3, 2, 3) = 272$\n",
    "\n",
    "4. $ (9, 6, 7, 7, 0, 1, 6, 8, 1, 2) \\times (0, 2, 2, 6, 7, 8, 8, 3, 1, 8) = 165$"
   ]
  },
  {
   "cell_type": "code",
   "execution_count": 11,
   "metadata": {},
   "outputs": [
    {
     "data": {
      "text/plain": [
       "272"
      ]
     },
     "execution_count": 11,
     "metadata": {},
     "output_type": "execute_result"
    }
   ],
   "source": [
    "(2*8 + 5*6 + 0 + 6*9 + 8*6 + 10*6 + 6*2 + 7*3 + 5*2 + 7*3)"
   ]
  },
  {
   "cell_type": "code",
   "execution_count": 12,
   "metadata": {},
   "outputs": [
    {
     "data": {
      "text/plain": [
       "1632"
      ]
     },
     "execution_count": 12,
     "metadata": {},
     "output_type": "execute_result"
    }
   ],
   "source": [
    "6*272"
   ]
  },
  {
   "cell_type": "code",
   "execution_count": 13,
   "metadata": {},
   "outputs": [
    {
     "data": {
      "text/plain": [
       "165"
      ]
     },
     "execution_count": 13,
     "metadata": {},
     "output_type": "execute_result"
    }
   ],
   "source": [
    "(9*0 + 6*2 + 7*2 + 7*6 + 0*7 + 1*8 + 6*8 + 8*3 + 1*1 + 2*8)"
   ]
  },
  {
   "cell_type": "code",
   "execution_count": 14,
   "metadata": {},
   "outputs": [
    {
     "data": {
      "text/plain": [
       "4950"
      ]
     },
     "execution_count": 14,
     "metadata": {},
     "output_type": "execute_result"
    }
   ],
   "source": [
    "30*165"
   ]
  },
  {
   "cell_type": "code",
   "execution_count": 44,
   "metadata": {},
   "outputs": [],
   "source": [
    "arr1 = np.array([2, 5, 0, 6, 8, 10, 6, 7, 5, 7])\n",
    "arr2 = np.array([8, 6, 7, 9, 6, 6, 2, 3, 2, 3])\n",
    "arr3 = np.array([9, 6, 7, 7, 0, 1, 6, 8, 1, 2])\n",
    "arr4 = np.array([0, 2, 2, 6, 7, 8, 8, 3, 1, 8])"
   ]
  },
  {
   "cell_type": "code",
   "execution_count": 50,
   "metadata": {},
   "outputs": [
    {
     "name": "stdout",
     "output_type": "stream",
     "text": [
      "272\n"
     ]
    },
    {
     "data": {
      "text/plain": [
       "1632"
      ]
     },
     "execution_count": 50,
     "metadata": {},
     "output_type": "execute_result"
    }
   ],
   "source": [
    "tmp = np.sum(arr1*arr2)\n",
    "print(tmp)\n",
    "3*2*tmp"
   ]
  },
  {
   "cell_type": "code",
   "execution_count": 51,
   "metadata": {},
   "outputs": [
    {
     "name": "stdout",
     "output_type": "stream",
     "text": [
      "165\n"
     ]
    },
    {
     "data": {
      "text/plain": [
       "4950"
      ]
     },
     "execution_count": 51,
     "metadata": {},
     "output_type": "execute_result"
    }
   ],
   "source": [
    "tmp = np.sum(arr3*arr4)\n",
    "print(tmp)\n",
    "6*5*tmp"
   ]
  },
  {
   "cell_type": "markdown",
   "metadata": {},
   "source": [
    "# Задание 2"
   ]
  },
  {
   "cell_type": "code",
   "execution_count": 7,
   "metadata": {},
   "outputs": [],
   "source": [
    "def transp(A):\n",
    "    A_tr = np.zeros((A.shape[1], A.shape[0]), dtype=np.int8)\n",
    "\n",
    "    for i in range(A.shape[0]):\n",
    "        for j in range(A.shape[1]):\n",
    "            A_tr[j, i] = A[i, j]\n",
    "    return A_tr"
   ]
  },
  {
   "cell_type": "code",
   "execution_count": 8,
   "metadata": {},
   "outputs": [
    {
     "data": {
      "text/plain": [
       "array([[ 2,  5,  9, 11],\n",
       "       [ 1,  6,  8, 14],\n",
       "       [ 7,  7,  2, 15],\n",
       "       [ 4,  3, 12, 15]], dtype=int8)"
      ]
     },
     "execution_count": 8,
     "metadata": {},
     "output_type": "execute_result"
    }
   ],
   "source": [
    "array_1 = np.array([\n",
    "    [2, 1, 7, 4],\n",
    "    [5, 6, 7, 3],\n",
    "    [9, 8, 2, 12],\n",
    "    [11, 14, 15, 15]\n",
    "])\n",
    "transp(array_1)"
   ]
  },
  {
   "cell_type": "code",
   "execution_count": 10,
   "metadata": {},
   "outputs": [
    {
     "data": {
      "text/plain": [
       "array([[ 3,  2],\n",
       "       [ 7,  5],\n",
       "       [ 8,  9],\n",
       "       [ 3,  4],\n",
       "       [ 6, 13]], dtype=int8)"
      ]
     },
     "execution_count": 10,
     "metadata": {},
     "output_type": "execute_result"
    }
   ],
   "source": [
    "array_2 = np.array([\n",
    "    [3, 7, 8, 3, 6],\n",
    "    [2, 5, 9, 4, 13]\n",
    "])\n",
    "transp(array_2)"
   ]
  },
  {
   "cell_type": "markdown",
   "metadata": {},
   "source": [
    "# Задание 3"
   ]
  },
  {
   "cell_type": "code",
   "execution_count": 15,
   "metadata": {},
   "outputs": [],
   "source": [
    "from sympy import *"
   ]
  },
  {
   "cell_type": "code",
   "execution_count": 16,
   "metadata": {},
   "outputs": [],
   "source": [
    "x1, x2, y = symbols('x1, x2, y')\n",
    "a0, a1, a2 = symbols('a0, a1, a2')"
   ]
  },
  {
   "cell_type": "code",
   "execution_count": 42,
   "metadata": {},
   "outputs": [],
   "source": [
    "# f = a2*x2 + a1*x1\n",
    "# list_xy = [x2, x1, y]"
   ]
  },
  {
   "cell_type": "code",
   "execution_count": 64,
   "metadata": {},
   "outputs": [],
   "source": [
    "arr_values = np.array([\n",
    "    [2, 1, 5],\n",
    "    [3, 5, 6],\n",
    "    [4, 2, 10],\n",
    "    [7, 3, 8]\n",
    "])"
   ]
  },
  {
   "cell_type": "code",
   "execution_count": 40,
   "metadata": {},
   "outputs": [],
   "source": [
    "def calc_MSE(f, arr_values):\n",
    "\n",
    "    list_xy = [x2, x1, y]\n",
    "    f_eq = f - y\n",
    "    MSE = 0\n",
    "    for row in arr_values:\n",
    "        MSE += f_eq.subs(dict(zip(list_xy, row)))**2\n",
    "\n",
    "    MSE = MSE*1/arr_values.shape[0]\n",
    "    return MSE"
   ]
  },
  {
   "cell_type": "code",
   "execution_count": 41,
   "metadata": {},
   "outputs": [
    {
     "data": {
      "text/latex": [
       "$\\displaystyle \\frac{\\left(a_{1} + 2 a_{2} - 5\\right)^{2}}{4} + \\frac{\\left(2 a_{1} + 4 a_{2} - 10\\right)^{2}}{4} + \\frac{\\left(3 a_{1} + 7 a_{2} - 8\\right)^{2}}{4} + \\frac{\\left(5 a_{1} + 3 a_{2} - 6\\right)^{2}}{4}$"
      ],
      "text/plain": [
       "(a1 + 2*a2 - 5)**2/4 + (2*a1 + 4*a2 - 10)**2/4 + (3*a1 + 7*a2 - 8)**2/4 + (5*a1 + 3*a2 - 6)**2/4"
      ]
     },
     "execution_count": 41,
     "metadata": {},
     "output_type": "execute_result"
    }
   ],
   "source": [
    "calc_MSE(f, arr_values)"
   ]
  },
  {
   "cell_type": "code",
   "execution_count": 38,
   "metadata": {},
   "outputs": [
    {
     "data": {
      "text/latex": [
       "$\\displaystyle \\frac{39 a_{1}}{2} + 23 a_{2} - \\frac{79}{2}$"
      ],
      "text/plain": [
       "39*a1/2 + 23*a2 - 79/2"
      ]
     },
     "execution_count": 38,
     "metadata": {},
     "output_type": "execute_result"
    }
   ],
   "source": [
    "diff(MSE, a1)"
   ]
  },
  {
   "cell_type": "code",
   "execution_count": 39,
   "metadata": {},
   "outputs": [
    {
     "data": {
      "text/latex": [
       "$\\displaystyle 23 a_{1} + 39 a_{2} - 62$"
      ],
      "text/plain": [
       "23*a1 + 39*a2 - 62"
      ]
     },
     "execution_count": 39,
     "metadata": {},
     "output_type": "execute_result"
    }
   ],
   "source": [
    "diff(MSE, a2)"
   ]
  },
  {
   "cell_type": "code",
   "execution_count": 69,
   "metadata": {},
   "outputs": [],
   "source": [
    "# понятно, что можно это сделать через матрицы sympy, но делала втупую немного.\n",
    "def grad_desc_linear_two_var(arr_values, first_point=np.array([0,0]), target_MSE=10, step = 0.01):\n",
    "    f = a2*x2 + a1*x1\n",
    "    list_k = [a1, a2]\n",
    "    \n",
    "    MSE = calc_MSE(f, arr_values)\n",
    "    gradient = np.array([diff(MSE, a1), diff(MSE, a2)])\n",
    "    \n",
    "    step_number = 0\n",
    "    cur_point = first_point\n",
    "    cur_MSE = MSE.subs(dict(zip(list_k, cur_point)))\n",
    "    print(f'step: {step_number}, MSE: {cur_MSE}')\n",
    "    while cur_MSE > target_MSE:\n",
    "        step_number += 1\n",
    "        anti_grad = (-1) * np.array([gradient[0].subs(dict(zip(list_k, cur_point))), \n",
    "                                     gradient[1].subs(dict(zip(list_k, cur_point)))]) * step\n",
    "        print(f'step: {step_number}, anti_grad: {anti_grad}')\n",
    "        cur_point = cur_point + anti_grad\n",
    "        cur_MSE = MSE.subs(dict(zip(list_k, cur_point)))\n",
    "        print(f'step: {step_number}, MSE: {cur_MSE}')"
   ]
  },
  {
   "cell_type": "code",
   "execution_count": 71,
   "metadata": {},
   "outputs": [
    {
     "name": "stdout",
     "output_type": "stream",
     "text": [
      "step: 0, MSE: 225/4\n",
      "step: 1, anti_grad: [0.395000000000000 0.620000000000000]\n",
      "step: 1, MSE: 16.8572437500000\n",
      "step: 2, anti_grad: [0.175375000000000 0.287350000000000]\n",
      "step: 2, MSE: 8.59365482859375\n",
      "step: 3, anti_grad: [0.0750863750000000 0.134947250000000]\n",
      "step: 3, MSE: 6.85191449679269\n",
      "step: 4, anti_grad: [0.0294066643750000 0.0650479562500000]\n",
      "step: 4, MSE: 6.47725148826285\n",
      "step: 5, anti_grad: [0.00871133488437501 0.0329157205062501]\n",
      "step: 5, MSE: 6.38978037646670\n",
      "step: 6, anti_grad: [-0.000557991134515632 0.0180749824854063]\n",
      "step: 6, MSE: 6.36322055427526\n",
      "step: 7, anti_grad: [-0.00460642883492852 0.0111540772770364]\n",
      "step: 7, MSE: 6.35010849011797\n"
     ]
    }
   ],
   "source": [
    "grad_desc_linear_two_var(arr_values, target_MSE=6.36)"
   ]
  },
  {
   "cell_type": "markdown",
   "metadata": {},
   "source": [
    "7 шагов потребовалось"
   ]
  },
  {
   "cell_type": "code",
   "execution_count": null,
   "metadata": {},
   "outputs": [],
   "source": []
  }
 ],
 "metadata": {
  "kernelspec": {
   "display_name": "Python 3",
   "language": "python",
   "name": "python3"
  },
  "language_info": {
   "codemirror_mode": {
    "name": "ipython",
    "version": 3
   },
   "file_extension": ".py",
   "mimetype": "text/x-python",
   "name": "python",
   "nbconvert_exporter": "python",
   "pygments_lexer": "ipython3",
   "version": "3.7.6"
  }
 },
 "nbformat": 4,
 "nbformat_minor": 4
}
